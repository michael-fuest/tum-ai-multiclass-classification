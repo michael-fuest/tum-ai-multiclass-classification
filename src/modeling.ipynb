{
 "cells": [
  {
   "cell_type": "code",
   "execution_count": 6,
   "metadata": {},
   "outputs": [],
   "source": [
    "import pandas as pd\n",
    "import matplotlib.pyplot as plt\n",
    "import numpy as np\n",
    "import seaborn as sns\n",
    "import xgboost as xgb\n",
    "\n",
    "\n",
    "import os\n",
    "import warnings\n",
    "\n",
    "from pathlib import Path\n",
    "\n",
    "#Configurations\n",
    "warnings.filterwarnings('ignore')\n",
    "%matplotlib inline\n",
    "pd.set_option('display.max_columns', None)\n",
    "pd.set_option('display.max_rows', 50)"
   ]
  },
  {
   "attachments": {},
   "cell_type": "markdown",
   "metadata": {},
   "source": [
    "## Directories and Filenames\n",
    "Contains paths and filenames to access test and training data."
   ]
  },
  {
   "cell_type": "code",
   "execution_count": 7,
   "metadata": {},
   "outputs": [],
   "source": [
    "ROOT_DIR = Path.cwd().parent\n",
    "SRC_DIR = os.path.join(ROOT_DIR, 'src')\n",
    "DATA_DIR = os.path.join(ROOT_DIR, 'data')\n",
    "\n",
    "processed_training_data_path = os.path.join(DATA_DIR, 'train_processed.csv')\n",
    "processed_test_data_path = os.path.join(DATA_DIR, 'test_processed.csv')"
   ]
  },
  {
   "cell_type": "code",
   "execution_count": 8,
   "metadata": {},
   "outputs": [],
   "source": [
    "df_train = pd.read_csv(processed_training_data_path)\n",
    "df_unseen_test = pd.read_csv(processed_test_data_path)"
   ]
  },
  {
   "cell_type": "code",
   "execution_count": 9,
   "metadata": {},
   "outputs": [],
   "source": [
    "# x7_cols = [col for col in df_train.columns if col.startswith('x7_')]\n",
    "\n",
    "# df_train_polka = df_train[df_train['x7_Polka'] == 1]\n",
    "# df_train_polka = df_train_polka.drop(x7_cols, axis=1)\n",
    "\n",
    "# df_train_slängpolskor = df_train[df_train['x7_Slängpolskor'] == 1]\n",
    "# df_train_slängpolskor = df_train_slängpolskor.drop(x7_cols, axis=1)\n",
    "\n",
    "# df_train_schottis = df_train[df_train['x7_Schottis'] == 1]\n",
    "# df_train_schottis = df_train_schottis.drop(x7_cols, axis=1)\n",
    "\n",
    "# df_train_polskor = df_train[(df_train['x7_Polskor'] == 1) | (df_train['x7_Slängpolskor'] == 1)]\n",
    "# df_train_polskor = df_train_polskor.drop(x7_cols, axis=1)\n",
    "\n",
    "# df_train_hambo = df_train[df_train['x7_Hambo'] == 1]\n",
    "# df_train_hambo = df_train_hambo.drop(x7_cols, axis=1)\n",
    "\n",
    "# df_train_x12_1 = df_train[df_train['x12_True'] == 1]\n",
    "# df_train_x12_1 = df_train_x12_1.drop('x12_True', axis=1)\n",
    "\n",
    "# df_train_x12_0 = df_train[df_train['x12_True'] == 0]\n",
    "# df_train_x12_0 = df_train_x12_0.drop('x12_True', axis=1)"
   ]
  },
  {
   "attachments": {},
   "cell_type": "markdown",
   "metadata": {},
   "source": [
    "## Train, Validation and Test Splits & Modeling"
   ]
  },
  {
   "cell_type": "code",
   "execution_count": 10,
   "metadata": {},
   "outputs": [
    {
     "name": "stdout",
     "output_type": "stream",
     "text": [
      "Train shape: (790, 7)\n",
      "Test shape: (197, 7)\n",
      "Unseen test shape: (10000, 6)\n"
     ]
    },
    {
     "data": {
      "text/html": [
       "<div>\n",
       "<style scoped>\n",
       "    .dataframe tbody tr th:only-of-type {\n",
       "        vertical-align: middle;\n",
       "    }\n",
       "\n",
       "    .dataframe tbody tr th {\n",
       "        vertical-align: top;\n",
       "    }\n",
       "\n",
       "    .dataframe thead th {\n",
       "        text-align: right;\n",
       "    }\n",
       "</style>\n",
       "<table border=\"1\" class=\"dataframe\">\n",
       "  <thead>\n",
       "    <tr style=\"text-align: right;\">\n",
       "      <th></th>\n",
       "      <th>x4</th>\n",
       "      <th>x5</th>\n",
       "      <th>x8</th>\n",
       "      <th>x9</th>\n",
       "      <th>x10</th>\n",
       "      <th>x11</th>\n",
       "      <th>y</th>\n",
       "    </tr>\n",
       "  </thead>\n",
       "  <tbody>\n",
       "    <tr>\n",
       "      <th>0</th>\n",
       "      <td>0.041297</td>\n",
       "      <td>0.168716</td>\n",
       "      <td>1.243974</td>\n",
       "      <td>0.323734</td>\n",
       "      <td>-0.275316</td>\n",
       "      <td>-0.462594</td>\n",
       "      <td>2</td>\n",
       "    </tr>\n",
       "    <tr>\n",
       "      <th>1</th>\n",
       "      <td>0.505788</td>\n",
       "      <td>-0.394709</td>\n",
       "      <td>-0.343594</td>\n",
       "      <td>-0.401810</td>\n",
       "      <td>-0.042394</td>\n",
       "      <td>0.763768</td>\n",
       "      <td>0</td>\n",
       "    </tr>\n",
       "    <tr>\n",
       "      <th>2</th>\n",
       "      <td>0.476071</td>\n",
       "      <td>-0.055452</td>\n",
       "      <td>0.888450</td>\n",
       "      <td>0.078986</td>\n",
       "      <td>-1.363136</td>\n",
       "      <td>-0.845952</td>\n",
       "      <td>1</td>\n",
       "    </tr>\n",
       "    <tr>\n",
       "      <th>3</th>\n",
       "      <td>0.279145</td>\n",
       "      <td>-0.166733</td>\n",
       "      <td>-0.935800</td>\n",
       "      <td>-0.617531</td>\n",
       "      <td>0.041439</td>\n",
       "      <td>-0.285398</td>\n",
       "      <td>2</td>\n",
       "    </tr>\n",
       "    <tr>\n",
       "      <th>4</th>\n",
       "      <td>0.952232</td>\n",
       "      <td>-1.010925</td>\n",
       "      <td>-1.471067</td>\n",
       "      <td>1.137805</td>\n",
       "      <td>0.408868</td>\n",
       "      <td>-0.852787</td>\n",
       "      <td>1</td>\n",
       "    </tr>\n",
       "  </tbody>\n",
       "</table>\n",
       "</div>"
      ],
      "text/plain": [
       "         x4        x5        x8        x9       x10       x11  y\n",
       "0  0.041297  0.168716  1.243974  0.323734 -0.275316 -0.462594  2\n",
       "1  0.505788 -0.394709 -0.343594 -0.401810 -0.042394  0.763768  0\n",
       "2  0.476071 -0.055452  0.888450  0.078986 -1.363136 -0.845952  1\n",
       "3  0.279145 -0.166733 -0.935800 -0.617531  0.041439 -0.285398  2\n",
       "4  0.952232 -1.010925 -1.471067  1.137805  0.408868 -0.852787  1"
      ]
     },
     "execution_count": 10,
     "metadata": {},
     "output_type": "execute_result"
    }
   ],
   "source": [
    "df_test = df_train.sample(frac=0.2, random_state=42)\n",
    "df_train = df_train.drop(df_test.index)\n",
    "\n",
    "print(f\"Train shape: {df_train.shape}\")\n",
    "print(f\"Test shape: {df_test.shape}\")\n",
    "print(f\"Unseen test shape: {df_unseen_test.shape}\")\n",
    "\n",
    "df_train.head()"
   ]
  },
  {
   "cell_type": "code",
   "execution_count": 11,
   "metadata": {},
   "outputs": [],
   "source": [
    "from catboost import CatBoostClassifier\n",
    "\n",
    "def train_different_models(x_train, y_train):\n",
    "    \n",
    "    from sklearn.model_selection import GridSearchCV\n",
    "\n",
    "    xgb_model = xgb.XGBClassifier(objective='multi:softmax', random_state=42, n_jobs=-1)\n",
    "\n",
    "    xgb_parameters = {\n",
    "        'n_estimators': [30, 50, 70, 100, 200, 300],\n",
    "        'max_depth': [3, 5, 7, 8, 10, 15],\n",
    "        'learning_rate': [0.01, 0.05, 0.1, 0.15, 0.2],\n",
    "    }\n",
    "\n",
    "    cb_model = CatBoostClassifier(random_state=42, verbose=False)\n",
    "\n",
    "    # cb_parameters = {\n",
    "    #     'iterations': [ 50, 100, 300],\n",
    "    #     'depth': [5, 10, 15],\n",
    "    #     'learning_rate': [0.01, 0.1, 0.2],\n",
    "    # }\n",
    "\n",
    "\n",
    "    #Define custom scoring function according to weighted f1 score for each class\n",
    "    from sklearn.metrics import f1_score, make_scorer\n",
    "\n",
    "    def weighted_f1_score(y_true, y_pred):\n",
    "        return f1_score(y_true, y_pred, average='weighted')\n",
    "\n",
    "    scoring = make_scorer(weighted_f1_score, greater_is_better=True)\n",
    "\n",
    "    xgb_cv = GridSearchCV(xgb_model, xgb_parameters, cv=10, n_jobs=-1, scoring=scoring)\n",
    "    xgb_cv.fit(x_train, y_train)\n",
    "\n",
    "    #cb_cv = GridSearchCV(cb_model, cb_parameters, cv=5, n_jobs=-1, scoring=scoring, verbose=1)\n",
    "    # cb_cv.fit(x_train, y_train)\n",
    "    cb_model.fit(x_train, y_train)\n",
    "\n",
    "    return xgb_cv, cb_model"
   ]
  },
  {
   "cell_type": "code",
   "execution_count": 135,
   "metadata": {},
   "outputs": [],
   "source": [
    "from sklearn.model_selection import train_test_split\n",
    "from sklearn.metrics import ConfusionMatrixDisplay, confusion_matrix, classification_report, f1_score\n",
    "\n",
    "def evaluate_model(model_predictions, model_labels, model):\n",
    "    fig, ax = plt.subplots(figsize=(12, 8))\n",
    "    cm = confusion_matrix(model_labels, model_predictions)\n",
    "    cmp = ConfusionMatrixDisplay(cm, display_labels=model.classes_)\n",
    "    cmp.plot(ax=ax)\n",
    "    plt.show()\n",
    "\n",
    "    #print(classification_report(model_labels, model_predictions))\n",
    "    #print(f\"Weighted F1 Score across all classes: {f1_score(model_labels, model_predictions, average='weighted')}\")\n",
    "    return f1_score(model_labels, model_predictions, average='weighted')\n",
    "\n",
    "def train_and_evaluate_different_models_for_splits(dataframes, labels, upsample = False):\n",
    "    xgb_models = {}\n",
    "    cb_models = {}\n",
    "    f1_scores_xgb = {}\n",
    "    f1_scores_cb = {}\n",
    "    sample_sizes = []\n",
    "\n",
    "    for name, df in zip(labels, dataframes):\n",
    "        x_train, x_val, y_train, y_val = train_test_split(df.drop(['y'], axis=1), df['y'], test_size=0.2, random_state=42, stratify=df['y'])\n",
    "\n",
    "        if upsample:\n",
    "            x_train, y_train = upsample_training_data_with_SMOTE(x_train, y_train)\n",
    "\n",
    "        sample_sizes.append(x_train.shape[0])\n",
    "\n",
    "        xgb_model, cb_model = train_different_models(x_train, y_train)\n",
    "        xgb_models[f\"{name}_xgb\"] = xgb_model\n",
    "        cb_models[f\"{name}_cb\"] = cb_model\n",
    "\n",
    "        xgb_predictions = xgb_model.predict(x_val)\n",
    "        cb_predictions = cb_model.predict(x_val)\n",
    "\n",
    "        f1_scores_xgb[f\"{name}_xgb\"] = evaluate_model(xgb_predictions, y_val, xgb_model)\n",
    "        f1_scores_cb[f\"{name}_cb\"] = evaluate_model(cb_predictions, y_val, cb_model)\n",
    "    \n",
    "    \n",
    "    weights = sample_sizes / np.sum(sample_sizes)\n",
    "    print(f\" Weighted overall f1_scores_xgb: {weights.dot(list(f1_scores_xgb.values())).mean()}\")\n",
    "    print(f\" Weighted overall f1_scores_cb: {weights.dot(list(f1_scores_cb.values())).mean()}\")\n",
    "\n",
    "    return xgb_models, f1_scores_xgb, cb_models, f1_scores_cb\n",
    "\n",
    "def upsample_training_data_with_SMOTE(x_train, y_train):\n",
    "    from imblearn.over_sampling import SMOTE\n",
    "\n",
    "    #print class distribution before SMOTE\n",
    "    # print(\"Before SMOTE: \", y_train.value_counts())\n",
    "\n",
    "    sm = SMOTE(random_state=42, n_jobs=-1)\n",
    "    x_train, y_train = sm.fit_resample(x_train, y_train)\n",
    "\n",
    "    #print class distribution after SMOTE\n",
    "    # print(\"After SMOTE: \", y_train.value_counts())\n",
    "\n",
    "    return x_train, y_train"
   ]
  },
  {
   "cell_type": "code",
   "execution_count": 13,
   "metadata": {},
   "outputs": [],
   "source": [
    "#Train and evaluate separate models\n",
    "# data_by_x5 = [df_train_polka, df_train_schottis, df_train_polskor, df_train_hambo]\n",
    "\n",
    "# labels = ['Polka', 'Schottis', 'Polskor', 'Hambo']\n",
    "\n",
    "# xgb_models, f1_xgb = train_and_evaluate_different_models_for_splits(data_by_x5, labels, upsample=True)\n",
    "# f1_xgb"
   ]
  },
  {
   "cell_type": "code",
   "execution_count": 14,
   "metadata": {},
   "outputs": [],
   "source": [
    "# df_train_slängpolskor = df_train[df_train['x7_Slängpolskor'] == 1]\n",
    "# df_train_slängpolskor = df_train_slängpolskor.drop(x7_cols, axis=1)\n",
    "\n",
    "# df_train_polskor = df_train[(df_train['x7_Polskor'] == 1) | (df_train['x7_Slängpolskor'] == 1)]\n",
    "# df_train_polskor = df_train_polskor.drop(x7_cols, axis=1)\n",
    "\n",
    "\n",
    "# data_by_x5 = [df_train_polka, df_train_schottis, df_train_slängpolskor, df_train_polskor, df_train_hambo]\n",
    "\n",
    "# labels = ['Polka', 'Schottis', 'Slängpolskor', 'Polskor', 'Hambo']\n",
    "\n",
    "# xgb_models, f1_xgb = train_and_evaluate_different_models_for_splits(data_by_x5, labels, upsample=True)"
   ]
  },
  {
   "cell_type": "code",
   "execution_count": 15,
   "metadata": {},
   "outputs": [],
   "source": [
    "# x12_dfs = [df_train_x12_1, df_train_x12_0]\n",
    "# x12_labels = ['x12_True', 'x12_False']\n",
    "\n",
    "# xgb_models_x12 = train_and_evaluate_different_models_for_splits(x12_dfs, x12_labels)"
   ]
  },
  {
   "cell_type": "code",
   "execution_count": 16,
   "metadata": {},
   "outputs": [
    {
     "name": "stdout",
     "output_type": "stream",
     "text": [
      "[12:56:55] WARNING: C:/Users/Administrator/workspace/xgboost-win64_release_1.5.0/src/learner.cc:1115: Starting in XGBoost 1.3.0, the default evaluation metric used with the objective 'multi:softprob' was changed from 'merror' to 'mlogloss'. Explicitly set eval_metric if you'd like to restore the old behavior.\n"
     ]
    },
    {
     "data": {
      "image/png": "[encoded data removed]",
      "text/plain": [
       "<Figure size 864x576 with 2 Axes>"
      ]
     },
     "metadata": {
      "needs_background": "light"
     },
     "output_type": "display_data"
    },
    {
     "data": {
      "image/png": "[encoded data removed]",
      "text/plain": [
       "<Figure size 864x576 with 2 Axes>"
      ]
     },
     "metadata": {
      "needs_background": "light"
     },
     "output_type": "display_data"
    },
    {
     "name": "stdout",
     "output_type": "stream",
     "text": [
      " Weighted overall f1_scores_xgb: 0.7516585350294493\n",
      " Weighted overall f1_scores_cb: 0.7900181877097074\n"
     ]
    }
   ],
   "source": [
    "xgb_model_all, f1_xgb_all, cb_model_all, f1_cb_all = train_and_evaluate_different_models_for_splits([df_train], ['All'])"
   ]
  },
  {
   "cell_type": "code",
   "execution_count": 76,
   "metadata": {},
   "outputs": [
    {
     "name": "stdout",
     "output_type": "stream",
     "text": [
      "Before SMOTE:  2    341\n",
      "1    175\n",
      "0    116\n",
      "Name: y, dtype: int64\n",
      "After SMOTE:  1    341\n",
      "2    341\n",
      "0    341\n",
      "Name: y, dtype: int64\n"
     ]
    },
    {
     "ename": "KeyboardInterrupt",
     "evalue": "",
     "output_type": "error",
     "traceback": [
      "\u001b[1;31m---------------------------------------------------------------------------\u001b[0m",
      "\u001b[1;31mKeyboardInterrupt\u001b[0m                         Traceback (most recent call last)",
      "\u001b[1;32m<ipython-input-76-efc80069ce05>\u001b[0m in \u001b[0;36m<module>\u001b[1;34m\u001b[0m\n\u001b[1;32m----> 1\u001b[1;33m \u001b[0mxgb_model_all_us\u001b[0m\u001b[1;33m,\u001b[0m \u001b[0mf1_xgb_all_us\u001b[0m\u001b[1;33m,\u001b[0m \u001b[0mcb_model_all_us\u001b[0m\u001b[1;33m,\u001b[0m \u001b[0mf1_cb_all_us\u001b[0m \u001b[1;33m=\u001b[0m \u001b[0mtrain_and_evaluate_different_models_for_splits\u001b[0m\u001b[1;33m(\u001b[0m\u001b[1;33m[\u001b[0m\u001b[0mdf_train\u001b[0m\u001b[1;33m]\u001b[0m\u001b[1;33m,\u001b[0m \u001b[1;33m[\u001b[0m\u001b[1;34m'All'\u001b[0m\u001b[1;33m]\u001b[0m\u001b[1;33m,\u001b[0m \u001b[0mupsample\u001b[0m\u001b[1;33m=\u001b[0m\u001b[1;32mTrue\u001b[0m\u001b[1;33m)\u001b[0m\u001b[1;33m\u001b[0m\u001b[1;33m\u001b[0m\u001b[0m\n\u001b[0m",
      "\u001b[1;32m<ipython-input-12-4006b57033ee>\u001b[0m in \u001b[0;36mtrain_and_evaluate_different_models_for_splits\u001b[1;34m(dataframes, labels, upsample)\u001b[0m\n\u001b[0;32m     28\u001b[0m         \u001b[0msample_sizes\u001b[0m\u001b[1;33m.\u001b[0m\u001b[0mappend\u001b[0m\u001b[1;33m(\u001b[0m\u001b[0mx_train\u001b[0m\u001b[1;33m.\u001b[0m\u001b[0mshape\u001b[0m\u001b[1;33m[\u001b[0m\u001b[1;36m0\u001b[0m\u001b[1;33m]\u001b[0m\u001b[1;33m)\u001b[0m\u001b[1;33m\u001b[0m\u001b[1;33m\u001b[0m\u001b[0m\n\u001b[0;32m     29\u001b[0m \u001b[1;33m\u001b[0m\u001b[0m\n\u001b[1;32m---> 30\u001b[1;33m         \u001b[0mxgb_model\u001b[0m\u001b[1;33m,\u001b[0m \u001b[0mcb_model\u001b[0m \u001b[1;33m=\u001b[0m \u001b[0mtrain_different_models\u001b[0m\u001b[1;33m(\u001b[0m\u001b[0mx_train\u001b[0m\u001b[1;33m,\u001b[0m \u001b[0my_train\u001b[0m\u001b[1;33m)\u001b[0m\u001b[1;33m\u001b[0m\u001b[1;33m\u001b[0m\u001b[0m\n\u001b[0m\u001b[0;32m     31\u001b[0m         \u001b[0mxgb_models\u001b[0m\u001b[1;33m[\u001b[0m\u001b[1;34mf\"{name}_xgb\"\u001b[0m\u001b[1;33m]\u001b[0m \u001b[1;33m=\u001b[0m \u001b[0mxgb_model\u001b[0m\u001b[1;33m\u001b[0m\u001b[1;33m\u001b[0m\u001b[0m\n\u001b[0;32m     32\u001b[0m         \u001b[0mcb_models\u001b[0m\u001b[1;33m[\u001b[0m\u001b[1;34mf\"{name}_cb\"\u001b[0m\u001b[1;33m]\u001b[0m \u001b[1;33m=\u001b[0m \u001b[0mcb_model\u001b[0m\u001b[1;33m\u001b[0m\u001b[1;33m\u001b[0m\u001b[0m\n",
      "\u001b[1;32m<ipython-input-11-d07b8c9a0f85>\u001b[0m in \u001b[0;36mtrain_different_models\u001b[1;34m(x_train, y_train)\u001b[0m\n\u001b[0;32m     31\u001b[0m \u001b[1;33m\u001b[0m\u001b[0m\n\u001b[0;32m     32\u001b[0m     \u001b[0mxgb_cv\u001b[0m \u001b[1;33m=\u001b[0m \u001b[0mGridSearchCV\u001b[0m\u001b[1;33m(\u001b[0m\u001b[0mxgb_model\u001b[0m\u001b[1;33m,\u001b[0m \u001b[0mxgb_parameters\u001b[0m\u001b[1;33m,\u001b[0m \u001b[0mcv\u001b[0m\u001b[1;33m=\u001b[0m\u001b[1;36m10\u001b[0m\u001b[1;33m,\u001b[0m \u001b[0mn_jobs\u001b[0m\u001b[1;33m=\u001b[0m\u001b[1;33m-\u001b[0m\u001b[1;36m1\u001b[0m\u001b[1;33m,\u001b[0m \u001b[0mscoring\u001b[0m\u001b[1;33m=\u001b[0m\u001b[0mscoring\u001b[0m\u001b[1;33m)\u001b[0m\u001b[1;33m\u001b[0m\u001b[1;33m\u001b[0m\u001b[0m\n\u001b[1;32m---> 33\u001b[1;33m     \u001b[0mxgb_cv\u001b[0m\u001b[1;33m.\u001b[0m\u001b[0mfit\u001b[0m\u001b[1;33m(\u001b[0m\u001b[0mx_train\u001b[0m\u001b[1;33m,\u001b[0m \u001b[0my_train\u001b[0m\u001b[1;33m)\u001b[0m\u001b[1;33m\u001b[0m\u001b[1;33m\u001b[0m\u001b[0m\n\u001b[0m\u001b[0;32m     34\u001b[0m \u001b[1;33m\u001b[0m\u001b[0m\n\u001b[0;32m     35\u001b[0m     \u001b[1;31m#cb_cv = GridSearchCV(cb_model, cb_parameters, cv=5, n_jobs=-1, scoring=scoring, verbose=1)\u001b[0m\u001b[1;33m\u001b[0m\u001b[1;33m\u001b[0m\u001b[1;33m\u001b[0m\u001b[0m\n",
      "\u001b[1;32mc:\\Users\\GP65\\anaconda3\\lib\\site-packages\\sklearn\\model_selection\\_search.py\u001b[0m in \u001b[0;36mfit\u001b[1;34m(self, X, y, groups, **fit_params)\u001b[0m\n\u001b[0;32m    872\u001b[0m                 \u001b[1;32mreturn\u001b[0m \u001b[0mresults\u001b[0m\u001b[1;33m\u001b[0m\u001b[1;33m\u001b[0m\u001b[0m\n\u001b[0;32m    873\u001b[0m \u001b[1;33m\u001b[0m\u001b[0m\n\u001b[1;32m--> 874\u001b[1;33m             \u001b[0mself\u001b[0m\u001b[1;33m.\u001b[0m\u001b[0m_run_search\u001b[0m\u001b[1;33m(\u001b[0m\u001b[0mevaluate_candidates\u001b[0m\u001b[1;33m)\u001b[0m\u001b[1;33m\u001b[0m\u001b[1;33m\u001b[0m\u001b[0m\n\u001b[0m\u001b[0;32m    875\u001b[0m \u001b[1;33m\u001b[0m\u001b[0m\n\u001b[0;32m    876\u001b[0m             \u001b[1;31m# multimetric is determined here because in the case of a callable\u001b[0m\u001b[1;33m\u001b[0m\u001b[1;33m\u001b[0m\u001b[1;33m\u001b[0m\u001b[0m\n",
      "\u001b[1;32mc:\\Users\\GP65\\anaconda3\\lib\\site-packages\\sklearn\\model_selection\\_search.py\u001b[0m in \u001b[0;36m_run_search\u001b[1;34m(self, evaluate_candidates)\u001b[0m\n\u001b[0;32m   1386\u001b[0m     \u001b[1;32mdef\u001b[0m \u001b[0m_run_search\u001b[0m\u001b[1;33m(\u001b[0m\u001b[0mself\u001b[0m\u001b[1;33m,\u001b[0m \u001b[0mevaluate_candidates\u001b[0m\u001b[1;33m)\u001b[0m\u001b[1;33m:\u001b[0m\u001b[1;33m\u001b[0m\u001b[1;33m\u001b[0m\u001b[0m\n\u001b[0;32m   1387\u001b[0m         \u001b[1;34m\"\"\"Search all candidates in param_grid\"\"\"\u001b[0m\u001b[1;33m\u001b[0m\u001b[1;33m\u001b[0m\u001b[0m\n\u001b[1;32m-> 1388\u001b[1;33m         \u001b[0mevaluate_candidates\u001b[0m\u001b[1;33m(\u001b[0m\u001b[0mParameterGrid\u001b[0m\u001b[1;33m(\u001b[0m\u001b[0mself\u001b[0m\u001b[1;33m.\u001b[0m\u001b[0mparam_grid\u001b[0m\u001b[1;33m)\u001b[0m\u001b[1;33m)\u001b[0m\u001b[1;33m\u001b[0m\u001b[1;33m\u001b[0m\u001b[0m\n\u001b[0m\u001b[0;32m   1389\u001b[0m \u001b[1;33m\u001b[0m\u001b[0m\n\u001b[0;32m   1390\u001b[0m \u001b[1;33m\u001b[0m\u001b[0m\n",
      "\u001b[1;32mc:\\Users\\GP65\\anaconda3\\lib\\site-packages\\sklearn\\model_selection\\_search.py\u001b[0m in \u001b[0;36mevaluate_candidates\u001b[1;34m(candidate_params, cv, more_results)\u001b[0m\n\u001b[0;32m    819\u001b[0m                     )\n\u001b[0;32m    820\u001b[0m \u001b[1;33m\u001b[0m\u001b[0m\n\u001b[1;32m--> 821\u001b[1;33m                 out = parallel(\n\u001b[0m\u001b[0;32m    822\u001b[0m                     delayed(_fit_and_score)(\n\u001b[0;32m    823\u001b[0m                         \u001b[0mclone\u001b[0m\u001b[1;33m(\u001b[0m\u001b[0mbase_estimator\u001b[0m\u001b[1;33m)\u001b[0m\u001b[1;33m,\u001b[0m\u001b[1;33m\u001b[0m\u001b[1;33m\u001b[0m\u001b[0m\n",
      "\u001b[1;32mc:\\Users\\GP65\\anaconda3\\lib\\site-packages\\sklearn\\utils\\parallel.py\u001b[0m in \u001b[0;36m__call__\u001b[1;34m(self, iterable)\u001b[0m\n\u001b[0;32m     61\u001b[0m             \u001b[1;32mfor\u001b[0m \u001b[0mdelayed_func\u001b[0m\u001b[1;33m,\u001b[0m \u001b[0margs\u001b[0m\u001b[1;33m,\u001b[0m \u001b[0mkwargs\u001b[0m \u001b[1;32min\u001b[0m \u001b[0miterable\u001b[0m\u001b[1;33m\u001b[0m\u001b[1;33m\u001b[0m\u001b[0m\n\u001b[0;32m     62\u001b[0m         )\n\u001b[1;32m---> 63\u001b[1;33m         \u001b[1;32mreturn\u001b[0m \u001b[0msuper\u001b[0m\u001b[1;33m(\u001b[0m\u001b[1;33m)\u001b[0m\u001b[1;33m.\u001b[0m\u001b[0m__call__\u001b[0m\u001b[1;33m(\u001b[0m\u001b[0miterable_with_config\u001b[0m\u001b[1;33m)\u001b[0m\u001b[1;33m\u001b[0m\u001b[1;33m\u001b[0m\u001b[0m\n\u001b[0m\u001b[0;32m     64\u001b[0m \u001b[1;33m\u001b[0m\u001b[0m\n\u001b[0;32m     65\u001b[0m \u001b[1;33m\u001b[0m\u001b[0m\n",
      "\u001b[1;32mc:\\Users\\GP65\\anaconda3\\lib\\site-packages\\joblib\\parallel.py\u001b[0m in \u001b[0;36m__call__\u001b[1;34m(self, iterable)\u001b[0m\n\u001b[0;32m   1096\u001b[0m \u001b[1;33m\u001b[0m\u001b[0m\n\u001b[0;32m   1097\u001b[0m             \u001b[1;32mwith\u001b[0m \u001b[0mself\u001b[0m\u001b[1;33m.\u001b[0m\u001b[0m_backend\u001b[0m\u001b[1;33m.\u001b[0m\u001b[0mretrieval_context\u001b[0m\u001b[1;33m(\u001b[0m\u001b[1;33m)\u001b[0m\u001b[1;33m:\u001b[0m\u001b[1;33m\u001b[0m\u001b[1;33m\u001b[0m\u001b[0m\n\u001b[1;32m-> 1098\u001b[1;33m                 \u001b[0mself\u001b[0m\u001b[1;33m.\u001b[0m\u001b[0mretrieve\u001b[0m\u001b[1;33m(\u001b[0m\u001b[1;33m)\u001b[0m\u001b[1;33m\u001b[0m\u001b[1;33m\u001b[0m\u001b[0m\n\u001b[0m\u001b[0;32m   1099\u001b[0m             \u001b[1;31m# Make sure that we get a last message telling us we are done\u001b[0m\u001b[1;33m\u001b[0m\u001b[1;33m\u001b[0m\u001b[1;33m\u001b[0m\u001b[0m\n\u001b[0;32m   1100\u001b[0m             \u001b[0melapsed_time\u001b[0m \u001b[1;33m=\u001b[0m \u001b[0mtime\u001b[0m\u001b[1;33m.\u001b[0m\u001b[0mtime\u001b[0m\u001b[1;33m(\u001b[0m\u001b[1;33m)\u001b[0m \u001b[1;33m-\u001b[0m \u001b[0mself\u001b[0m\u001b[1;33m.\u001b[0m\u001b[0m_start_time\u001b[0m\u001b[1;33m\u001b[0m\u001b[1;33m\u001b[0m\u001b[0m\n",
      "\u001b[1;32mc:\\Users\\GP65\\anaconda3\\lib\\site-packages\\joblib\\parallel.py\u001b[0m in \u001b[0;36mretrieve\u001b[1;34m(self)\u001b[0m\n\u001b[0;32m    973\u001b[0m             \u001b[1;32mtry\u001b[0m\u001b[1;33m:\u001b[0m\u001b[1;33m\u001b[0m\u001b[1;33m\u001b[0m\u001b[0m\n\u001b[0;32m    974\u001b[0m                 \u001b[1;32mif\u001b[0m \u001b[0mgetattr\u001b[0m\u001b[1;33m(\u001b[0m\u001b[0mself\u001b[0m\u001b[1;33m.\u001b[0m\u001b[0m_backend\u001b[0m\u001b[1;33m,\u001b[0m \u001b[1;34m'supports_timeout'\u001b[0m\u001b[1;33m,\u001b[0m \u001b[1;32mFalse\u001b[0m\u001b[1;33m)\u001b[0m\u001b[1;33m:\u001b[0m\u001b[1;33m\u001b[0m\u001b[1;33m\u001b[0m\u001b[0m\n\u001b[1;32m--> 975\u001b[1;33m                     \u001b[0mself\u001b[0m\u001b[1;33m.\u001b[0m\u001b[0m_output\u001b[0m\u001b[1;33m.\u001b[0m\u001b[0mextend\u001b[0m\u001b[1;33m(\u001b[0m\u001b[0mjob\u001b[0m\u001b[1;33m.\u001b[0m\u001b[0mget\u001b[0m\u001b[1;33m(\u001b[0m\u001b[0mtimeout\u001b[0m\u001b[1;33m=\u001b[0m\u001b[0mself\u001b[0m\u001b[1;33m.\u001b[0m\u001b[0mtimeout\u001b[0m\u001b[1;33m)\u001b[0m\u001b[1;33m)\u001b[0m\u001b[1;33m\u001b[0m\u001b[1;33m\u001b[0m\u001b[0m\n\u001b[0m\u001b[0;32m    976\u001b[0m                 \u001b[1;32melse\u001b[0m\u001b[1;33m:\u001b[0m\u001b[1;33m\u001b[0m\u001b[1;33m\u001b[0m\u001b[0m\n\u001b[0;32m    977\u001b[0m                     \u001b[0mself\u001b[0m\u001b[1;33m.\u001b[0m\u001b[0m_output\u001b[0m\u001b[1;33m.\u001b[0m\u001b[0mextend\u001b[0m\u001b[1;33m(\u001b[0m\u001b[0mjob\u001b[0m\u001b[1;33m.\u001b[0m\u001b[0mget\u001b[0m\u001b[1;33m(\u001b[0m\u001b[1;33m)\u001b[0m\u001b[1;33m)\u001b[0m\u001b[1;33m\u001b[0m\u001b[1;33m\u001b[0m\u001b[0m\n",
      "\u001b[1;32mc:\\Users\\GP65\\anaconda3\\lib\\site-packages\\joblib\\_parallel_backends.py\u001b[0m in \u001b[0;36mwrap_future_result\u001b[1;34m(future, timeout)\u001b[0m\n\u001b[0;32m    565\u001b[0m         AsyncResults.get from multiprocessing.\"\"\"\n\u001b[0;32m    566\u001b[0m         \u001b[1;32mtry\u001b[0m\u001b[1;33m:\u001b[0m\u001b[1;33m\u001b[0m\u001b[1;33m\u001b[0m\u001b[0m\n\u001b[1;32m--> 567\u001b[1;33m             \u001b[1;32mreturn\u001b[0m \u001b[0mfuture\u001b[0m\u001b[1;33m.\u001b[0m\u001b[0mresult\u001b[0m\u001b[1;33m(\u001b[0m\u001b[0mtimeout\u001b[0m\u001b[1;33m=\u001b[0m\u001b[0mtimeout\u001b[0m\u001b[1;33m)\u001b[0m\u001b[1;33m\u001b[0m\u001b[1;33m\u001b[0m\u001b[0m\n\u001b[0m\u001b[0;32m    568\u001b[0m         \u001b[1;32mexcept\u001b[0m \u001b[0mCfTimeoutError\u001b[0m \u001b[1;32mas\u001b[0m \u001b[0me\u001b[0m\u001b[1;33m:\u001b[0m\u001b[1;33m\u001b[0m\u001b[1;33m\u001b[0m\u001b[0m\n\u001b[0;32m    569\u001b[0m             \u001b[1;32mraise\u001b[0m \u001b[0mTimeoutError\u001b[0m \u001b[1;32mfrom\u001b[0m \u001b[0me\u001b[0m\u001b[1;33m\u001b[0m\u001b[1;33m\u001b[0m\u001b[0m\n",
      "\u001b[1;32mc:\\Users\\GP65\\anaconda3\\lib\\concurrent\\futures\\_base.py\u001b[0m in \u001b[0;36mresult\u001b[1;34m(self, timeout)\u001b[0m\n\u001b[0;32m    432\u001b[0m                 \u001b[1;32mreturn\u001b[0m \u001b[0mself\u001b[0m\u001b[1;33m.\u001b[0m\u001b[0m__get_result\u001b[0m\u001b[1;33m(\u001b[0m\u001b[1;33m)\u001b[0m\u001b[1;33m\u001b[0m\u001b[1;33m\u001b[0m\u001b[0m\n\u001b[0;32m    433\u001b[0m \u001b[1;33m\u001b[0m\u001b[0m\n\u001b[1;32m--> 434\u001b[1;33m             \u001b[0mself\u001b[0m\u001b[1;33m.\u001b[0m\u001b[0m_condition\u001b[0m\u001b[1;33m.\u001b[0m\u001b[0mwait\u001b[0m\u001b[1;33m(\u001b[0m\u001b[0mtimeout\u001b[0m\u001b[1;33m)\u001b[0m\u001b[1;33m\u001b[0m\u001b[1;33m\u001b[0m\u001b[0m\n\u001b[0m\u001b[0;32m    435\u001b[0m \u001b[1;33m\u001b[0m\u001b[0m\n\u001b[0;32m    436\u001b[0m             \u001b[1;32mif\u001b[0m \u001b[0mself\u001b[0m\u001b[1;33m.\u001b[0m\u001b[0m_state\u001b[0m \u001b[1;32min\u001b[0m \u001b[1;33m[\u001b[0m\u001b[0mCANCELLED\u001b[0m\u001b[1;33m,\u001b[0m \u001b[0mCANCELLED_AND_NOTIFIED\u001b[0m\u001b[1;33m]\u001b[0m\u001b[1;33m:\u001b[0m\u001b[1;33m\u001b[0m\u001b[1;33m\u001b[0m\u001b[0m\n",
      "\u001b[1;32mc:\\Users\\GP65\\anaconda3\\lib\\threading.py\u001b[0m in \u001b[0;36mwait\u001b[1;34m(self, timeout)\u001b[0m\n\u001b[0;32m    300\u001b[0m         \u001b[1;32mtry\u001b[0m\u001b[1;33m:\u001b[0m    \u001b[1;31m# restore state no matter what (e.g., KeyboardInterrupt)\u001b[0m\u001b[1;33m\u001b[0m\u001b[1;33m\u001b[0m\u001b[0m\n\u001b[0;32m    301\u001b[0m             \u001b[1;32mif\u001b[0m \u001b[0mtimeout\u001b[0m \u001b[1;32mis\u001b[0m \u001b[1;32mNone\u001b[0m\u001b[1;33m:\u001b[0m\u001b[1;33m\u001b[0m\u001b[1;33m\u001b[0m\u001b[0m\n\u001b[1;32m--> 302\u001b[1;33m                 \u001b[0mwaiter\u001b[0m\u001b[1;33m.\u001b[0m\u001b[0macquire\u001b[0m\u001b[1;33m(\u001b[0m\u001b[1;33m)\u001b[0m\u001b[1;33m\u001b[0m\u001b[1;33m\u001b[0m\u001b[0m\n\u001b[0m\u001b[0;32m    303\u001b[0m                 \u001b[0mgotit\u001b[0m \u001b[1;33m=\u001b[0m \u001b[1;32mTrue\u001b[0m\u001b[1;33m\u001b[0m\u001b[1;33m\u001b[0m\u001b[0m\n\u001b[0;32m    304\u001b[0m             \u001b[1;32melse\u001b[0m\u001b[1;33m:\u001b[0m\u001b[1;33m\u001b[0m\u001b[1;33m\u001b[0m\u001b[0m\n",
      "\u001b[1;31mKeyboardInterrupt\u001b[0m: "
     ]
    }
   ],
   "source": [
    "xgb_model_all_us, f1_xgb_all_us, cb_model_all_us, f1_cb_all_us = train_and_evaluate_different_models_for_splits([df_train], ['All'], upsample=True)"
   ]
  },
  {
   "cell_type": "code",
   "execution_count": 62,
   "metadata": {},
   "outputs": [],
   "source": [
    "def evaluate_performance_on_test_set(model, df_test):\n",
    "    x_test = df_test.drop(['y'], axis=1)\n",
    "    y_test = df_test['y']\n",
    "\n",
    "    predictions = model.predict(x_test)\n",
    "\n",
    "    f1_score = evaluate_model(predictions, y_test, model)\n",
    "\n",
    "    return f1_score"
   ]
  },
  {
   "cell_type": "code",
   "execution_count": 77,
   "metadata": {},
   "outputs": [
    {
     "data": {
      "image/png": "[encoded data removed]",
      "text/plain": [
       "<Figure size 864x576 with 2 Axes>"
      ]
     },
     "metadata": {
      "needs_background": "light"
     },
     "output_type": "display_data"
    },
    {
     "data": {
      "text/plain": [
       "0.7252887315678498"
      ]
     },
     "execution_count": 77,
     "metadata": {},
     "output_type": "execute_result"
    }
   ],
   "source": [
    "evaluate_performance_on_test_set(xgb_model_all['All_xgb'], df_test)"
   ]
  },
  {
   "cell_type": "code",
   "execution_count": 119,
   "metadata": {},
   "outputs": [],
   "source": [
    "# evaluate_performance_on_test_set(cb_model_all_us['All_cb'], df_test)"
   ]
  },
  {
   "attachments": {},
   "cell_type": "markdown",
   "metadata": {},
   "source": [
    "## CatBoost Parameter Tuning\n",
    "\n"
   ]
  },
  {
   "cell_type": "code",
   "execution_count": 124,
   "metadata": {},
   "outputs": [],
   "source": [
    "from sklearn.metrics import f1_score\n",
    "import optuna"
   ]
  },
  {
   "cell_type": "code",
   "execution_count": 125,
   "metadata": {},
   "outputs": [],
   "source": [
    "def objective(trial,data=df_train.drop(['y'], axis=1), target= df_train['y']):\n",
    "\n",
    "    param = {\n",
    "        # \"objective\": trial.suggest_categorical(\"objective\", [\"Logloss\",\"MultiClassOneVsAll\", \"MultiClass\"]),\n",
    "        # \"colsample_bylevel\": trial.suggest_float(\"colsample_bylevel\", 0.01, 0.1),\n",
    "        \"depth\": trial.suggest_int(\"depth\", 1, 5),\n",
    "        \"boosting_type\": trial.suggest_categorical(\"boosting_type\", [\"Ordered\", \"Plain\"]),\n",
    "        \"bootstrap_type\": trial.suggest_categorical(\n",
    "        \"bootstrap_type\", [\"Bayesian\", \"Bernoulli\", \"MVS\"]\n",
    "        ),\n",
    "        \"used_ram_limit\": \"8gb\",\n",
    "    }\n",
    "    \n",
    "    if param[\"bootstrap_type\"] == \"Bayesian\":\n",
    "        param[\"bagging_temperature\"] = trial.suggest_float(\"bagging_temperature\", 0, 10)\n",
    "    elif param[\"bootstrap_type\"] == \"Bernoulli\":\n",
    "        param[\"subsample\"] = trial.suggest_float(\"subsample\", 0.1, 1)\n",
    "\n",
    "\n",
    "\n",
    "        \n",
    "    # Set up a kfold test\n",
    "    kf = KFold(n_splits=5, random_state=42, shuffle=True)\n",
    "    f1_scores = []\n",
    "    for train_index, test_index in kf.split(train_x):\n",
    "        x_train, x_val = train_x.iloc[train_index], train_x.iloc[test_index]\n",
    "        y_train, y_val = train_y.iloc[train_index], train_y.iloc[test_index]\n",
    "\n",
    "        # Upsample training data\n",
    "        x_train, y_train = upsample_training_data_with_SMOTE(x_train, y_train)\n",
    "        \n",
    "        model = CatBoostClassifier(**param)  \n",
    "        model.fit(x_train,y_train,eval_set=[(x_val, y_val)], verbose=0, early_stopping_rounds=100)\n",
    "        preds = model.predict(x_val)\n",
    "\n",
    "        f1_scores.append(f1_score(y_val, preds, average='weighted'))\n",
    "\n",
    "    ## Full model\n",
    "    # Split and upsample\n",
    "    # train_x, test_x, train_y, test_y = train_test_split(data, target, test_size=0.2, random_state=42, stratify=target)\n",
    "    # train_x, train_y = upsample_training_data_with_SMOTE(train_x, train_y)\n",
    "    # model = CatBoostClassifier(**param)  \n",
    "    # model.fit(train_x,train_y,eval_set=[(test_x, test_y)], verbose=0, early_stopping_rounds=100)\n",
    "    # preds = model.predict(test_x)\n",
    "\n",
    "    f1_wei = np.mean(f1_scores)\n",
    "\n",
    "    return f1_wei"
   ]
  },
  {
   "cell_type": "code",
   "execution_count": 126,
   "metadata": {},
   "outputs": [
    {
     "name": "stderr",
     "output_type": "stream",
     "text": [
      "[I 2023-06-13 15:09:36,605] A new study created in memory with name: no-name-7d5fc502-41cd-4fbb-9ed5-4d4acf55d70b\n"
     ]
    },
    {
     "name": "stdout",
     "output_type": "stream",
     "text": [
      "Before SMOTE:  2    341\n",
      "1    175\n",
      "0    116\n",
      "Name: y, dtype: int64\n",
      "After SMOTE:  1    341\n",
      "2    341\n",
      "0    341\n",
      "Name: y, dtype: int64\n"
     ]
    },
    {
     "name": "stderr",
     "output_type": "stream",
     "text": [
      "[I 2023-06-13 15:09:38,814] Trial 0 finished with value: 0.798139921901617 and parameters: {'depth': 3, 'boosting_type': 'Ordered', 'bootstrap_type': 'Bayesian', 'bagging_temperature': 8.28782045718673}. Best is trial 0 with value: 0.798139921901617.\n"
     ]
    },
    {
     "name": "stdout",
     "output_type": "stream",
     "text": [
      "Before SMOTE:  2    341\n",
      "1    175\n",
      "0    116\n",
      "Name: y, dtype: int64\n",
      "After SMOTE:  1    341\n",
      "2    341\n",
      "0    341\n",
      "Name: y, dtype: int64\n"
     ]
    },
    {
     "name": "stderr",
     "output_type": "stream",
     "text": [
      "[I 2023-06-13 15:09:39,860] Trial 1 finished with value: 0.7921751126450159 and parameters: {'depth': 4, 'boosting_type': 'Plain', 'bootstrap_type': 'Bayesian', 'bagging_temperature': 1.766453786472213}. Best is trial 0 with value: 0.798139921901617.\n"
     ]
    },
    {
     "name": "stdout",
     "output_type": "stream",
     "text": [
      "Before SMOTE:  2    341\n",
      "1    175\n",
      "0    116\n",
      "Name: y, dtype: int64\n",
      "After SMOTE:  1    341\n",
      "2    341\n",
      "0    341\n",
      "Name: y, dtype: int64\n"
     ]
    },
    {
     "name": "stderr",
     "output_type": "stream",
     "text": [
      "[I 2023-06-13 15:09:41,145] Trial 2 finished with value: 0.7426027651726242 and parameters: {'depth': 5, 'boosting_type': 'Plain', 'bootstrap_type': 'Bayesian', 'bagging_temperature': 9.25926135969106}. Best is trial 0 with value: 0.798139921901617.\n"
     ]
    },
    {
     "name": "stdout",
     "output_type": "stream",
     "text": [
      "Before SMOTE:  2    341\n",
      "1    175\n",
      "0    116\n",
      "Name: y, dtype: int64\n",
      "After SMOTE:  1    341\n",
      "2    341\n",
      "0    341\n",
      "Name: y, dtype: int64\n"
     ]
    },
    {
     "name": "stderr",
     "output_type": "stream",
     "text": [
      "[I 2023-06-13 15:09:41,930] Trial 3 finished with value: 0.7675515220146484 and parameters: {'depth': 2, 'boosting_type': 'Plain', 'bootstrap_type': 'Bayesian', 'bagging_temperature': 4.73134363496198}. Best is trial 0 with value: 0.798139921901617.\n"
     ]
    },
    {
     "name": "stdout",
     "output_type": "stream",
     "text": [
      "Before SMOTE:  2    341\n",
      "1    175\n",
      "0    116\n",
      "Name: y, dtype: int64\n",
      "After SMOTE:  1    341\n",
      "2    341\n",
      "0    341\n",
      "Name: y, dtype: int64\n"
     ]
    },
    {
     "name": "stderr",
     "output_type": "stream",
     "text": [
      "[I 2023-06-13 15:09:43,270] Trial 4 finished with value: 0.7983821655268674 and parameters: {'depth': 4, 'boosting_type': 'Ordered', 'bootstrap_type': 'MVS'}. Best is trial 4 with value: 0.7983821655268674.\n"
     ]
    },
    {
     "name": "stdout",
     "output_type": "stream",
     "text": [
      "Before SMOTE:  2    341\n",
      "1    175\n",
      "0    116\n",
      "Name: y, dtype: int64\n",
      "After SMOTE:  1    341\n",
      "2    341\n",
      "0    341\n",
      "Name: y, dtype: int64\n"
     ]
    },
    {
     "name": "stderr",
     "output_type": "stream",
     "text": [
      "[I 2023-06-13 15:09:45,104] Trial 5 finished with value: 0.7796242297858501 and parameters: {'depth': 5, 'boosting_type': 'Ordered', 'bootstrap_type': 'MVS'}. Best is trial 4 with value: 0.7983821655268674.\n"
     ]
    },
    {
     "name": "stdout",
     "output_type": "stream",
     "text": [
      "Before SMOTE:  2    341\n",
      "1    175\n",
      "0    116\n",
      "Name: y, dtype: int64\n",
      "After SMOTE:  1    341\n",
      "2    341\n",
      "0    341\n",
      "Name: y, dtype: int64\n"
     ]
    },
    {
     "name": "stderr",
     "output_type": "stream",
     "text": [
      "[I 2023-06-13 15:09:48,521] Trial 6 finished with value: 0.810613420296312 and parameters: {'depth': 5, 'boosting_type': 'Ordered', 'bootstrap_type': 'Bayesian', 'bagging_temperature': 5.821067151758501}. Best is trial 6 with value: 0.810613420296312.\n"
     ]
    },
    {
     "name": "stdout",
     "output_type": "stream",
     "text": [
      "Before SMOTE:  2    341\n",
      "1    175\n",
      "0    116\n",
      "Name: y, dtype: int64\n",
      "After SMOTE:  1    341\n",
      "2    341\n",
      "0    341\n",
      "Name: y, dtype: int64\n"
     ]
    },
    {
     "name": "stderr",
     "output_type": "stream",
     "text": [
      "[I 2023-06-13 15:09:49,116] Trial 7 finished with value: 0.7929451135012219 and parameters: {'depth': 5, 'boosting_type': 'Plain', 'bootstrap_type': 'Bernoulli', 'subsample': 0.21438480716627428}. Best is trial 6 with value: 0.810613420296312.\n"
     ]
    },
    {
     "name": "stdout",
     "output_type": "stream",
     "text": [
      "Before SMOTE:  2    341\n",
      "1    175\n",
      "0    116\n",
      "Name: y, dtype: int64\n",
      "After SMOTE:  1    341\n",
      "2    341\n",
      "0    341\n",
      "Name: y, dtype: int64\n"
     ]
    },
    {
     "name": "stderr",
     "output_type": "stream",
     "text": [
      "[I 2023-06-13 15:09:50,399] Trial 8 finished with value: 0.7864234144202645 and parameters: {'depth': 3, 'boosting_type': 'Ordered', 'bootstrap_type': 'MVS'}. Best is trial 6 with value: 0.810613420296312.\n"
     ]
    },
    {
     "name": "stdout",
     "output_type": "stream",
     "text": [
      "Before SMOTE:  2    341\n",
      "1    175\n",
      "0    116\n",
      "Name: y, dtype: int64\n",
      "After SMOTE:  1    341\n",
      "2    341\n",
      "0    341\n",
      "Name: y, dtype: int64\n"
     ]
    },
    {
     "name": "stderr",
     "output_type": "stream",
     "text": [
      "[I 2023-06-13 15:09:51,504] Trial 9 finished with value: 0.7733441036741437 and parameters: {'depth': 5, 'boosting_type': 'Plain', 'bootstrap_type': 'Bayesian', 'bagging_temperature': 5.293488874698232}. Best is trial 6 with value: 0.810613420296312.\n"
     ]
    },
    {
     "name": "stdout",
     "output_type": "stream",
     "text": [
      "Before SMOTE:  2    341\n",
      "1    175\n",
      "0    116\n",
      "Name: y, dtype: int64\n",
      "After SMOTE:  1    341\n",
      "2    341\n",
      "0    341\n",
      "Name: y, dtype: int64\n"
     ]
    },
    {
     "name": "stderr",
     "output_type": "stream",
     "text": [
      "[I 2023-06-13 15:09:52,746] Trial 10 finished with value: 0.7425134396604415 and parameters: {'depth': 1, 'boosting_type': 'Ordered', 'bootstrap_type': 'Bernoulli', 'subsample': 0.9793043449470504}. Best is trial 6 with value: 0.810613420296312.\n"
     ]
    },
    {
     "name": "stdout",
     "output_type": "stream",
     "text": [
      "Before SMOTE:  2    341\n",
      "1    175\n",
      "0    116\n",
      "Name: y, dtype: int64\n",
      "After SMOTE:  1    341\n",
      "2    341\n",
      "0    341\n",
      "Name: y, dtype: int64\n"
     ]
    },
    {
     "name": "stderr",
     "output_type": "stream",
     "text": [
      "[I 2023-06-13 15:09:54,587] Trial 11 finished with value: 0.7983821655268674 and parameters: {'depth': 4, 'boosting_type': 'Ordered', 'bootstrap_type': 'MVS'}. Best is trial 6 with value: 0.810613420296312.\n"
     ]
    },
    {
     "name": "stdout",
     "output_type": "stream",
     "text": [
      "Before SMOTE:  2    341\n",
      "1    175\n",
      "0    116\n",
      "Name: y, dtype: int64\n",
      "After SMOTE:  1    341\n",
      "2    341\n",
      "0    341\n",
      "Name: y, dtype: int64\n"
     ]
    },
    {
     "name": "stderr",
     "output_type": "stream",
     "text": [
      "[I 2023-06-13 15:09:55,789] Trial 12 finished with value: 0.7983821655268674 and parameters: {'depth': 4, 'boosting_type': 'Ordered', 'bootstrap_type': 'MVS'}. Best is trial 6 with value: 0.810613420296312.\n"
     ]
    },
    {
     "name": "stdout",
     "output_type": "stream",
     "text": [
      "Before SMOTE:  2    341\n",
      "1    175\n",
      "0    116\n",
      "Name: y, dtype: int64\n",
      "After SMOTE:  1    341\n",
      "2    341\n",
      "0    341\n",
      "Name: y, dtype: int64\n"
     ]
    },
    {
     "name": "stderr",
     "output_type": "stream",
     "text": [
      "[I 2023-06-13 15:09:56,811] Trial 13 finished with value: 0.7983821655268674 and parameters: {'depth': 4, 'boosting_type': 'Ordered', 'bootstrap_type': 'MVS'}. Best is trial 6 with value: 0.810613420296312.\n"
     ]
    },
    {
     "name": "stdout",
     "output_type": "stream",
     "text": [
      "Before SMOTE:  2    341\n",
      "1    175\n",
      "0    116\n",
      "Name: y, dtype: int64\n",
      "After SMOTE:  1    341\n",
      "2    341\n",
      "0    341\n",
      "Name: y, dtype: int64\n"
     ]
    },
    {
     "name": "stderr",
     "output_type": "stream",
     "text": [
      "[I 2023-06-13 15:09:59,002] Trial 14 finished with value: 0.7859541740105751 and parameters: {'depth': 4, 'boosting_type': 'Ordered', 'bootstrap_type': 'Bernoulli', 'subsample': 0.11244228989739291}. Best is trial 6 with value: 0.810613420296312.\n"
     ]
    },
    {
     "name": "stdout",
     "output_type": "stream",
     "text": [
      "Before SMOTE:  2    341\n",
      "1    175\n",
      "0    116\n",
      "Name: y, dtype: int64\n",
      "After SMOTE:  1    341\n",
      "2    341\n",
      "0    341\n",
      "Name: y, dtype: int64\n"
     ]
    },
    {
     "name": "stderr",
     "output_type": "stream",
     "text": [
      "[I 2023-06-13 15:10:00,491] Trial 15 finished with value: 0.7670887165954348 and parameters: {'depth': 2, 'boosting_type': 'Ordered', 'bootstrap_type': 'Bayesian', 'bagging_temperature': 0.7781069090286072}. Best is trial 6 with value: 0.810613420296312.\n"
     ]
    },
    {
     "name": "stdout",
     "output_type": "stream",
     "text": [
      "Before SMOTE:  2    341\n",
      "1    175\n",
      "0    116\n",
      "Name: y, dtype: int64\n",
      "After SMOTE:  1    341\n",
      "2    341\n",
      "0    341\n",
      "Name: y, dtype: int64\n"
     ]
    },
    {
     "name": "stderr",
     "output_type": "stream",
     "text": [
      "[I 2023-06-13 15:10:02,895] Trial 16 finished with value: 0.7796242297858501 and parameters: {'depth': 5, 'boosting_type': 'Ordered', 'bootstrap_type': 'MVS'}. Best is trial 6 with value: 0.810613420296312.\n"
     ]
    },
    {
     "name": "stdout",
     "output_type": "stream",
     "text": [
      "Before SMOTE:  2    341\n",
      "1    175\n",
      "0    116\n",
      "Name: y, dtype: int64\n",
      "After SMOTE:  1    341\n",
      "2    341\n",
      "0    341\n",
      "Name: y, dtype: int64\n"
     ]
    },
    {
     "name": "stderr",
     "output_type": "stream",
     "text": [
      "[I 2023-06-13 15:10:04,586] Trial 17 finished with value: 0.7862037109174607 and parameters: {'depth': 3, 'boosting_type': 'Ordered', 'bootstrap_type': 'Bayesian', 'bagging_temperature': 6.0690941318497496}. Best is trial 6 with value: 0.810613420296312.\n"
     ]
    },
    {
     "name": "stdout",
     "output_type": "stream",
     "text": [
      "Before SMOTE:  2    341\n",
      "1    175\n",
      "0    116\n",
      "Name: y, dtype: int64\n",
      "After SMOTE:  1    341\n",
      "2    341\n",
      "0    341\n",
      "Name: y, dtype: int64\n"
     ]
    },
    {
     "name": "stderr",
     "output_type": "stream",
     "text": [
      "[I 2023-06-13 15:10:06,090] Trial 18 finished with value: 0.7983821655268674 and parameters: {'depth': 4, 'boosting_type': 'Ordered', 'bootstrap_type': 'MVS'}. Best is trial 6 with value: 0.810613420296312.\n"
     ]
    },
    {
     "name": "stdout",
     "output_type": "stream",
     "text": [
      "Before SMOTE:  2    341\n",
      "1    175\n",
      "0    116\n",
      "Name: y, dtype: int64\n",
      "After SMOTE:  1    341\n",
      "2    341\n",
      "0    341\n",
      "Name: y, dtype: int64\n"
     ]
    },
    {
     "name": "stderr",
     "output_type": "stream",
     "text": [
      "[I 2023-06-13 15:10:07,612] Trial 19 finished with value: 0.7923098036683027 and parameters: {'depth': 2, 'boosting_type': 'Ordered', 'bootstrap_type': 'Bernoulli', 'subsample': 0.6345645385081262}. Best is trial 6 with value: 0.810613420296312.\n"
     ]
    },
    {
     "name": "stdout",
     "output_type": "stream",
     "text": [
      "Before SMOTE:  2    341\n",
      "1    175\n",
      "0    116\n",
      "Name: y, dtype: int64\n",
      "After SMOTE:  1    341\n",
      "2    341\n",
      "0    341\n",
      "Name: y, dtype: int64\n"
     ]
    },
    {
     "name": "stderr",
     "output_type": "stream",
     "text": [
      "[I 2023-06-13 15:10:09,051] Trial 20 finished with value: 0.7864234144202645 and parameters: {'depth': 3, 'boosting_type': 'Ordered', 'bootstrap_type': 'MVS'}. Best is trial 6 with value: 0.810613420296312.\n"
     ]
    },
    {
     "name": "stdout",
     "output_type": "stream",
     "text": [
      "Before SMOTE:  2    341\n",
      "1    175\n",
      "0    116\n",
      "Name: y, dtype: int64\n",
      "After SMOTE:  1    341\n",
      "2    341\n",
      "0    341\n",
      "Name: y, dtype: int64\n"
     ]
    },
    {
     "name": "stderr",
     "output_type": "stream",
     "text": [
      "[I 2023-06-13 15:10:11,244] Trial 21 finished with value: 0.7983821655268674 and parameters: {'depth': 4, 'boosting_type': 'Ordered', 'bootstrap_type': 'MVS'}. Best is trial 6 with value: 0.810613420296312.\n"
     ]
    },
    {
     "name": "stdout",
     "output_type": "stream",
     "text": [
      "Before SMOTE:  2    341\n",
      "1    175\n",
      "0    116\n",
      "Name: y, dtype: int64\n",
      "After SMOTE:  1    341\n",
      "2    341\n",
      "0    341\n",
      "Name: y, dtype: int64\n"
     ]
    },
    {
     "name": "stderr",
     "output_type": "stream",
     "text": [
      "[I 2023-06-13 15:10:14,130] Trial 22 finished with value: 0.7796242297858501 and parameters: {'depth': 5, 'boosting_type': 'Ordered', 'bootstrap_type': 'MVS'}. Best is trial 6 with value: 0.810613420296312.\n"
     ]
    },
    {
     "name": "stdout",
     "output_type": "stream",
     "text": [
      "Before SMOTE:  2    341\n",
      "1    175\n",
      "0    116\n",
      "Name: y, dtype: int64\n",
      "After SMOTE:  1    341\n",
      "2    341\n",
      "0    341\n",
      "Name: y, dtype: int64\n"
     ]
    },
    {
     "name": "stderr",
     "output_type": "stream",
     "text": [
      "[I 2023-06-13 15:10:15,601] Trial 23 finished with value: 0.7983821655268674 and parameters: {'depth': 4, 'boosting_type': 'Ordered', 'bootstrap_type': 'MVS'}. Best is trial 6 with value: 0.810613420296312.\n"
     ]
    },
    {
     "name": "stdout",
     "output_type": "stream",
     "text": [
      "Before SMOTE:  2    341\n",
      "1    175\n",
      "0    116\n",
      "Name: y, dtype: int64\n",
      "After SMOTE:  1    341\n",
      "2    341\n",
      "0    341\n",
      "Name: y, dtype: int64\n"
     ]
    },
    {
     "name": "stderr",
     "output_type": "stream",
     "text": [
      "[I 2023-06-13 15:10:17,460] Trial 24 finished with value: 0.7796242297858501 and parameters: {'depth': 5, 'boosting_type': 'Ordered', 'bootstrap_type': 'MVS'}. Best is trial 6 with value: 0.810613420296312.\n"
     ]
    },
    {
     "name": "stdout",
     "output_type": "stream",
     "text": [
      "Before SMOTE:  2    341\n",
      "1    175\n",
      "0    116\n",
      "Name: y, dtype: int64\n",
      "After SMOTE:  1    341\n",
      "2    341\n",
      "0    341\n",
      "Name: y, dtype: int64\n"
     ]
    },
    {
     "name": "stderr",
     "output_type": "stream",
     "text": [
      "[I 2023-06-13 15:10:19,156] Trial 25 finished with value: 0.7857045429816932 and parameters: {'depth': 4, 'boosting_type': 'Ordered', 'bootstrap_type': 'Bayesian', 'bagging_temperature': 3.287275051014599}. Best is trial 6 with value: 0.810613420296312.\n"
     ]
    },
    {
     "name": "stdout",
     "output_type": "stream",
     "text": [
      "Before SMOTE:  2    341\n",
      "1    175\n",
      "0    116\n",
      "Name: y, dtype: int64\n",
      "After SMOTE:  1    341\n",
      "2    341\n",
      "0    341\n",
      "Name: y, dtype: int64\n"
     ]
    },
    {
     "name": "stderr",
     "output_type": "stream",
     "text": [
      "[I 2023-06-13 15:10:19,672] Trial 26 finished with value: 0.7990930940554398 and parameters: {'depth': 3, 'boosting_type': 'Plain', 'bootstrap_type': 'MVS'}. Best is trial 6 with value: 0.810613420296312.\n"
     ]
    },
    {
     "name": "stdout",
     "output_type": "stream",
     "text": [
      "Before SMOTE:  2    341\n",
      "1    175\n",
      "0    116\n",
      "Name: y, dtype: int64\n",
      "After SMOTE:  1    341\n",
      "2    341\n",
      "0    341\n",
      "Name: y, dtype: int64\n"
     ]
    },
    {
     "name": "stderr",
     "output_type": "stream",
     "text": [
      "[I 2023-06-13 15:10:21,690] Trial 27 finished with value: 0.7990930940554398 and parameters: {'depth': 3, 'boosting_type': 'Plain', 'bootstrap_type': 'MVS'}. Best is trial 6 with value: 0.810613420296312.\n"
     ]
    },
    {
     "name": "stdout",
     "output_type": "stream",
     "text": [
      "Before SMOTE:  2    341\n",
      "1    175\n",
      "0    116\n",
      "Name: y, dtype: int64\n",
      "After SMOTE:  1    341\n",
      "2    341\n",
      "0    341\n",
      "Name: y, dtype: int64\n"
     ]
    },
    {
     "name": "stderr",
     "output_type": "stream",
     "text": [
      "[I 2023-06-13 15:10:22,320] Trial 28 finished with value: 0.7988943584935145 and parameters: {'depth': 3, 'boosting_type': 'Plain', 'bootstrap_type': 'Bernoulli', 'subsample': 0.511941870663442}. Best is trial 6 with value: 0.810613420296312.\n"
     ]
    },
    {
     "name": "stdout",
     "output_type": "stream",
     "text": [
      "Before SMOTE:  2    341\n",
      "1    175\n",
      "0    116\n",
      "Name: y, dtype: int64\n",
      "After SMOTE:  1    341\n",
      "2    341\n",
      "0    341\n",
      "Name: y, dtype: int64\n"
     ]
    },
    {
     "name": "stderr",
     "output_type": "stream",
     "text": [
      "[I 2023-06-13 15:10:24,881] Trial 29 finished with value: 0.7752553852986898 and parameters: {'depth': 2, 'boosting_type': 'Plain', 'bootstrap_type': 'Bayesian', 'bagging_temperature': 7.311679325062886}. Best is trial 6 with value: 0.810613420296312.\n"
     ]
    },
    {
     "name": "stdout",
     "output_type": "stream",
     "text": [
      "Before SMOTE:  2    341\n",
      "1    175\n",
      "0    116\n",
      "Name: y, dtype: int64\n",
      "After SMOTE:  1    341\n",
      "2    341\n",
      "0    341\n",
      "Name: y, dtype: int64\n"
     ]
    },
    {
     "name": "stderr",
     "output_type": "stream",
     "text": [
      "[I 2023-06-13 15:10:26,063] Trial 30 finished with value: 0.7356933440975267 and parameters: {'depth': 1, 'boosting_type': 'Plain', 'bootstrap_type': 'Bayesian', 'bagging_temperature': 9.524543373921947}. Best is trial 6 with value: 0.810613420296312.\n"
     ]
    },
    {
     "name": "stdout",
     "output_type": "stream",
     "text": [
      "Before SMOTE:  2    341\n",
      "1    175\n",
      "0    116\n",
      "Name: y, dtype: int64\n",
      "After SMOTE:  1    341\n",
      "2    341\n",
      "0    341\n",
      "Name: y, dtype: int64\n"
     ]
    },
    {
     "name": "stderr",
     "output_type": "stream",
     "text": [
      "[I 2023-06-13 15:10:27,162] Trial 31 finished with value: 0.7732313329120427 and parameters: {'depth': 3, 'boosting_type': 'Plain', 'bootstrap_type': 'Bernoulli', 'subsample': 0.5440421591154421}. Best is trial 6 with value: 0.810613420296312.\n"
     ]
    },
    {
     "name": "stdout",
     "output_type": "stream",
     "text": [
      "Before SMOTE:  2    341\n",
      "1    175\n",
      "0    116\n",
      "Name: y, dtype: int64\n",
      "After SMOTE:  1    341\n",
      "2    341\n",
      "0    341\n",
      "Name: y, dtype: int64\n"
     ]
    },
    {
     "name": "stderr",
     "output_type": "stream",
     "text": [
      "[I 2023-06-13 15:10:27,831] Trial 32 finished with value: 0.7927623500194124 and parameters: {'depth': 3, 'boosting_type': 'Plain', 'bootstrap_type': 'Bernoulli', 'subsample': 0.4331918586033916}. Best is trial 6 with value: 0.810613420296312.\n"
     ]
    },
    {
     "name": "stdout",
     "output_type": "stream",
     "text": [
      "Before SMOTE:  2    341\n",
      "1    175\n",
      "0    116\n",
      "Name: y, dtype: int64\n",
      "After SMOTE:  1    341\n",
      "2    341\n",
      "0    341\n",
      "Name: y, dtype: int64\n"
     ]
    },
    {
     "name": "stderr",
     "output_type": "stream",
     "text": [
      "[I 2023-06-13 15:10:28,690] Trial 33 finished with value: 0.7925762871247716 and parameters: {'depth': 3, 'boosting_type': 'Plain', 'bootstrap_type': 'Bernoulli', 'subsample': 0.7061291570246562}. Best is trial 6 with value: 0.810613420296312.\n"
     ]
    },
    {
     "name": "stdout",
     "output_type": "stream",
     "text": [
      "Before SMOTE:  2    341\n",
      "1    175\n",
      "0    116\n",
      "Name: y, dtype: int64\n",
      "After SMOTE:  1    341\n",
      "2    341\n",
      "0    341\n",
      "Name: y, dtype: int64\n"
     ]
    },
    {
     "name": "stderr",
     "output_type": "stream",
     "text": [
      "[I 2023-06-13 15:10:29,452] Trial 34 finished with value: 0.7858955313730867 and parameters: {'depth': 2, 'boosting_type': 'Plain', 'bootstrap_type': 'Bernoulli', 'subsample': 0.3640060768589717}. Best is trial 6 with value: 0.810613420296312.\n"
     ]
    },
    {
     "name": "stdout",
     "output_type": "stream",
     "text": [
      "Before SMOTE:  2    341\n",
      "1    175\n",
      "0    116\n",
      "Name: y, dtype: int64\n",
      "After SMOTE:  1    341\n",
      "2    341\n",
      "0    341\n",
      "Name: y, dtype: int64\n"
     ]
    },
    {
     "name": "stderr",
     "output_type": "stream",
     "text": [
      "[I 2023-06-13 15:10:31,366] Trial 35 finished with value: 0.8042721518987342 and parameters: {'depth': 3, 'boosting_type': 'Plain', 'bootstrap_type': 'Bayesian', 'bagging_temperature': 6.969912692550696}. Best is trial 6 with value: 0.810613420296312.\n"
     ]
    },
    {
     "name": "stdout",
     "output_type": "stream",
     "text": [
      "Before SMOTE:  2    341\n",
      "1    175\n",
      "0    116\n",
      "Name: y, dtype: int64\n",
      "After SMOTE:  1    341\n",
      "2    341\n",
      "0    341\n",
      "Name: y, dtype: int64\n"
     ]
    },
    {
     "name": "stderr",
     "output_type": "stream",
     "text": [
      "[I 2023-06-13 15:10:32,628] Trial 36 finished with value: 0.8042721518987342 and parameters: {'depth': 3, 'boosting_type': 'Plain', 'bootstrap_type': 'Bayesian', 'bagging_temperature': 6.908869941064679}. Best is trial 6 with value: 0.810613420296312.\n"
     ]
    },
    {
     "name": "stdout",
     "output_type": "stream",
     "text": [
      "Before SMOTE:  2    341\n",
      "1    175\n",
      "0    116\n",
      "Name: y, dtype: int64\n",
      "After SMOTE:  1    341\n",
      "2    341\n",
      "0    341\n",
      "Name: y, dtype: int64\n"
     ]
    },
    {
     "name": "stderr",
     "output_type": "stream",
     "text": [
      "[I 2023-06-13 15:10:34,504] Trial 37 finished with value: 0.781006997540315 and parameters: {'depth': 2, 'boosting_type': 'Plain', 'bootstrap_type': 'Bayesian', 'bagging_temperature': 6.938371027760683}. Best is trial 6 with value: 0.810613420296312.\n"
     ]
    },
    {
     "name": "stdout",
     "output_type": "stream",
     "text": [
      "Before SMOTE:  2    341\n",
      "1    175\n",
      "0    116\n",
      "Name: y, dtype: int64\n",
      "After SMOTE:  1    341\n",
      "2    341\n",
      "0    341\n",
      "Name: y, dtype: int64\n"
     ]
    },
    {
     "name": "stderr",
     "output_type": "stream",
     "text": [
      "[I 2023-06-13 15:10:35,805] Trial 38 finished with value: 0.8042721518987342 and parameters: {'depth': 3, 'boosting_type': 'Plain', 'bootstrap_type': 'Bayesian', 'bagging_temperature': 7.07231528313775}. Best is trial 6 with value: 0.810613420296312.\n"
     ]
    },
    {
     "name": "stdout",
     "output_type": "stream",
     "text": [
      "Before SMOTE:  2    341\n",
      "1    175\n",
      "0    116\n",
      "Name: y, dtype: int64\n",
      "After SMOTE:  1    341\n",
      "2    341\n",
      "0    341\n",
      "Name: y, dtype: int64\n"
     ]
    },
    {
     "name": "stderr",
     "output_type": "stream",
     "text": [
      "[I 2023-06-13 15:10:36,916] Trial 39 finished with value: 0.7684926935087846 and parameters: {'depth': 2, 'boosting_type': 'Plain', 'bootstrap_type': 'Bayesian', 'bagging_temperature': 6.88099221799665}. Best is trial 6 with value: 0.810613420296312.\n"
     ]
    },
    {
     "name": "stdout",
     "output_type": "stream",
     "text": [
      "Before SMOTE:  2    341\n",
      "1    175\n",
      "0    116\n",
      "Name: y, dtype: int64\n",
      "After SMOTE:  1    341\n",
      "2    341\n",
      "0    341\n",
      "Name: y, dtype: int64\n"
     ]
    },
    {
     "name": "stderr",
     "output_type": "stream",
     "text": [
      "[I 2023-06-13 15:10:37,588] Trial 40 finished with value: 0.8041074468872603 and parameters: {'depth': 3, 'boosting_type': 'Plain', 'bootstrap_type': 'Bayesian', 'bagging_temperature': 7.788197634685481}. Best is trial 6 with value: 0.810613420296312.\n"
     ]
    },
    {
     "name": "stdout",
     "output_type": "stream",
     "text": [
      "Before SMOTE:  2    341\n",
      "1    175\n",
      "0    116\n",
      "Name: y, dtype: int64\n",
      "After SMOTE:  1    341\n",
      "2    341\n",
      "0    341\n",
      "Name: y, dtype: int64\n"
     ]
    },
    {
     "name": "stderr",
     "output_type": "stream",
     "text": [
      "[I 2023-06-13 15:10:38,225] Trial 41 finished with value: 0.8042721518987342 and parameters: {'depth': 3, 'boosting_type': 'Plain', 'bootstrap_type': 'Bayesian', 'bagging_temperature': 7.821185813666519}. Best is trial 6 with value: 0.810613420296312.\n"
     ]
    },
    {
     "name": "stdout",
     "output_type": "stream",
     "text": [
      "Before SMOTE:  2    341\n",
      "1    175\n",
      "0    116\n",
      "Name: y, dtype: int64\n",
      "After SMOTE:  1    341\n",
      "2    341\n",
      "0    341\n",
      "Name: y, dtype: int64\n"
     ]
    },
    {
     "name": "stderr",
     "output_type": "stream",
     "text": [
      "[I 2023-06-13 15:10:39,582] Trial 42 finished with value: 0.7906610725543032 and parameters: {'depth': 3, 'boosting_type': 'Plain', 'bootstrap_type': 'Bayesian', 'bagging_temperature': 6.273613395982346}. Best is trial 6 with value: 0.810613420296312.\n"
     ]
    },
    {
     "name": "stdout",
     "output_type": "stream",
     "text": [
      "Before SMOTE:  2    341\n",
      "1    175\n",
      "0    116\n",
      "Name: y, dtype: int64\n",
      "After SMOTE:  1    341\n",
      "2    341\n",
      "0    341\n",
      "Name: y, dtype: int64\n"
     ]
    },
    {
     "name": "stderr",
     "output_type": "stream",
     "text": [
      "[I 2023-06-13 15:10:41,309] Trial 43 finished with value: 0.7923118759401488 and parameters: {'depth': 3, 'boosting_type': 'Plain', 'bootstrap_type': 'Bayesian', 'bagging_temperature': 8.015190000633801}. Best is trial 6 with value: 0.810613420296312.\n"
     ]
    },
    {
     "name": "stdout",
     "output_type": "stream",
     "text": [
      "Before SMOTE:  2    341\n",
      "1    175\n",
      "0    116\n",
      "Name: y, dtype: int64\n",
      "After SMOTE:  1    341\n",
      "2    341\n",
      "0    341\n",
      "Name: y, dtype: int64\n"
     ]
    },
    {
     "name": "stderr",
     "output_type": "stream",
     "text": [
      "[I 2023-06-13 15:10:43,288] Trial 44 finished with value: 0.7906610725543032 and parameters: {'depth': 3, 'boosting_type': 'Plain', 'bootstrap_type': 'Bayesian', 'bagging_temperature': 6.201564725429409}. Best is trial 6 with value: 0.810613420296312.\n"
     ]
    },
    {
     "name": "stdout",
     "output_type": "stream",
     "text": [
      "Before SMOTE:  2    341\n",
      "1    175\n",
      "0    116\n",
      "Name: y, dtype: int64\n",
      "After SMOTE:  1    341\n",
      "2    341\n",
      "0    341\n",
      "Name: y, dtype: int64\n"
     ]
    },
    {
     "name": "stderr",
     "output_type": "stream",
     "text": [
      "[I 2023-06-13 15:10:44,072] Trial 45 finished with value: 0.7980907626229544 and parameters: {'depth': 3, 'boosting_type': 'Plain', 'bootstrap_type': 'Bayesian', 'bagging_temperature': 8.090307091533997}. Best is trial 6 with value: 0.810613420296312.\n"
     ]
    },
    {
     "name": "stdout",
     "output_type": "stream",
     "text": [
      "Before SMOTE:  2    341\n",
      "1    175\n",
      "0    116\n",
      "Name: y, dtype: int64\n",
      "After SMOTE:  1    341\n",
      "2    341\n",
      "0    341\n",
      "Name: y, dtype: int64\n"
     ]
    },
    {
     "name": "stderr",
     "output_type": "stream",
     "text": [
      "[I 2023-06-13 15:10:45,576] Trial 46 finished with value: 0.7978814961933134 and parameters: {'depth': 3, 'boosting_type': 'Plain', 'bootstrap_type': 'Bayesian', 'bagging_temperature': 6.8283014558355815}. Best is trial 6 with value: 0.810613420296312.\n"
     ]
    },
    {
     "name": "stdout",
     "output_type": "stream",
     "text": [
      "Before SMOTE:  2    341\n",
      "1    175\n",
      "0    116\n",
      "Name: y, dtype: int64\n",
      "After SMOTE:  1    341\n",
      "2    341\n",
      "0    341\n",
      "Name: y, dtype: int64\n"
     ]
    },
    {
     "name": "stderr",
     "output_type": "stream",
     "text": [
      "[I 2023-06-13 15:10:46,188] Trial 47 finished with value: 0.7618748228606557 and parameters: {'depth': 2, 'boosting_type': 'Plain', 'bootstrap_type': 'Bayesian', 'bagging_temperature': 5.455333235827497}. Best is trial 6 with value: 0.810613420296312.\n"
     ]
    },
    {
     "name": "stdout",
     "output_type": "stream",
     "text": [
      "Before SMOTE:  2    341\n",
      "1    175\n",
      "0    116\n",
      "Name: y, dtype: int64\n",
      "After SMOTE:  1    341\n",
      "2    341\n",
      "0    341\n",
      "Name: y, dtype: int64\n"
     ]
    },
    {
     "name": "stderr",
     "output_type": "stream",
     "text": [
      "[I 2023-06-13 15:10:46,802] Trial 48 finished with value: 0.7868028033764927 and parameters: {'depth': 4, 'boosting_type': 'Plain', 'bootstrap_type': 'Bayesian', 'bagging_temperature': 7.363827840477986}. Best is trial 6 with value: 0.810613420296312.\n"
     ]
    },
    {
     "name": "stdout",
     "output_type": "stream",
     "text": [
      "Before SMOTE:  2    341\n",
      "1    175\n",
      "0    116\n",
      "Name: y, dtype: int64\n",
      "After SMOTE:  1    341\n",
      "2    341\n",
      "0    341\n",
      "Name: y, dtype: int64\n"
     ]
    },
    {
     "name": "stderr",
     "output_type": "stream",
     "text": [
      "[I 2023-06-13 15:10:48,937] Trial 49 finished with value: 0.7867422556869843 and parameters: {'depth': 4, 'boosting_type': 'Plain', 'bootstrap_type': 'Bayesian', 'bagging_temperature': 8.651690387057831}. Best is trial 6 with value: 0.810613420296312.\n"
     ]
    },
    {
     "name": "stdout",
     "output_type": "stream",
     "text": [
      "Number of finished trials: 50\n",
      "Best trial: {'depth': 5, 'boosting_type': 'Ordered', 'bootstrap_type': 'Bayesian', 'bagging_temperature': 5.821067151758501}\n"
     ]
    }
   ],
   "source": [
    "study = optuna.create_study(direction='maximize')\n",
    "study.optimize(objective, n_trials=50)\n",
    "print('Number of finished trials:', len(study.trials))\n",
    "print('Best trial:', study.best_trial.params)"
   ]
  },
  {
   "cell_type": "code",
   "execution_count": 127,
   "metadata": {},
   "outputs": [
    {
     "data": {
      "application/vnd.plotly.v1+json": {
       "config": {
        "plotlyServerURL": "https://plot.ly"
       },
       "data": [
        {
         "cliponaxis": false,
         "hovertemplate": [
          "boosting_type (CategoricalDistribution): 0.013518370268635992<extra></extra>",
          "bootstrap_type (CategoricalDistribution): 0.04928367211087119<extra></extra>",
          "depth (IntDistribution): 0.9371979576204928<extra></extra>"
         ],
         "marker": {
          "color": "rgb(66,146,198)"
         },
         "orientation": "h",
         "text": [
          "0.01",
          "0.05",
          "0.94"
         ],
         "textposition": "outside",
         "type": "bar",
         "x": [
          0.013518370268635992,
          0.04928367211087119,
          0.9371979576204928
         ],
         "y": [
          "boosting_type",
          "bootstrap_type",
          "depth"
         ]
        }
       ],
       "layout": {
        "showlegend": false,
        "template": {
         "data": {
          "bar": [
           {
            "error_x": {
             "color": "#2a3f5f"
            },
            "error_y": {
             "color": "#2a3f5f"
            },
            "marker": {
             "line": {
              "color": "#E5ECF6",
              "width": 0.5
             },
             "pattern": {
              "fillmode": "overlay",
              "size": 10,
              "solidity": 0.2
             }
            },
            "type": "bar"
           }
          ],
          "barpolar": [
           {
            "marker": {
             "line": {
              "color": "#E5ECF6",
              "width": 0.5
             },
             "pattern": {
              "fillmode": "overlay",
              "size": 10,
              "solidity": 0.2
             }
            },
            "type": "barpolar"
           }
          ],
          "carpet": [
           {
            "aaxis": {
             "endlinecolor": "#2a3f5f",
             "gridcolor": "white",
             "linecolor": "white",
             "minorgridcolor": "white",
             "startlinecolor": "#2a3f5f"
            },
            "baxis": {
             "endlinecolor": "#2a3f5f",
             "gridcolor": "white",
             "linecolor": "white",
             "minorgridcolor": "white",
             "startlinecolor": "#2a3f5f"
            },
            "type": "carpet"
           }
          ],
          "choropleth": [
           {
            "colorbar": {
             "outlinewidth": 0,
             "ticks": ""
            },
            "type": "choropleth"
           }
          ],
          "contour": [
           {
            "colorbar": {
             "outlinewidth": 0,
             "ticks": ""
            },
            "colorscale": [
             [
              0,
              "#0d0887"
             ],
             [
              0.1111111111111111,
              "#46039f"
             ],
             [
              0.2222222222222222,
              "#7201a8"
             ],
             [
              0.3333333333333333,
              "#9c179e"
             ],
             [
              0.4444444444444444,
              "#bd3786"
             ],
             [
              0.5555555555555556,
              "#d8576b"
             ],
             [
              0.6666666666666666,
              "#ed7953"
             ],
             [
              0.7777777777777778,
              "#fb9f3a"
             ],
             [
              0.8888888888888888,
              "#fdca26"
             ],
             [
              1,
              "#f0f921"
             ]
            ],
            "type": "contour"
           }
          ],
          "contourcarpet": [
           {
            "colorbar": {
             "outlinewidth": 0,
             "ticks": ""
            },
            "type": "contourcarpet"
           }
          ],
          "heatmap": [
           {
            "colorbar": {
             "outlinewidth": 0,
             "ticks": ""
            },
            "colorscale": [
             [
              0,
              "#0d0887"
             ],
             [
              0.1111111111111111,
              "#46039f"
             ],
             [
              0.2222222222222222,
              "#7201a8"
             ],
             [
              0.3333333333333333,
              "#9c179e"
             ],
             [
              0.4444444444444444,
              "#bd3786"
             ],
             [
              0.5555555555555556,
              "#d8576b"
             ],
             [
              0.6666666666666666,
              "#ed7953"
             ],
             [
              0.7777777777777778,
              "#fb9f3a"
             ],
             [
              0.8888888888888888,
              "#fdca26"
             ],
             [
              1,
              "#f0f921"
             ]
            ],
            "type": "heatmap"
           }
          ],
          "heatmapgl": [
           {
            "colorbar": {
             "outlinewidth": 0,
             "ticks": ""
            },
            "colorscale": [
             [
              0,
              "#0d0887"
             ],
             [
              0.1111111111111111,
              "#46039f"
             ],
             [
              0.2222222222222222,
              "#7201a8"
             ],
             [
              0.3333333333333333,
              "#9c179e"
             ],
             [
              0.4444444444444444,
              "#bd3786"
             ],
             [
              0.5555555555555556,
              "#d8576b"
             ],
             [
              0.6666666666666666,
              "#ed7953"
             ],
             [
              0.7777777777777778,
              "#fb9f3a"
             ],
             [
              0.8888888888888888,
              "#fdca26"
             ],
             [
              1,
              "#f0f921"
             ]
            ],
            "type": "heatmapgl"
           }
          ],
          "histogram": [
           {
            "marker": {
             "pattern": {
              "fillmode": "overlay",
              "size": 10,
              "solidity": 0.2
             }
            },
            "type": "histogram"
           }
          ],
          "histogram2d": [
           {
            "colorbar": {
             "outlinewidth": 0,
             "ticks": ""
            },
            "colorscale": [
             [
              0,
              "#0d0887"
             ],
             [
              0.1111111111111111,
              "#46039f"
             ],
             [
              0.2222222222222222,
              "#7201a8"
             ],
             [
              0.3333333333333333,
              "#9c179e"
             ],
             [
              0.4444444444444444,
              "#bd3786"
             ],
             [
              0.5555555555555556,
              "#d8576b"
             ],
             [
              0.6666666666666666,
              "#ed7953"
             ],
             [
              0.7777777777777778,
              "#fb9f3a"
             ],
             [
              0.8888888888888888,
              "#fdca26"
             ],
             [
              1,
              "#f0f921"
             ]
            ],
            "type": "histogram2d"
           }
          ],
          "histogram2dcontour": [
           {
            "colorbar": {
             "outlinewidth": 0,
             "ticks": ""
            },
            "colorscale": [
             [
              0,
              "#0d0887"
             ],
             [
              0.1111111111111111,
              "#46039f"
             ],
             [
              0.2222222222222222,
              "#7201a8"
             ],
             [
              0.3333333333333333,
              "#9c179e"
             ],
             [
              0.4444444444444444,
              "#bd3786"
             ],
             [
              0.5555555555555556,
              "#d8576b"
             ],
             [
              0.6666666666666666,
              "#ed7953"
             ],
             [
              0.7777777777777778,
              "#fb9f3a"
             ],
             [
              0.8888888888888888,
              "#fdca26"
             ],
             [
              1,
              "#f0f921"
             ]
            ],
            "type": "histogram2dcontour"
           }
          ],
          "mesh3d": [
           {
            "colorbar": {
             "outlinewidth": 0,
             "ticks": ""
            },
            "type": "mesh3d"
           }
          ],
          "parcoords": [
           {
            "line": {
             "colorbar": {
              "outlinewidth": 0,
              "ticks": ""
             }
            },
            "type": "parcoords"
           }
          ],
          "pie": [
           {
            "automargin": true,
            "type": "pie"
           }
          ],
          "scatter": [
           {
            "marker": {
             "colorbar": {
              "outlinewidth": 0,
              "ticks": ""
             }
            },
            "type": "scatter"
           }
          ],
          "scatter3d": [
           {
            "line": {
             "colorbar": {
              "outlinewidth": 0,
              "ticks": ""
             }
            },
            "marker": {
             "colorbar": {
              "outlinewidth": 0,
              "ticks": ""
             }
            },
            "type": "scatter3d"
           }
          ],
          "scattercarpet": [
           {
            "marker": {
             "colorbar": {
              "outlinewidth": 0,
              "ticks": ""
             }
            },
            "type": "scattercarpet"
           }
          ],
          "scattergeo": [
           {
            "marker": {
             "colorbar": {
              "outlinewidth": 0,
              "ticks": ""
             }
            },
            "type": "scattergeo"
           }
          ],
          "scattergl": [
           {
            "marker": {
             "colorbar": {
              "outlinewidth": 0,
              "ticks": ""
             }
            },
            "type": "scattergl"
           }
          ],
          "scattermapbox": [
           {
            "marker": {
             "colorbar": {
              "outlinewidth": 0,
              "ticks": ""
             }
            },
            "type": "scattermapbox"
           }
          ],
          "scatterpolar": [
           {
            "marker": {
             "colorbar": {
              "outlinewidth": 0,
              "ticks": ""
             }
            },
            "type": "scatterpolar"
           }
          ],
          "scatterpolargl": [
           {
            "marker": {
             "colorbar": {
              "outlinewidth": 0,
              "ticks": ""
             }
            },
            "type": "scatterpolargl"
           }
          ],
          "scatterternary": [
           {
            "marker": {
             "colorbar": {
              "outlinewidth": 0,
              "ticks": ""
             }
            },
            "type": "scatterternary"
           }
          ],
          "surface": [
           {
            "colorbar": {
             "outlinewidth": 0,
             "ticks": ""
            },
            "colorscale": [
             [
              0,
              "#0d0887"
             ],
             [
              0.1111111111111111,
              "#46039f"
             ],
             [
              0.2222222222222222,
              "#7201a8"
             ],
             [
              0.3333333333333333,
              "#9c179e"
             ],
             [
              0.4444444444444444,
              "#bd3786"
             ],
             [
              0.5555555555555556,
              "#d8576b"
             ],
             [
              0.6666666666666666,
              "#ed7953"
             ],
             [
              0.7777777777777778,
              "#fb9f3a"
             ],
             [
              0.8888888888888888,
              "#fdca26"
             ],
             [
              1,
              "#f0f921"
             ]
            ],
            "type": "surface"
           }
          ],
          "table": [
           {
            "cells": {
             "fill": {
              "color": "#EBF0F8"
             },
             "line": {
              "color": "white"
             }
            },
            "header": {
             "fill": {
              "color": "#C8D4E3"
             },
             "line": {
              "color": "white"
             }
            },
            "type": "table"
           }
          ]
         },
         "layout": {
          "annotationdefaults": {
           "arrowcolor": "#2a3f5f",
           "arrowhead": 0,
           "arrowwidth": 1
          },
          "autotypenumbers": "strict",
          "coloraxis": {
           "colorbar": {
            "outlinewidth": 0,
            "ticks": ""
           }
          },
          "colorscale": {
           "diverging": [
            [
             0,
             "#8e0152"
            ],
            [
             0.1,
             "#c51b7d"
            ],
            [
             0.2,
             "#de77ae"
            ],
            [
             0.3,
             "#f1b6da"
            ],
            [
             0.4,
             "#fde0ef"
            ],
            [
             0.5,
             "#f7f7f7"
            ],
            [
             0.6,
             "#e6f5d0"
            ],
            [
             0.7,
             "#b8e186"
            ],
            [
             0.8,
             "#7fbc41"
            ],
            [
             0.9,
             "#4d9221"
            ],
            [
             1,
             "#276419"
            ]
           ],
           "sequential": [
            [
             0,
             "#0d0887"
            ],
            [
             0.1111111111111111,
             "#46039f"
            ],
            [
             0.2222222222222222,
             "#7201a8"
            ],
            [
             0.3333333333333333,
             "#9c179e"
            ],
            [
             0.4444444444444444,
             "#bd3786"
            ],
            [
             0.5555555555555556,
             "#d8576b"
            ],
            [
             0.6666666666666666,
             "#ed7953"
            ],
            [
             0.7777777777777778,
             "#fb9f3a"
            ],
            [
             0.8888888888888888,
             "#fdca26"
            ],
            [
             1,
             "#f0f921"
            ]
           ],
           "sequentialminus": [
            [
             0,
             "#0d0887"
            ],
            [
             0.1111111111111111,
             "#46039f"
            ],
            [
             0.2222222222222222,
             "#7201a8"
            ],
            [
             0.3333333333333333,
             "#9c179e"
            ],
            [
             0.4444444444444444,
             "#bd3786"
            ],
            [
             0.5555555555555556,
             "#d8576b"
            ],
            [
             0.6666666666666666,
             "#ed7953"
            ],
            [
             0.7777777777777778,
             "#fb9f3a"
            ],
            [
             0.8888888888888888,
             "#fdca26"
            ],
            [
             1,
             "#f0f921"
            ]
           ]
          },
          "colorway": [
           "#636efa",
           "#EF553B",
           "#00cc96",
           "#ab63fa",
           "#FFA15A",
           "#19d3f3",
           "#FF6692",
           "#B6E880",
           "#FF97FF",
           "#FECB52"
          ],
          "font": {
           "color": "#2a3f5f"
          },
          "geo": {
           "bgcolor": "white",
           "lakecolor": "white",
           "landcolor": "#E5ECF6",
           "showlakes": true,
           "showland": true,
           "subunitcolor": "white"
          },
          "hoverlabel": {
           "align": "left"
          },
          "hovermode": "closest",
          "mapbox": {
           "style": "light"
          },
          "paper_bgcolor": "white",
          "plot_bgcolor": "#E5ECF6",
          "polar": {
           "angularaxis": {
            "gridcolor": "white",
            "linecolor": "white",
            "ticks": ""
           },
           "bgcolor": "#E5ECF6",
           "radialaxis": {
            "gridcolor": "white",
            "linecolor": "white",
            "ticks": ""
           }
          },
          "scene": {
           "xaxis": {
            "backgroundcolor": "#E5ECF6",
            "gridcolor": "white",
            "gridwidth": 2,
            "linecolor": "white",
            "showbackground": true,
            "ticks": "",
            "zerolinecolor": "white"
           },
           "yaxis": {
            "backgroundcolor": "#E5ECF6",
            "gridcolor": "white",
            "gridwidth": 2,
            "linecolor": "white",
            "showbackground": true,
            "ticks": "",
            "zerolinecolor": "white"
           },
           "zaxis": {
            "backgroundcolor": "#E5ECF6",
            "gridcolor": "white",
            "gridwidth": 2,
            "linecolor": "white",
            "showbackground": true,
            "ticks": "",
            "zerolinecolor": "white"
           }
          },
          "shapedefaults": {
           "line": {
            "color": "#2a3f5f"
           }
          },
          "ternary": {
           "aaxis": {
            "gridcolor": "white",
            "linecolor": "white",
            "ticks": ""
           },
           "baxis": {
            "gridcolor": "white",
            "linecolor": "white",
            "ticks": ""
           },
           "bgcolor": "#E5ECF6",
           "caxis": {
            "gridcolor": "white",
            "linecolor": "white",
            "ticks": ""
           }
          },
          "title": {
           "x": 0.05
          },
          "xaxis": {
           "automargin": true,
           "gridcolor": "white",
           "linecolor": "white",
           "ticks": "",
           "title": {
            "standoff": 15
           },
           "zerolinecolor": "white",
           "zerolinewidth": 2
          },
          "yaxis": {
           "automargin": true,
           "gridcolor": "white",
           "linecolor": "white",
           "ticks": "",
           "title": {
            "standoff": 15
           },
           "zerolinecolor": "white",
           "zerolinewidth": 2
          }
         }
        },
        "title": {
         "text": "Hyperparameter Importances"
        },
        "xaxis": {
         "title": {
          "text": "Importance for Objective Value"
         }
        },
        "yaxis": {
         "title": {
          "text": "Hyperparameter"
         }
        }
       }
      }
     },
     "metadata": {},
     "output_type": "display_data"
    }
   ],
   "source": [
    "optuna.visualization.plot_param_importances(study)"
   ]
  },
  {
   "cell_type": "code",
   "execution_count": 128,
   "metadata": {},
   "outputs": [
    {
     "name": "stdout",
     "output_type": "stream",
     "text": [
      "Before SMOTE:  2    426\n",
      "1    219\n",
      "0    145\n",
      "Name: y, dtype: int64\n",
      "After SMOTE:  2    426\n",
      "0    426\n",
      "1    426\n",
      "Name: y, dtype: int64\n"
     ]
    },
    {
     "data": {
      "image/png": "[encoded data removed]",
      "text/plain": [
       "<Figure size 864x576 with 2 Axes>"
      ]
     },
     "metadata": {
      "needs_background": "light"
     },
     "output_type": "display_data"
    },
    {
     "data": {
      "text/plain": [
       "0.728653797759784"
      ]
     },
     "execution_count": 128,
     "metadata": {},
     "output_type": "execute_result"
    }
   ],
   "source": [
    "model = CatBoostClassifier(verbose=0)\n",
    "x_train, y_train = upsample_training_data_with_SMOTE(df_train.drop(['y'], axis=1), df_train['y'])\n",
    "# x_train,y_train = df_train.drop(['y'], axis=1), df_train['y']\n",
    "model.fit(x_train, y_train)\n",
    "evaluate_performance_on_test_set(model, df_test)"
   ]
  },
  {
   "cell_type": "code",
   "execution_count": 134,
   "metadata": {},
   "outputs": [
    {
     "name": "stdout",
     "output_type": "stream",
     "text": [
      "Before SMOTE:  2    426\n",
      "1    219\n",
      "0    145\n",
      "Name: y, dtype: int64\n",
      "After SMOTE:  2    426\n",
      "0    426\n",
      "1    426\n",
      "Name: y, dtype: int64\n",
      "Learning rate set to 0.080123\n",
      "0:\tlearn: 1.0541462\ttotal: 6.77ms\tremaining: 6.77s\n",
      "1:\tlearn: 1.0101004\ttotal: 12.8ms\tremaining: 6.4s\n",
      "2:\tlearn: 0.9760872\ttotal: 19.3ms\tremaining: 6.41s\n",
      "3:\tlearn: 0.9429870\ttotal: 25.6ms\tremaining: 6.37s\n",
      "4:\tlearn: 0.9130624\ttotal: 31.2ms\tremaining: 6.22s\n",
      "5:\tlearn: 0.8876983\ttotal: 37.1ms\tremaining: 6.15s\n",
      "6:\tlearn: 0.8702097\ttotal: 42.9ms\tremaining: 6.09s\n",
      "7:\tlearn: 0.8554156\ttotal: 49.4ms\tremaining: 6.13s\n",
      "8:\tlearn: 0.8394507\ttotal: 55.6ms\tremaining: 6.12s\n",
      "9:\tlearn: 0.8150689\ttotal: 61.2ms\tremaining: 6.06s\n",
      "10:\tlearn: 0.8000196\ttotal: 67.5ms\tremaining: 6.07s\n",
      "11:\tlearn: 0.7860943\ttotal: 73.9ms\tremaining: 6.08s\n",
      "12:\tlearn: 0.7681370\ttotal: 80.3ms\tremaining: 6.1s\n",
      "13:\tlearn: 0.7551495\ttotal: 86.4ms\tremaining: 6.08s\n",
      "14:\tlearn: 0.7452769\ttotal: 92.5ms\tremaining: 6.07s\n",
      "15:\tlearn: 0.7397811\ttotal: 99.6ms\tremaining: 6.12s\n",
      "16:\tlearn: 0.7295105\ttotal: 106ms\tremaining: 6.15s\n",
      "17:\tlearn: 0.7160855\ttotal: 114ms\tremaining: 6.22s\n",
      "18:\tlearn: 0.7058674\ttotal: 120ms\tremaining: 6.19s\n",
      "19:\tlearn: 0.6943290\ttotal: 126ms\tremaining: 6.17s\n",
      "20:\tlearn: 0.6816479\ttotal: 132ms\tremaining: 6.15s\n",
      "21:\tlearn: 0.6742889\ttotal: 138ms\tremaining: 6.14s\n",
      "22:\tlearn: 0.6617606\ttotal: 144ms\tremaining: 6.13s\n",
      "23:\tlearn: 0.6537222\ttotal: 150ms\tremaining: 6.09s\n",
      "24:\tlearn: 0.6453381\ttotal: 155ms\tremaining: 6.06s\n",
      "25:\tlearn: 0.6391649\ttotal: 161ms\tremaining: 6.03s\n",
      "26:\tlearn: 0.6319402\ttotal: 166ms\tremaining: 5.99s\n",
      "27:\tlearn: 0.6252670\ttotal: 172ms\tremaining: 5.97s\n",
      "28:\tlearn: 0.6199661\ttotal: 178ms\tremaining: 5.96s\n",
      "29:\tlearn: 0.6136923\ttotal: 184ms\tremaining: 5.94s\n",
      "30:\tlearn: 0.6084360\ttotal: 190ms\tremaining: 5.92s\n",
      "31:\tlearn: 0.6009677\ttotal: 195ms\tremaining: 5.91s\n",
      "32:\tlearn: 0.5948347\ttotal: 201ms\tremaining: 5.9s\n",
      "33:\tlearn: 0.5876394\ttotal: 208ms\tremaining: 5.9s\n",
      "34:\tlearn: 0.5805715\ttotal: 214ms\tremaining: 5.9s\n",
      "35:\tlearn: 0.5748982\ttotal: 220ms\tremaining: 5.88s\n",
      "36:\tlearn: 0.5685402\ttotal: 226ms\tremaining: 5.88s\n",
      "37:\tlearn: 0.5656882\ttotal: 233ms\tremaining: 5.89s\n",
      "38:\tlearn: 0.5644447\ttotal: 239ms\tremaining: 5.9s\n",
      "39:\tlearn: 0.5597773\ttotal: 246ms\tremaining: 5.9s\n",
      "40:\tlearn: 0.5551190\ttotal: 253ms\tremaining: 5.92s\n",
      "41:\tlearn: 0.5521630\ttotal: 260ms\tremaining: 5.92s\n",
      "42:\tlearn: 0.5461124\ttotal: 267ms\tremaining: 5.95s\n",
      "43:\tlearn: 0.5415010\ttotal: 275ms\tremaining: 5.98s\n",
      "44:\tlearn: 0.5352258\ttotal: 283ms\tremaining: 6s\n",
      "45:\tlearn: 0.5329115\ttotal: 291ms\tremaining: 6.03s\n",
      "46:\tlearn: 0.5300113\ttotal: 299ms\tremaining: 6.05s\n",
      "47:\tlearn: 0.5261059\ttotal: 307ms\tremaining: 6.08s\n",
      "48:\tlearn: 0.5241590\ttotal: 316ms\tremaining: 6.12s\n",
      "49:\tlearn: 0.5225864\ttotal: 324ms\tremaining: 6.16s\n",
      "50:\tlearn: 0.5209890\ttotal: 333ms\tremaining: 6.19s\n",
      "51:\tlearn: 0.5197208\ttotal: 340ms\tremaining: 6.2s\n",
      "52:\tlearn: 0.5161803\ttotal: 347ms\tremaining: 6.2s\n",
      "53:\tlearn: 0.5135022\ttotal: 354ms\tremaining: 6.2s\n",
      "54:\tlearn: 0.5100686\ttotal: 361ms\tremaining: 6.21s\n",
      "55:\tlearn: 0.5095678\ttotal: 369ms\tremaining: 6.22s\n",
      "56:\tlearn: 0.5064990\ttotal: 378ms\tremaining: 6.26s\n",
      "57:\tlearn: 0.5054845\ttotal: 387ms\tremaining: 6.28s\n",
      "58:\tlearn: 0.5036148\ttotal: 394ms\tremaining: 6.28s\n",
      "59:\tlearn: 0.5012911\ttotal: 402ms\tremaining: 6.3s\n",
      "60:\tlearn: 0.5010793\ttotal: 407ms\tremaining: 6.27s\n",
      "61:\tlearn: 0.4983094\ttotal: 417ms\tremaining: 6.32s\n",
      "62:\tlearn: 0.4959024\ttotal: 426ms\tremaining: 6.33s\n",
      "63:\tlearn: 0.4947218\ttotal: 435ms\tremaining: 6.37s\n",
      "64:\tlearn: 0.4910430\ttotal: 445ms\tremaining: 6.39s\n",
      "65:\tlearn: 0.4905320\ttotal: 453ms\tremaining: 6.41s\n",
      "66:\tlearn: 0.4873944\ttotal: 462ms\tremaining: 6.44s\n",
      "67:\tlearn: 0.4847684\ttotal: 472ms\tremaining: 6.47s\n",
      "68:\tlearn: 0.4845129\ttotal: 482ms\tremaining: 6.5s\n",
      "69:\tlearn: 0.4815488\ttotal: 491ms\tremaining: 6.52s\n",
      "70:\tlearn: 0.4802151\ttotal: 500ms\tremaining: 6.54s\n",
      "71:\tlearn: 0.4766406\ttotal: 508ms\tremaining: 6.55s\n",
      "72:\tlearn: 0.4754347\ttotal: 517ms\tremaining: 6.57s\n",
      "73:\tlearn: 0.4738615\ttotal: 535ms\tremaining: 6.69s\n",
      "74:\tlearn: 0.4715467\ttotal: 557ms\tremaining: 6.87s\n",
      "75:\tlearn: 0.4699595\ttotal: 577ms\tremaining: 7.01s\n",
      "76:\tlearn: 0.4672799\ttotal: 588ms\tremaining: 7.05s\n",
      "77:\tlearn: 0.4656264\ttotal: 598ms\tremaining: 7.07s\n",
      "78:\tlearn: 0.4631301\ttotal: 607ms\tremaining: 7.07s\n",
      "79:\tlearn: 0.4625619\ttotal: 615ms\tremaining: 7.07s\n",
      "80:\tlearn: 0.4608283\ttotal: 623ms\tremaining: 7.07s\n",
      "81:\tlearn: 0.4584723\ttotal: 636ms\tremaining: 7.12s\n",
      "82:\tlearn: 0.4572809\ttotal: 649ms\tremaining: 7.17s\n",
      "83:\tlearn: 0.4558807\ttotal: 657ms\tremaining: 7.17s\n",
      "84:\tlearn: 0.4541253\ttotal: 666ms\tremaining: 7.17s\n",
      "85:\tlearn: 0.4521548\ttotal: 674ms\tremaining: 7.16s\n",
      "86:\tlearn: 0.4502667\ttotal: 681ms\tremaining: 7.15s\n",
      "87:\tlearn: 0.4491730\ttotal: 691ms\tremaining: 7.16s\n",
      "88:\tlearn: 0.4459982\ttotal: 700ms\tremaining: 7.17s\n",
      "89:\tlearn: 0.4442159\ttotal: 710ms\tremaining: 7.18s\n",
      "90:\tlearn: 0.4427988\ttotal: 719ms\tremaining: 7.18s\n",
      "91:\tlearn: 0.4394226\ttotal: 726ms\tremaining: 7.17s\n",
      "92:\tlearn: 0.4381399\ttotal: 734ms\tremaining: 7.16s\n",
      "93:\tlearn: 0.4361582\ttotal: 742ms\tremaining: 7.15s\n",
      "94:\tlearn: 0.4357190\ttotal: 751ms\tremaining: 7.15s\n",
      "95:\tlearn: 0.4349402\ttotal: 760ms\tremaining: 7.15s\n",
      "96:\tlearn: 0.4335335\ttotal: 768ms\tremaining: 7.15s\n",
      "97:\tlearn: 0.4323980\ttotal: 777ms\tremaining: 7.15s\n",
      "98:\tlearn: 0.4305999\ttotal: 785ms\tremaining: 7.15s\n",
      "99:\tlearn: 0.4286511\ttotal: 794ms\tremaining: 7.14s\n",
      "100:\tlearn: 0.4273165\ttotal: 802ms\tremaining: 7.13s\n",
      "101:\tlearn: 0.4270793\ttotal: 809ms\tremaining: 7.13s\n",
      "102:\tlearn: 0.4255036\ttotal: 818ms\tremaining: 7.12s\n",
      "103:\tlearn: 0.4253264\ttotal: 826ms\tremaining: 7.12s\n",
      "104:\tlearn: 0.4239290\ttotal: 835ms\tremaining: 7.12s\n",
      "105:\tlearn: 0.4203316\ttotal: 843ms\tremaining: 7.11s\n",
      "106:\tlearn: 0.4197779\ttotal: 851ms\tremaining: 7.1s\n",
      "107:\tlearn: 0.4183652\ttotal: 858ms\tremaining: 7.09s\n",
      "108:\tlearn: 0.4175511\ttotal: 865ms\tremaining: 7.07s\n",
      "109:\tlearn: 0.4152052\ttotal: 874ms\tremaining: 7.07s\n",
      "110:\tlearn: 0.4145132\ttotal: 882ms\tremaining: 7.07s\n",
      "111:\tlearn: 0.4136876\ttotal: 889ms\tremaining: 7.05s\n",
      "112:\tlearn: 0.4133655\ttotal: 897ms\tremaining: 7.04s\n",
      "113:\tlearn: 0.4115946\ttotal: 905ms\tremaining: 7.03s\n",
      "114:\tlearn: 0.4106643\ttotal: 912ms\tremaining: 7.02s\n",
      "115:\tlearn: 0.4094918\ttotal: 920ms\tremaining: 7.01s\n",
      "116:\tlearn: 0.4080885\ttotal: 928ms\tremaining: 7s\n",
      "117:\tlearn: 0.4070872\ttotal: 936ms\tremaining: 6.99s\n",
      "118:\tlearn: 0.4068526\ttotal: 943ms\tremaining: 6.98s\n",
      "119:\tlearn: 0.4053665\ttotal: 951ms\tremaining: 6.97s\n",
      "120:\tlearn: 0.4037138\ttotal: 959ms\tremaining: 6.96s\n",
      "121:\tlearn: 0.4014324\ttotal: 966ms\tremaining: 6.95s\n",
      "122:\tlearn: 0.4009222\ttotal: 973ms\tremaining: 6.94s\n",
      "123:\tlearn: 0.4000269\ttotal: 982ms\tremaining: 6.94s\n",
      "124:\tlearn: 0.3992241\ttotal: 989ms\tremaining: 6.92s\n",
      "125:\tlearn: 0.3981151\ttotal: 995ms\tremaining: 6.9s\n",
      "126:\tlearn: 0.3971964\ttotal: 1s\tremaining: 6.89s\n",
      "127:\tlearn: 0.3960876\ttotal: 1.01s\tremaining: 6.87s\n",
      "128:\tlearn: 0.3952914\ttotal: 1.02s\tremaining: 6.86s\n",
      "129:\tlearn: 0.3947156\ttotal: 1.02s\tremaining: 6.85s\n",
      "130:\tlearn: 0.3939206\ttotal: 1.03s\tremaining: 6.84s\n",
      "131:\tlearn: 0.3931664\ttotal: 1.04s\tremaining: 6.83s\n",
      "132:\tlearn: 0.3925854\ttotal: 1.04s\tremaining: 6.82s\n",
      "133:\tlearn: 0.3912442\ttotal: 1.05s\tremaining: 6.8s\n",
      "134:\tlearn: 0.3900090\ttotal: 1.06s\tremaining: 6.79s\n",
      "135:\tlearn: 0.3883526\ttotal: 1.07s\tremaining: 6.78s\n",
      "136:\tlearn: 0.3871878\ttotal: 1.08s\tremaining: 6.78s\n",
      "137:\tlearn: 0.3865382\ttotal: 1.08s\tremaining: 6.76s\n",
      "138:\tlearn: 0.3857345\ttotal: 1.09s\tremaining: 6.75s\n",
      "139:\tlearn: 0.3850875\ttotal: 1.1s\tremaining: 6.74s\n",
      "140:\tlearn: 0.3834983\ttotal: 1.1s\tremaining: 6.72s\n",
      "141:\tlearn: 0.3831327\ttotal: 1.11s\tremaining: 6.72s\n",
      "142:\tlearn: 0.3827081\ttotal: 1.12s\tremaining: 6.71s\n",
      "143:\tlearn: 0.3808328\ttotal: 1.13s\tremaining: 6.7s\n",
      "144:\tlearn: 0.3797314\ttotal: 1.13s\tremaining: 6.69s\n",
      "145:\tlearn: 0.3774090\ttotal: 1.14s\tremaining: 6.67s\n",
      "146:\tlearn: 0.3763099\ttotal: 1.15s\tremaining: 6.66s\n",
      "147:\tlearn: 0.3748666\ttotal: 1.15s\tremaining: 6.64s\n",
      "148:\tlearn: 0.3745127\ttotal: 1.16s\tremaining: 6.63s\n",
      "149:\tlearn: 0.3740059\ttotal: 1.17s\tremaining: 6.62s\n",
      "150:\tlearn: 0.3720424\ttotal: 1.18s\tremaining: 6.61s\n",
      "151:\tlearn: 0.3696588\ttotal: 1.18s\tremaining: 6.59s\n",
      "152:\tlearn: 0.3686150\ttotal: 1.19s\tremaining: 6.58s\n",
      "153:\tlearn: 0.3683662\ttotal: 1.2s\tremaining: 6.57s\n",
      "154:\tlearn: 0.3675902\ttotal: 1.2s\tremaining: 6.55s\n",
      "155:\tlearn: 0.3666834\ttotal: 1.21s\tremaining: 6.54s\n",
      "156:\tlearn: 0.3652960\ttotal: 1.22s\tremaining: 6.53s\n",
      "157:\tlearn: 0.3643216\ttotal: 1.22s\tremaining: 6.52s\n",
      "158:\tlearn: 0.3636520\ttotal: 1.23s\tremaining: 6.51s\n",
      "159:\tlearn: 0.3632825\ttotal: 1.24s\tremaining: 6.5s\n",
      "160:\tlearn: 0.3626817\ttotal: 1.25s\tremaining: 6.49s\n",
      "161:\tlearn: 0.3618040\ttotal: 1.25s\tremaining: 6.48s\n",
      "162:\tlearn: 0.3606109\ttotal: 1.26s\tremaining: 6.47s\n",
      "163:\tlearn: 0.3594824\ttotal: 1.27s\tremaining: 6.48s\n",
      "164:\tlearn: 0.3589657\ttotal: 1.28s\tremaining: 6.46s\n",
      "165:\tlearn: 0.3587245\ttotal: 1.28s\tremaining: 6.44s\n",
      "166:\tlearn: 0.3582753\ttotal: 1.29s\tremaining: 6.42s\n",
      "167:\tlearn: 0.3576056\ttotal: 1.29s\tremaining: 6.41s\n",
      "168:\tlearn: 0.3565671\ttotal: 1.3s\tremaining: 6.4s\n",
      "169:\tlearn: 0.3561294\ttotal: 1.31s\tremaining: 6.38s\n",
      "170:\tlearn: 0.3557964\ttotal: 1.31s\tremaining: 6.37s\n",
      "171:\tlearn: 0.3550654\ttotal: 1.32s\tremaining: 6.35s\n",
      "172:\tlearn: 0.3533742\ttotal: 1.33s\tremaining: 6.34s\n",
      "173:\tlearn: 0.3519948\ttotal: 1.33s\tremaining: 6.33s\n",
      "174:\tlearn: 0.3515042\ttotal: 1.34s\tremaining: 6.32s\n",
      "175:\tlearn: 0.3509948\ttotal: 1.35s\tremaining: 6.31s\n",
      "176:\tlearn: 0.3502910\ttotal: 1.35s\tremaining: 6.29s\n",
      "177:\tlearn: 0.3489498\ttotal: 1.36s\tremaining: 6.28s\n",
      "178:\tlearn: 0.3482644\ttotal: 1.37s\tremaining: 6.27s\n",
      "179:\tlearn: 0.3475766\ttotal: 1.37s\tremaining: 6.25s\n",
      "180:\tlearn: 0.3466000\ttotal: 1.38s\tremaining: 6.24s\n",
      "181:\tlearn: 0.3455779\ttotal: 1.39s\tremaining: 6.23s\n",
      "182:\tlearn: 0.3451572\ttotal: 1.39s\tremaining: 6.21s\n",
      "183:\tlearn: 0.3445008\ttotal: 1.4s\tremaining: 6.2s\n",
      "184:\tlearn: 0.3439423\ttotal: 1.4s\tremaining: 6.19s\n",
      "185:\tlearn: 0.3432369\ttotal: 1.41s\tremaining: 6.17s\n",
      "186:\tlearn: 0.3429285\ttotal: 1.42s\tremaining: 6.16s\n",
      "187:\tlearn: 0.3428625\ttotal: 1.42s\tremaining: 6.15s\n",
      "188:\tlearn: 0.3422823\ttotal: 1.43s\tremaining: 6.14s\n",
      "189:\tlearn: 0.3415989\ttotal: 1.44s\tremaining: 6.13s\n",
      "190:\tlearn: 0.3409973\ttotal: 1.44s\tremaining: 6.11s\n",
      "191:\tlearn: 0.3398809\ttotal: 1.45s\tremaining: 6.1s\n",
      "192:\tlearn: 0.3390077\ttotal: 1.46s\tremaining: 6.09s\n",
      "193:\tlearn: 0.3386296\ttotal: 1.46s\tremaining: 6.08s\n",
      "194:\tlearn: 0.3382463\ttotal: 1.47s\tremaining: 6.07s\n",
      "195:\tlearn: 0.3371251\ttotal: 1.48s\tremaining: 6.05s\n",
      "196:\tlearn: 0.3367364\ttotal: 1.48s\tremaining: 6.04s\n",
      "197:\tlearn: 0.3362582\ttotal: 1.49s\tremaining: 6.03s\n",
      "198:\tlearn: 0.3356135\ttotal: 1.5s\tremaining: 6.03s\n",
      "199:\tlearn: 0.3353157\ttotal: 1.5s\tremaining: 6.02s\n",
      "200:\tlearn: 0.3348050\ttotal: 1.51s\tremaining: 6.01s\n",
      "201:\tlearn: 0.3340729\ttotal: 1.52s\tremaining: 6s\n",
      "202:\tlearn: 0.3335655\ttotal: 1.53s\tremaining: 5.99s\n",
      "203:\tlearn: 0.3329584\ttotal: 1.53s\tremaining: 5.98s\n",
      "204:\tlearn: 0.3322280\ttotal: 1.54s\tremaining: 5.97s\n",
      "205:\tlearn: 0.3317112\ttotal: 1.54s\tremaining: 5.96s\n",
      "206:\tlearn: 0.3310498\ttotal: 1.55s\tremaining: 5.94s\n",
      "207:\tlearn: 0.3306715\ttotal: 1.56s\tremaining: 5.93s\n",
      "208:\tlearn: 0.3299762\ttotal: 1.56s\tremaining: 5.92s\n",
      "209:\tlearn: 0.3290932\ttotal: 1.57s\tremaining: 5.91s\n",
      "210:\tlearn: 0.3286221\ttotal: 1.58s\tremaining: 5.9s\n",
      "211:\tlearn: 0.3282150\ttotal: 1.59s\tremaining: 5.9s\n",
      "212:\tlearn: 0.3278687\ttotal: 1.59s\tremaining: 5.89s\n",
      "213:\tlearn: 0.3275922\ttotal: 1.6s\tremaining: 5.88s\n",
      "214:\tlearn: 0.3271785\ttotal: 1.61s\tremaining: 5.87s\n",
      "215:\tlearn: 0.3259933\ttotal: 1.61s\tremaining: 5.86s\n",
      "216:\tlearn: 0.3248869\ttotal: 1.62s\tremaining: 5.85s\n",
      "217:\tlearn: 0.3244159\ttotal: 1.63s\tremaining: 5.84s\n",
      "218:\tlearn: 0.3236862\ttotal: 1.64s\tremaining: 5.83s\n",
      "219:\tlearn: 0.3229830\ttotal: 1.64s\tremaining: 5.82s\n",
      "220:\tlearn: 0.3224040\ttotal: 1.65s\tremaining: 5.81s\n",
      "221:\tlearn: 0.3217682\ttotal: 1.66s\tremaining: 5.8s\n",
      "222:\tlearn: 0.3211662\ttotal: 1.66s\tremaining: 5.79s\n",
      "223:\tlearn: 0.3207242\ttotal: 1.67s\tremaining: 5.78s\n",
      "224:\tlearn: 0.3199778\ttotal: 1.68s\tremaining: 5.77s\n",
      "225:\tlearn: 0.3197365\ttotal: 1.68s\tremaining: 5.76s\n",
      "226:\tlearn: 0.3192992\ttotal: 1.69s\tremaining: 5.75s\n",
      "227:\tlearn: 0.3187651\ttotal: 1.7s\tremaining: 5.74s\n",
      "228:\tlearn: 0.3181241\ttotal: 1.7s\tremaining: 5.74s\n",
      "229:\tlearn: 0.3178674\ttotal: 1.71s\tremaining: 5.73s\n",
      "230:\tlearn: 0.3174504\ttotal: 1.72s\tremaining: 5.72s\n",
      "231:\tlearn: 0.3169748\ttotal: 1.72s\tremaining: 5.71s\n",
      "232:\tlearn: 0.3168622\ttotal: 1.73s\tremaining: 5.7s\n",
      "233:\tlearn: 0.3167047\ttotal: 1.74s\tremaining: 5.68s\n",
      "234:\tlearn: 0.3158773\ttotal: 1.74s\tremaining: 5.68s\n",
      "235:\tlearn: 0.3154629\ttotal: 1.75s\tremaining: 5.67s\n",
      "236:\tlearn: 0.3152148\ttotal: 1.76s\tremaining: 5.66s\n",
      "237:\tlearn: 0.3146964\ttotal: 1.76s\tremaining: 5.65s\n",
      "238:\tlearn: 0.3140949\ttotal: 1.77s\tremaining: 5.65s\n",
      "239:\tlearn: 0.3138914\ttotal: 1.78s\tremaining: 5.64s\n",
      "240:\tlearn: 0.3137076\ttotal: 1.79s\tremaining: 5.63s\n",
      "241:\tlearn: 0.3135512\ttotal: 1.8s\tremaining: 5.63s\n",
      "242:\tlearn: 0.3128773\ttotal: 1.81s\tremaining: 5.63s\n",
      "243:\tlearn: 0.3126426\ttotal: 1.81s\tremaining: 5.62s\n",
      "244:\tlearn: 0.3120767\ttotal: 1.82s\tremaining: 5.61s\n",
      "245:\tlearn: 0.3117229\ttotal: 1.83s\tremaining: 5.61s\n",
      "246:\tlearn: 0.3113389\ttotal: 1.84s\tremaining: 5.6s\n",
      "247:\tlearn: 0.3108931\ttotal: 1.84s\tremaining: 5.59s\n",
      "248:\tlearn: 0.3103320\ttotal: 1.85s\tremaining: 5.59s\n",
      "249:\tlearn: 0.3089390\ttotal: 1.86s\tremaining: 5.58s\n",
      "250:\tlearn: 0.3083837\ttotal: 1.87s\tremaining: 5.58s\n",
      "251:\tlearn: 0.3080918\ttotal: 1.88s\tremaining: 5.57s\n",
      "252:\tlearn: 0.3074340\ttotal: 1.88s\tremaining: 5.56s\n",
      "253:\tlearn: 0.3069935\ttotal: 1.89s\tremaining: 5.55s\n",
      "254:\tlearn: 0.3064693\ttotal: 1.9s\tremaining: 5.56s\n",
      "255:\tlearn: 0.3059942\ttotal: 1.91s\tremaining: 5.55s\n",
      "256:\tlearn: 0.3055053\ttotal: 1.92s\tremaining: 5.54s\n",
      "257:\tlearn: 0.3052209\ttotal: 1.92s\tremaining: 5.53s\n",
      "258:\tlearn: 0.3049253\ttotal: 1.93s\tremaining: 5.53s\n",
      "259:\tlearn: 0.3044788\ttotal: 1.94s\tremaining: 5.52s\n",
      "260:\tlearn: 0.3043450\ttotal: 1.95s\tremaining: 5.52s\n",
      "261:\tlearn: 0.3040361\ttotal: 1.96s\tremaining: 5.51s\n",
      "262:\tlearn: 0.3033992\ttotal: 1.96s\tremaining: 5.5s\n",
      "263:\tlearn: 0.3029065\ttotal: 1.97s\tremaining: 5.5s\n",
      "264:\tlearn: 0.3025119\ttotal: 1.98s\tremaining: 5.5s\n",
      "265:\tlearn: 0.3021102\ttotal: 1.99s\tremaining: 5.49s\n",
      "266:\tlearn: 0.3017264\ttotal: 2s\tremaining: 5.49s\n",
      "267:\tlearn: 0.3010143\ttotal: 2.01s\tremaining: 5.48s\n",
      "268:\tlearn: 0.3007896\ttotal: 2.01s\tremaining: 5.47s\n",
      "269:\tlearn: 0.3001593\ttotal: 2.02s\tremaining: 5.47s\n",
      "270:\tlearn: 0.3000088\ttotal: 2.03s\tremaining: 5.46s\n",
      "271:\tlearn: 0.2994583\ttotal: 2.04s\tremaining: 5.45s\n",
      "272:\tlearn: 0.2990268\ttotal: 2.04s\tremaining: 5.45s\n",
      "273:\tlearn: 0.2985064\ttotal: 2.05s\tremaining: 5.44s\n",
      "274:\tlearn: 0.2979414\ttotal: 2.06s\tremaining: 5.43s\n",
      "275:\tlearn: 0.2974208\ttotal: 2.07s\tremaining: 5.42s\n",
      "276:\tlearn: 0.2967593\ttotal: 2.08s\tremaining: 5.42s\n",
      "277:\tlearn: 0.2961788\ttotal: 2.08s\tremaining: 5.41s\n",
      "278:\tlearn: 0.2955470\ttotal: 2.09s\tremaining: 5.41s\n",
      "279:\tlearn: 0.2949884\ttotal: 2.1s\tremaining: 5.4s\n",
      "280:\tlearn: 0.2948590\ttotal: 2.11s\tremaining: 5.4s\n",
      "281:\tlearn: 0.2944170\ttotal: 2.12s\tremaining: 5.39s\n",
      "282:\tlearn: 0.2937854\ttotal: 2.12s\tremaining: 5.38s\n",
      "283:\tlearn: 0.2934853\ttotal: 2.13s\tremaining: 5.37s\n",
      "284:\tlearn: 0.2933276\ttotal: 2.14s\tremaining: 5.36s\n",
      "285:\tlearn: 0.2929331\ttotal: 2.14s\tremaining: 5.35s\n",
      "286:\tlearn: 0.2922511\ttotal: 2.15s\tremaining: 5.35s\n",
      "287:\tlearn: 0.2915799\ttotal: 2.16s\tremaining: 5.34s\n",
      "288:\tlearn: 0.2907864\ttotal: 2.17s\tremaining: 5.33s\n",
      "289:\tlearn: 0.2902763\ttotal: 2.18s\tremaining: 5.33s\n",
      "290:\tlearn: 0.2896073\ttotal: 2.19s\tremaining: 5.33s\n",
      "291:\tlearn: 0.2889847\ttotal: 2.19s\tremaining: 5.32s\n",
      "292:\tlearn: 0.2887414\ttotal: 2.2s\tremaining: 5.31s\n",
      "293:\tlearn: 0.2884741\ttotal: 2.21s\tremaining: 5.3s\n",
      "294:\tlearn: 0.2877103\ttotal: 2.22s\tremaining: 5.3s\n",
      "295:\tlearn: 0.2872173\ttotal: 2.22s\tremaining: 5.29s\n",
      "296:\tlearn: 0.2869372\ttotal: 2.23s\tremaining: 5.29s\n",
      "297:\tlearn: 0.2865969\ttotal: 2.24s\tremaining: 5.28s\n",
      "298:\tlearn: 0.2860778\ttotal: 2.25s\tremaining: 5.27s\n",
      "299:\tlearn: 0.2856982\ttotal: 2.25s\tremaining: 5.26s\n",
      "300:\tlearn: 0.2854781\ttotal: 2.26s\tremaining: 5.25s\n",
      "301:\tlearn: 0.2850604\ttotal: 2.27s\tremaining: 5.24s\n",
      "302:\tlearn: 0.2845542\ttotal: 2.28s\tremaining: 5.24s\n",
      "303:\tlearn: 0.2842141\ttotal: 2.28s\tremaining: 5.23s\n",
      "304:\tlearn: 0.2831080\ttotal: 2.29s\tremaining: 5.22s\n",
      "305:\tlearn: 0.2827626\ttotal: 2.3s\tremaining: 5.21s\n",
      "306:\tlearn: 0.2823383\ttotal: 2.3s\tremaining: 5.2s\n",
      "307:\tlearn: 0.2812544\ttotal: 2.31s\tremaining: 5.19s\n",
      "308:\tlearn: 0.2810001\ttotal: 2.32s\tremaining: 5.18s\n",
      "309:\tlearn: 0.2804759\ttotal: 2.33s\tremaining: 5.18s\n",
      "310:\tlearn: 0.2803420\ttotal: 2.33s\tremaining: 5.17s\n",
      "311:\tlearn: 0.2800122\ttotal: 2.34s\tremaining: 5.16s\n",
      "312:\tlearn: 0.2799601\ttotal: 2.35s\tremaining: 5.16s\n",
      "313:\tlearn: 0.2796730\ttotal: 2.35s\tremaining: 5.14s\n",
      "314:\tlearn: 0.2790035\ttotal: 2.36s\tremaining: 5.14s\n",
      "315:\tlearn: 0.2789312\ttotal: 2.37s\tremaining: 5.13s\n",
      "316:\tlearn: 0.2782722\ttotal: 2.38s\tremaining: 5.12s\n",
      "317:\tlearn: 0.2776369\ttotal: 2.38s\tremaining: 5.11s\n",
      "318:\tlearn: 0.2772974\ttotal: 2.39s\tremaining: 5.1s\n",
      "319:\tlearn: 0.2768979\ttotal: 2.4s\tremaining: 5.09s\n",
      "320:\tlearn: 0.2764229\ttotal: 2.4s\tremaining: 5.09s\n",
      "321:\tlearn: 0.2758840\ttotal: 2.41s\tremaining: 5.08s\n",
      "322:\tlearn: 0.2757682\ttotal: 2.42s\tremaining: 5.08s\n",
      "323:\tlearn: 0.2754038\ttotal: 2.43s\tremaining: 5.07s\n",
      "324:\tlearn: 0.2749486\ttotal: 2.44s\tremaining: 5.07s\n",
      "325:\tlearn: 0.2747155\ttotal: 2.45s\tremaining: 5.06s\n",
      "326:\tlearn: 0.2745192\ttotal: 2.46s\tremaining: 5.05s\n",
      "327:\tlearn: 0.2741325\ttotal: 2.47s\tremaining: 5.05s\n",
      "328:\tlearn: 0.2736432\ttotal: 2.48s\tremaining: 5.05s\n",
      "329:\tlearn: 0.2730279\ttotal: 2.49s\tremaining: 5.05s\n",
      "330:\tlearn: 0.2726695\ttotal: 2.5s\tremaining: 5.05s\n",
      "331:\tlearn: 0.2724109\ttotal: 2.51s\tremaining: 5.05s\n",
      "332:\tlearn: 0.2720939\ttotal: 2.52s\tremaining: 5.04s\n",
      "333:\tlearn: 0.2720001\ttotal: 2.53s\tremaining: 5.04s\n",
      "334:\tlearn: 0.2715314\ttotal: 2.54s\tremaining: 5.04s\n",
      "335:\tlearn: 0.2710163\ttotal: 2.54s\tremaining: 5.03s\n",
      "336:\tlearn: 0.2704555\ttotal: 2.56s\tremaining: 5.03s\n",
      "337:\tlearn: 0.2702467\ttotal: 2.57s\tremaining: 5.03s\n",
      "338:\tlearn: 0.2701496\ttotal: 2.58s\tremaining: 5.03s\n",
      "339:\tlearn: 0.2699083\ttotal: 2.59s\tremaining: 5.02s\n",
      "340:\tlearn: 0.2693483\ttotal: 2.6s\tremaining: 5.01s\n",
      "341:\tlearn: 0.2680765\ttotal: 2.6s\tremaining: 5s\n",
      "342:\tlearn: 0.2678409\ttotal: 2.61s\tremaining: 5s\n",
      "343:\tlearn: 0.2671247\ttotal: 2.62s\tremaining: 4.99s\n",
      "344:\tlearn: 0.2667248\ttotal: 2.62s\tremaining: 4.98s\n",
      "345:\tlearn: 0.2664137\ttotal: 2.63s\tremaining: 4.97s\n",
      "346:\tlearn: 0.2661020\ttotal: 2.64s\tremaining: 4.96s\n",
      "347:\tlearn: 0.2656445\ttotal: 2.64s\tremaining: 4.95s\n",
      "348:\tlearn: 0.2655609\ttotal: 2.65s\tremaining: 4.95s\n",
      "349:\tlearn: 0.2651430\ttotal: 2.66s\tremaining: 4.94s\n",
      "350:\tlearn: 0.2646189\ttotal: 2.67s\tremaining: 4.93s\n",
      "351:\tlearn: 0.2642566\ttotal: 2.67s\tremaining: 4.92s\n",
      "352:\tlearn: 0.2639496\ttotal: 2.68s\tremaining: 4.91s\n",
      "353:\tlearn: 0.2639260\ttotal: 2.69s\tremaining: 4.9s\n",
      "354:\tlearn: 0.2635746\ttotal: 2.69s\tremaining: 4.89s\n",
      "355:\tlearn: 0.2631982\ttotal: 2.7s\tremaining: 4.88s\n",
      "356:\tlearn: 0.2628773\ttotal: 2.71s\tremaining: 4.87s\n",
      "357:\tlearn: 0.2626308\ttotal: 2.71s\tremaining: 4.86s\n",
      "358:\tlearn: 0.2624144\ttotal: 2.72s\tremaining: 4.86s\n",
      "359:\tlearn: 0.2621156\ttotal: 2.73s\tremaining: 4.85s\n",
      "360:\tlearn: 0.2616129\ttotal: 2.73s\tremaining: 4.84s\n",
      "361:\tlearn: 0.2614924\ttotal: 2.74s\tremaining: 4.83s\n",
      "362:\tlearn: 0.2611756\ttotal: 2.75s\tremaining: 4.82s\n",
      "363:\tlearn: 0.2608970\ttotal: 2.75s\tremaining: 4.81s\n",
      "364:\tlearn: 0.2607857\ttotal: 2.76s\tremaining: 4.8s\n",
      "365:\tlearn: 0.2606006\ttotal: 2.77s\tremaining: 4.79s\n",
      "366:\tlearn: 0.2601818\ttotal: 2.77s\tremaining: 4.78s\n",
      "367:\tlearn: 0.2600216\ttotal: 2.78s\tremaining: 4.77s\n",
      "368:\tlearn: 0.2596896\ttotal: 2.78s\tremaining: 4.76s\n",
      "369:\tlearn: 0.2592329\ttotal: 2.79s\tremaining: 4.75s\n",
      "370:\tlearn: 0.2590879\ttotal: 2.79s\tremaining: 4.74s\n",
      "371:\tlearn: 0.2586450\ttotal: 2.8s\tremaining: 4.73s\n",
      "372:\tlearn: 0.2585348\ttotal: 2.81s\tremaining: 4.72s\n",
      "373:\tlearn: 0.2580424\ttotal: 2.81s\tremaining: 4.71s\n",
      "374:\tlearn: 0.2577172\ttotal: 2.82s\tremaining: 4.7s\n",
      "375:\tlearn: 0.2576489\ttotal: 2.83s\tremaining: 4.69s\n",
      "376:\tlearn: 0.2573519\ttotal: 2.83s\tremaining: 4.68s\n",
      "377:\tlearn: 0.2569183\ttotal: 2.84s\tremaining: 4.67s\n",
      "378:\tlearn: 0.2568527\ttotal: 2.85s\tremaining: 4.67s\n",
      "379:\tlearn: 0.2565753\ttotal: 2.85s\tremaining: 4.66s\n",
      "380:\tlearn: 0.2564463\ttotal: 2.86s\tremaining: 4.65s\n",
      "381:\tlearn: 0.2562424\ttotal: 2.87s\tremaining: 4.64s\n",
      "382:\tlearn: 0.2559516\ttotal: 2.87s\tremaining: 4.63s\n",
      "383:\tlearn: 0.2557421\ttotal: 2.88s\tremaining: 4.62s\n",
      "384:\tlearn: 0.2553473\ttotal: 2.89s\tremaining: 4.62s\n",
      "385:\tlearn: 0.2550379\ttotal: 2.9s\tremaining: 4.61s\n",
      "386:\tlearn: 0.2547517\ttotal: 2.91s\tremaining: 4.61s\n",
      "387:\tlearn: 0.2544437\ttotal: 2.92s\tremaining: 4.6s\n",
      "388:\tlearn: 0.2542408\ttotal: 2.93s\tremaining: 4.6s\n",
      "389:\tlearn: 0.2537203\ttotal: 2.94s\tremaining: 4.59s\n",
      "390:\tlearn: 0.2532328\ttotal: 2.94s\tremaining: 4.58s\n",
      "391:\tlearn: 0.2527282\ttotal: 2.95s\tremaining: 4.58s\n",
      "392:\tlearn: 0.2525874\ttotal: 2.96s\tremaining: 4.57s\n",
      "393:\tlearn: 0.2520340\ttotal: 2.97s\tremaining: 4.57s\n",
      "394:\tlearn: 0.2517672\ttotal: 2.98s\tremaining: 4.56s\n",
      "395:\tlearn: 0.2512527\ttotal: 2.99s\tremaining: 4.56s\n",
      "396:\tlearn: 0.2510460\ttotal: 3s\tremaining: 4.55s\n",
      "397:\tlearn: 0.2503624\ttotal: 3s\tremaining: 4.54s\n",
      "398:\tlearn: 0.2497565\ttotal: 3.01s\tremaining: 4.54s\n",
      "399:\tlearn: 0.2494904\ttotal: 3.02s\tremaining: 4.53s\n",
      "400:\tlearn: 0.2491340\ttotal: 3.03s\tremaining: 4.53s\n",
      "401:\tlearn: 0.2490067\ttotal: 3.04s\tremaining: 4.52s\n",
      "402:\tlearn: 0.2484951\ttotal: 3.05s\tremaining: 4.51s\n",
      "403:\tlearn: 0.2484281\ttotal: 3.05s\tremaining: 4.51s\n",
      "404:\tlearn: 0.2476992\ttotal: 3.06s\tremaining: 4.5s\n",
      "405:\tlearn: 0.2474515\ttotal: 3.07s\tremaining: 4.49s\n",
      "406:\tlearn: 0.2472694\ttotal: 3.08s\tremaining: 4.49s\n",
      "407:\tlearn: 0.2470658\ttotal: 3.09s\tremaining: 4.48s\n",
      "408:\tlearn: 0.2465429\ttotal: 3.1s\tremaining: 4.47s\n",
      "409:\tlearn: 0.2459285\ttotal: 3.1s\tremaining: 4.47s\n",
      "410:\tlearn: 0.2457108\ttotal: 3.11s\tremaining: 4.46s\n",
      "411:\tlearn: 0.2453698\ttotal: 3.12s\tremaining: 4.46s\n",
      "412:\tlearn: 0.2451807\ttotal: 3.13s\tremaining: 4.45s\n",
      "413:\tlearn: 0.2451330\ttotal: 3.14s\tremaining: 4.44s\n",
      "414:\tlearn: 0.2447098\ttotal: 3.15s\tremaining: 4.44s\n",
      "415:\tlearn: 0.2444999\ttotal: 3.15s\tremaining: 4.43s\n",
      "416:\tlearn: 0.2439895\ttotal: 3.16s\tremaining: 4.42s\n",
      "417:\tlearn: 0.2436865\ttotal: 3.17s\tremaining: 4.42s\n",
      "418:\tlearn: 0.2435261\ttotal: 3.18s\tremaining: 4.41s\n",
      "419:\tlearn: 0.2430744\ttotal: 3.19s\tremaining: 4.41s\n",
      "420:\tlearn: 0.2428507\ttotal: 3.2s\tremaining: 4.4s\n",
      "421:\tlearn: 0.2425405\ttotal: 3.21s\tremaining: 4.4s\n",
      "422:\tlearn: 0.2424214\ttotal: 3.22s\tremaining: 4.39s\n",
      "423:\tlearn: 0.2420944\ttotal: 3.23s\tremaining: 4.38s\n",
      "424:\tlearn: 0.2416636\ttotal: 3.23s\tremaining: 4.38s\n",
      "425:\tlearn: 0.2414375\ttotal: 3.24s\tremaining: 4.37s\n",
      "426:\tlearn: 0.2413184\ttotal: 3.25s\tremaining: 4.36s\n",
      "427:\tlearn: 0.2412367\ttotal: 3.26s\tremaining: 4.36s\n",
      "428:\tlearn: 0.2408898\ttotal: 3.27s\tremaining: 4.35s\n",
      "429:\tlearn: 0.2404100\ttotal: 3.27s\tremaining: 4.34s\n",
      "430:\tlearn: 0.2401743\ttotal: 3.28s\tremaining: 4.33s\n",
      "431:\tlearn: 0.2400141\ttotal: 3.29s\tremaining: 4.33s\n",
      "432:\tlearn: 0.2399419\ttotal: 3.3s\tremaining: 4.32s\n",
      "433:\tlearn: 0.2395984\ttotal: 3.31s\tremaining: 4.32s\n",
      "434:\tlearn: 0.2392518\ttotal: 3.32s\tremaining: 4.31s\n",
      "435:\tlearn: 0.2388693\ttotal: 3.33s\tremaining: 4.3s\n",
      "436:\tlearn: 0.2386647\ttotal: 3.33s\tremaining: 4.29s\n",
      "437:\tlearn: 0.2384945\ttotal: 3.34s\tremaining: 4.29s\n",
      "438:\tlearn: 0.2384617\ttotal: 3.35s\tremaining: 4.28s\n",
      "439:\tlearn: 0.2382754\ttotal: 3.36s\tremaining: 4.28s\n",
      "440:\tlearn: 0.2380067\ttotal: 3.37s\tremaining: 4.27s\n",
      "441:\tlearn: 0.2378160\ttotal: 3.38s\tremaining: 4.26s\n",
      "442:\tlearn: 0.2376265\ttotal: 3.38s\tremaining: 4.25s\n",
      "443:\tlearn: 0.2373388\ttotal: 3.39s\tremaining: 4.25s\n",
      "444:\tlearn: 0.2372045\ttotal: 3.4s\tremaining: 4.24s\n",
      "445:\tlearn: 0.2362057\ttotal: 3.41s\tremaining: 4.24s\n",
      "446:\tlearn: 0.2361621\ttotal: 3.42s\tremaining: 4.23s\n",
      "447:\tlearn: 0.2358515\ttotal: 3.43s\tremaining: 4.22s\n",
      "448:\tlearn: 0.2356669\ttotal: 3.44s\tremaining: 4.22s\n",
      "449:\tlearn: 0.2355126\ttotal: 3.45s\tremaining: 4.21s\n",
      "450:\tlearn: 0.2354530\ttotal: 3.46s\tremaining: 4.21s\n",
      "451:\tlearn: 0.2351924\ttotal: 3.47s\tremaining: 4.2s\n",
      "452:\tlearn: 0.2345426\ttotal: 3.48s\tremaining: 4.2s\n",
      "453:\tlearn: 0.2343646\ttotal: 3.48s\tremaining: 4.19s\n",
      "454:\tlearn: 0.2341163\ttotal: 3.49s\tremaining: 4.18s\n",
      "455:\tlearn: 0.2340081\ttotal: 3.5s\tremaining: 4.18s\n",
      "456:\tlearn: 0.2337081\ttotal: 3.51s\tremaining: 4.17s\n",
      "457:\tlearn: 0.2328892\ttotal: 3.52s\tremaining: 4.16s\n",
      "458:\tlearn: 0.2327826\ttotal: 3.52s\tremaining: 4.16s\n",
      "459:\tlearn: 0.2326670\ttotal: 3.53s\tremaining: 4.15s\n",
      "460:\tlearn: 0.2326057\ttotal: 3.54s\tremaining: 4.14s\n",
      "461:\tlearn: 0.2317256\ttotal: 3.55s\tremaining: 4.13s\n",
      "462:\tlearn: 0.2314989\ttotal: 3.56s\tremaining: 4.13s\n",
      "463:\tlearn: 0.2314306\ttotal: 3.57s\tremaining: 4.12s\n",
      "464:\tlearn: 0.2312542\ttotal: 3.58s\tremaining: 4.12s\n",
      "465:\tlearn: 0.2310257\ttotal: 3.58s\tremaining: 4.11s\n",
      "466:\tlearn: 0.2305587\ttotal: 3.59s\tremaining: 4.1s\n",
      "467:\tlearn: 0.2303807\ttotal: 3.6s\tremaining: 4.09s\n",
      "468:\tlearn: 0.2300695\ttotal: 3.61s\tremaining: 4.09s\n",
      "469:\tlearn: 0.2294806\ttotal: 3.62s\tremaining: 4.08s\n",
      "470:\tlearn: 0.2289870\ttotal: 3.63s\tremaining: 4.07s\n",
      "471:\tlearn: 0.2284971\ttotal: 3.64s\tremaining: 4.07s\n",
      "472:\tlearn: 0.2281198\ttotal: 3.65s\tremaining: 4.06s\n",
      "473:\tlearn: 0.2279502\ttotal: 3.65s\tremaining: 4.05s\n",
      "474:\tlearn: 0.2278315\ttotal: 3.66s\tremaining: 4.05s\n",
      "475:\tlearn: 0.2273591\ttotal: 3.67s\tremaining: 4.04s\n",
      "476:\tlearn: 0.2271442\ttotal: 3.68s\tremaining: 4.03s\n",
      "477:\tlearn: 0.2268038\ttotal: 3.69s\tremaining: 4.03s\n",
      "478:\tlearn: 0.2264974\ttotal: 3.7s\tremaining: 4.02s\n",
      "479:\tlearn: 0.2261672\ttotal: 3.7s\tremaining: 4.01s\n",
      "480:\tlearn: 0.2258197\ttotal: 3.71s\tremaining: 4.01s\n",
      "481:\tlearn: 0.2257207\ttotal: 3.72s\tremaining: 4s\n",
      "482:\tlearn: 0.2255733\ttotal: 3.73s\tremaining: 3.99s\n",
      "483:\tlearn: 0.2252861\ttotal: 3.74s\tremaining: 3.98s\n",
      "484:\tlearn: 0.2251217\ttotal: 3.75s\tremaining: 3.98s\n",
      "485:\tlearn: 0.2248518\ttotal: 3.75s\tremaining: 3.97s\n",
      "486:\tlearn: 0.2246381\ttotal: 3.76s\tremaining: 3.96s\n",
      "487:\tlearn: 0.2245148\ttotal: 3.77s\tremaining: 3.96s\n",
      "488:\tlearn: 0.2244172\ttotal: 3.78s\tremaining: 3.95s\n",
      "489:\tlearn: 0.2239821\ttotal: 3.79s\tremaining: 3.94s\n",
      "490:\tlearn: 0.2238022\ttotal: 3.79s\tremaining: 3.93s\n",
      "491:\tlearn: 0.2236336\ttotal: 3.8s\tremaining: 3.92s\n",
      "492:\tlearn: 0.2234472\ttotal: 3.81s\tremaining: 3.92s\n",
      "493:\tlearn: 0.2230817\ttotal: 3.82s\tremaining: 3.91s\n",
      "494:\tlearn: 0.2229398\ttotal: 3.83s\tremaining: 3.9s\n",
      "495:\tlearn: 0.2228221\ttotal: 3.83s\tremaining: 3.9s\n",
      "496:\tlearn: 0.2226904\ttotal: 3.84s\tremaining: 3.89s\n",
      "497:\tlearn: 0.2223999\ttotal: 3.85s\tremaining: 3.88s\n",
      "498:\tlearn: 0.2221745\ttotal: 3.86s\tremaining: 3.87s\n",
      "499:\tlearn: 0.2218765\ttotal: 3.87s\tremaining: 3.87s\n",
      "500:\tlearn: 0.2218001\ttotal: 3.87s\tremaining: 3.86s\n",
      "501:\tlearn: 0.2216519\ttotal: 3.88s\tremaining: 3.85s\n",
      "502:\tlearn: 0.2213191\ttotal: 3.89s\tremaining: 3.84s\n",
      "503:\tlearn: 0.2211363\ttotal: 3.9s\tremaining: 3.84s\n",
      "504:\tlearn: 0.2205815\ttotal: 3.91s\tremaining: 3.83s\n",
      "505:\tlearn: 0.2202261\ttotal: 3.91s\tremaining: 3.82s\n",
      "506:\tlearn: 0.2201009\ttotal: 3.92s\tremaining: 3.81s\n",
      "507:\tlearn: 0.2198449\ttotal: 3.93s\tremaining: 3.81s\n",
      "508:\tlearn: 0.2196699\ttotal: 3.94s\tremaining: 3.8s\n",
      "509:\tlearn: 0.2194785\ttotal: 3.95s\tremaining: 3.79s\n",
      "510:\tlearn: 0.2191000\ttotal: 3.96s\tremaining: 3.79s\n",
      "511:\tlearn: 0.2189139\ttotal: 3.96s\tremaining: 3.78s\n",
      "512:\tlearn: 0.2187552\ttotal: 3.97s\tremaining: 3.77s\n",
      "513:\tlearn: 0.2183733\ttotal: 3.98s\tremaining: 3.76s\n",
      "514:\tlearn: 0.2178966\ttotal: 3.99s\tremaining: 3.76s\n",
      "515:\tlearn: 0.2177547\ttotal: 4s\tremaining: 3.75s\n",
      "516:\tlearn: 0.2172872\ttotal: 4.01s\tremaining: 3.74s\n",
      "517:\tlearn: 0.2171379\ttotal: 4.01s\tremaining: 3.73s\n",
      "518:\tlearn: 0.2168471\ttotal: 4.02s\tremaining: 3.73s\n",
      "519:\tlearn: 0.2166668\ttotal: 4.03s\tremaining: 3.72s\n",
      "520:\tlearn: 0.2160324\ttotal: 4.04s\tremaining: 3.71s\n",
      "521:\tlearn: 0.2159014\ttotal: 4.05s\tremaining: 3.71s\n",
      "522:\tlearn: 0.2155366\ttotal: 4.05s\tremaining: 3.7s\n",
      "523:\tlearn: 0.2154963\ttotal: 4.06s\tremaining: 3.69s\n",
      "524:\tlearn: 0.2150212\ttotal: 4.07s\tremaining: 3.68s\n",
      "525:\tlearn: 0.2147287\ttotal: 4.08s\tremaining: 3.67s\n",
      "526:\tlearn: 0.2144870\ttotal: 4.09s\tremaining: 3.67s\n",
      "527:\tlearn: 0.2142984\ttotal: 4.09s\tremaining: 3.66s\n",
      "528:\tlearn: 0.2141617\ttotal: 4.1s\tremaining: 3.65s\n",
      "529:\tlearn: 0.2139479\ttotal: 4.11s\tremaining: 3.65s\n",
      "530:\tlearn: 0.2137734\ttotal: 4.12s\tremaining: 3.64s\n",
      "531:\tlearn: 0.2134219\ttotal: 4.13s\tremaining: 3.63s\n",
      "532:\tlearn: 0.2131501\ttotal: 4.14s\tremaining: 3.62s\n",
      "533:\tlearn: 0.2128418\ttotal: 4.14s\tremaining: 3.62s\n",
      "534:\tlearn: 0.2126930\ttotal: 4.15s\tremaining: 3.61s\n",
      "535:\tlearn: 0.2124934\ttotal: 4.16s\tremaining: 3.6s\n",
      "536:\tlearn: 0.2122267\ttotal: 4.17s\tremaining: 3.6s\n",
      "537:\tlearn: 0.2119446\ttotal: 4.18s\tremaining: 3.59s\n",
      "538:\tlearn: 0.2117718\ttotal: 4.18s\tremaining: 3.58s\n",
      "539:\tlearn: 0.2116665\ttotal: 4.19s\tremaining: 3.57s\n",
      "540:\tlearn: 0.2113146\ttotal: 4.2s\tremaining: 3.56s\n",
      "541:\tlearn: 0.2108257\ttotal: 4.21s\tremaining: 3.56s\n",
      "542:\tlearn: 0.2105852\ttotal: 4.22s\tremaining: 3.55s\n",
      "543:\tlearn: 0.2105252\ttotal: 4.23s\tremaining: 3.54s\n",
      "544:\tlearn: 0.2103775\ttotal: 4.23s\tremaining: 3.53s\n",
      "545:\tlearn: 0.2101407\ttotal: 4.24s\tremaining: 3.53s\n",
      "546:\tlearn: 0.2099081\ttotal: 4.25s\tremaining: 3.52s\n",
      "547:\tlearn: 0.2097022\ttotal: 4.26s\tremaining: 3.51s\n",
      "548:\tlearn: 0.2093991\ttotal: 4.27s\tremaining: 3.5s\n",
      "549:\tlearn: 0.2092058\ttotal: 4.28s\tremaining: 3.5s\n",
      "550:\tlearn: 0.2089986\ttotal: 4.28s\tremaining: 3.49s\n",
      "551:\tlearn: 0.2088538\ttotal: 4.29s\tremaining: 3.48s\n",
      "552:\tlearn: 0.2087304\ttotal: 4.3s\tremaining: 3.48s\n",
      "553:\tlearn: 0.2085630\ttotal: 4.31s\tremaining: 3.47s\n",
      "554:\tlearn: 0.2085030\ttotal: 4.32s\tremaining: 3.46s\n",
      "555:\tlearn: 0.2083018\ttotal: 4.33s\tremaining: 3.46s\n",
      "556:\tlearn: 0.2081959\ttotal: 4.34s\tremaining: 3.45s\n",
      "557:\tlearn: 0.2078561\ttotal: 4.34s\tremaining: 3.44s\n",
      "558:\tlearn: 0.2075561\ttotal: 4.35s\tremaining: 3.43s\n",
      "559:\tlearn: 0.2075297\ttotal: 4.36s\tremaining: 3.42s\n",
      "560:\tlearn: 0.2074799\ttotal: 4.37s\tremaining: 3.42s\n",
      "561:\tlearn: 0.2073791\ttotal: 4.38s\tremaining: 3.41s\n",
      "562:\tlearn: 0.2071741\ttotal: 4.38s\tremaining: 3.4s\n",
      "563:\tlearn: 0.2068522\ttotal: 4.39s\tremaining: 3.4s\n",
      "564:\tlearn: 0.2064780\ttotal: 4.4s\tremaining: 3.39s\n",
      "565:\tlearn: 0.2063539\ttotal: 4.41s\tremaining: 3.38s\n",
      "566:\tlearn: 0.2057575\ttotal: 4.42s\tremaining: 3.37s\n",
      "567:\tlearn: 0.2053016\ttotal: 4.42s\tremaining: 3.37s\n",
      "568:\tlearn: 0.2052204\ttotal: 4.43s\tremaining: 3.36s\n",
      "569:\tlearn: 0.2050541\ttotal: 4.44s\tremaining: 3.35s\n",
      "570:\tlearn: 0.2048529\ttotal: 4.45s\tremaining: 3.34s\n",
      "571:\tlearn: 0.2046564\ttotal: 4.46s\tremaining: 3.33s\n",
      "572:\tlearn: 0.2045777\ttotal: 4.46s\tremaining: 3.33s\n",
      "573:\tlearn: 0.2042928\ttotal: 4.47s\tremaining: 3.32s\n",
      "574:\tlearn: 0.2041380\ttotal: 4.48s\tremaining: 3.31s\n",
      "575:\tlearn: 0.2037488\ttotal: 4.49s\tremaining: 3.3s\n",
      "576:\tlearn: 0.2034595\ttotal: 4.49s\tremaining: 3.29s\n",
      "577:\tlearn: 0.2031936\ttotal: 4.5s\tremaining: 3.29s\n",
      "578:\tlearn: 0.2030678\ttotal: 4.51s\tremaining: 3.28s\n",
      "579:\tlearn: 0.2028699\ttotal: 4.52s\tremaining: 3.27s\n",
      "580:\tlearn: 0.2026779\ttotal: 4.52s\tremaining: 3.26s\n",
      "581:\tlearn: 0.2023852\ttotal: 4.53s\tremaining: 3.25s\n",
      "582:\tlearn: 0.2023235\ttotal: 4.54s\tremaining: 3.25s\n",
      "583:\tlearn: 0.2021091\ttotal: 4.55s\tremaining: 3.24s\n",
      "584:\tlearn: 0.2018763\ttotal: 4.55s\tremaining: 3.23s\n",
      "585:\tlearn: 0.2016740\ttotal: 4.56s\tremaining: 3.22s\n",
      "586:\tlearn: 0.2014791\ttotal: 4.57s\tremaining: 3.21s\n",
      "587:\tlearn: 0.2014357\ttotal: 4.58s\tremaining: 3.21s\n",
      "588:\tlearn: 0.2011918\ttotal: 4.58s\tremaining: 3.2s\n",
      "589:\tlearn: 0.2009587\ttotal: 4.59s\tremaining: 3.19s\n",
      "590:\tlearn: 0.2008287\ttotal: 4.6s\tremaining: 3.18s\n",
      "591:\tlearn: 0.2004895\ttotal: 4.61s\tremaining: 3.17s\n",
      "592:\tlearn: 0.2004346\ttotal: 4.62s\tremaining: 3.17s\n",
      "593:\tlearn: 0.2001681\ttotal: 4.62s\tremaining: 3.16s\n",
      "594:\tlearn: 0.1999492\ttotal: 4.63s\tremaining: 3.15s\n",
      "595:\tlearn: 0.1994804\ttotal: 4.64s\tremaining: 3.14s\n",
      "596:\tlearn: 0.1993160\ttotal: 4.65s\tremaining: 3.14s\n",
      "597:\tlearn: 0.1991109\ttotal: 4.65s\tremaining: 3.13s\n",
      "598:\tlearn: 0.1989267\ttotal: 4.66s\tremaining: 3.12s\n",
      "599:\tlearn: 0.1988666\ttotal: 4.67s\tremaining: 3.11s\n",
      "600:\tlearn: 0.1988026\ttotal: 4.68s\tremaining: 3.11s\n",
      "601:\tlearn: 0.1984578\ttotal: 4.69s\tremaining: 3.1s\n",
      "602:\tlearn: 0.1983111\ttotal: 4.69s\tremaining: 3.09s\n",
      "603:\tlearn: 0.1980478\ttotal: 4.7s\tremaining: 3.08s\n",
      "604:\tlearn: 0.1977949\ttotal: 4.71s\tremaining: 3.07s\n",
      "605:\tlearn: 0.1976987\ttotal: 4.72s\tremaining: 3.07s\n",
      "606:\tlearn: 0.1972960\ttotal: 4.72s\tremaining: 3.06s\n",
      "607:\tlearn: 0.1972083\ttotal: 4.73s\tremaining: 3.05s\n",
      "608:\tlearn: 0.1971116\ttotal: 4.74s\tremaining: 3.04s\n",
      "609:\tlearn: 0.1968898\ttotal: 4.75s\tremaining: 3.03s\n",
      "610:\tlearn: 0.1966982\ttotal: 4.75s\tremaining: 3.03s\n",
      "611:\tlearn: 0.1964607\ttotal: 4.76s\tremaining: 3.02s\n",
      "612:\tlearn: 0.1962802\ttotal: 4.77s\tremaining: 3.01s\n",
      "613:\tlearn: 0.1961444\ttotal: 4.77s\tremaining: 3s\n",
      "614:\tlearn: 0.1961159\ttotal: 4.78s\tremaining: 2.99s\n",
      "615:\tlearn: 0.1957538\ttotal: 4.79s\tremaining: 2.98s\n",
      "616:\tlearn: 0.1952948\ttotal: 4.79s\tremaining: 2.98s\n",
      "617:\tlearn: 0.1949547\ttotal: 4.8s\tremaining: 2.97s\n",
      "618:\tlearn: 0.1947754\ttotal: 4.81s\tremaining: 2.96s\n",
      "619:\tlearn: 0.1946084\ttotal: 4.81s\tremaining: 2.95s\n",
      "620:\tlearn: 0.1943494\ttotal: 4.82s\tremaining: 2.94s\n",
      "621:\tlearn: 0.1942691\ttotal: 4.83s\tremaining: 2.93s\n",
      "622:\tlearn: 0.1942261\ttotal: 4.83s\tremaining: 2.92s\n",
      "623:\tlearn: 0.1941109\ttotal: 4.84s\tremaining: 2.92s\n",
      "624:\tlearn: 0.1938514\ttotal: 4.85s\tremaining: 2.91s\n",
      "625:\tlearn: 0.1937205\ttotal: 4.86s\tremaining: 2.9s\n",
      "626:\tlearn: 0.1935677\ttotal: 4.86s\tremaining: 2.89s\n",
      "627:\tlearn: 0.1935225\ttotal: 4.87s\tremaining: 2.88s\n",
      "628:\tlearn: 0.1933447\ttotal: 4.88s\tremaining: 2.88s\n",
      "629:\tlearn: 0.1931654\ttotal: 4.88s\tremaining: 2.87s\n",
      "630:\tlearn: 0.1927012\ttotal: 4.89s\tremaining: 2.86s\n",
      "631:\tlearn: 0.1925052\ttotal: 4.9s\tremaining: 2.85s\n",
      "632:\tlearn: 0.1924137\ttotal: 4.9s\tremaining: 2.84s\n",
      "633:\tlearn: 0.1921327\ttotal: 4.91s\tremaining: 2.83s\n",
      "634:\tlearn: 0.1919425\ttotal: 4.92s\tremaining: 2.83s\n",
      "635:\tlearn: 0.1918446\ttotal: 4.92s\tremaining: 2.82s\n",
      "636:\tlearn: 0.1917752\ttotal: 4.93s\tremaining: 2.81s\n",
      "637:\tlearn: 0.1916074\ttotal: 4.93s\tremaining: 2.8s\n",
      "638:\tlearn: 0.1914154\ttotal: 4.94s\tremaining: 2.79s\n",
      "639:\tlearn: 0.1913676\ttotal: 4.95s\tremaining: 2.78s\n",
      "640:\tlearn: 0.1912365\ttotal: 4.95s\tremaining: 2.77s\n",
      "641:\tlearn: 0.1910656\ttotal: 4.96s\tremaining: 2.77s\n",
      "642:\tlearn: 0.1907687\ttotal: 4.97s\tremaining: 2.76s\n",
      "643:\tlearn: 0.1906785\ttotal: 4.97s\tremaining: 2.75s\n",
      "644:\tlearn: 0.1906282\ttotal: 4.98s\tremaining: 2.74s\n",
      "645:\tlearn: 0.1905442\ttotal: 4.99s\tremaining: 2.73s\n",
      "646:\tlearn: 0.1902084\ttotal: 4.99s\tremaining: 2.73s\n",
      "647:\tlearn: 0.1899303\ttotal: 5s\tremaining: 2.72s\n",
      "648:\tlearn: 0.1896308\ttotal: 5.01s\tremaining: 2.71s\n",
      "649:\tlearn: 0.1895407\ttotal: 5.01s\tremaining: 2.7s\n",
      "650:\tlearn: 0.1894220\ttotal: 5.02s\tremaining: 2.69s\n",
      "651:\tlearn: 0.1893511\ttotal: 5.03s\tremaining: 2.68s\n",
      "652:\tlearn: 0.1890709\ttotal: 5.03s\tremaining: 2.67s\n",
      "653:\tlearn: 0.1888088\ttotal: 5.04s\tremaining: 2.67s\n",
      "654:\tlearn: 0.1887542\ttotal: 5.04s\tremaining: 2.66s\n",
      "655:\tlearn: 0.1886527\ttotal: 5.05s\tremaining: 2.65s\n",
      "656:\tlearn: 0.1884995\ttotal: 5.06s\tremaining: 2.64s\n",
      "657:\tlearn: 0.1883208\ttotal: 5.06s\tremaining: 2.63s\n",
      "658:\tlearn: 0.1880505\ttotal: 5.07s\tremaining: 2.62s\n",
      "659:\tlearn: 0.1879141\ttotal: 5.08s\tremaining: 2.62s\n",
      "660:\tlearn: 0.1876449\ttotal: 5.09s\tremaining: 2.61s\n",
      "661:\tlearn: 0.1875593\ttotal: 5.11s\tremaining: 2.61s\n",
      "662:\tlearn: 0.1872452\ttotal: 5.12s\tremaining: 2.6s\n",
      "663:\tlearn: 0.1869580\ttotal: 5.12s\tremaining: 2.59s\n",
      "664:\tlearn: 0.1868922\ttotal: 5.13s\tremaining: 2.58s\n",
      "665:\tlearn: 0.1866549\ttotal: 5.14s\tremaining: 2.58s\n",
      "666:\tlearn: 0.1866130\ttotal: 5.15s\tremaining: 2.57s\n",
      "667:\tlearn: 0.1863368\ttotal: 5.15s\tremaining: 2.56s\n",
      "668:\tlearn: 0.1860901\ttotal: 5.16s\tremaining: 2.55s\n",
      "669:\tlearn: 0.1859030\ttotal: 5.17s\tremaining: 2.54s\n",
      "670:\tlearn: 0.1858329\ttotal: 5.17s\tremaining: 2.54s\n",
      "671:\tlearn: 0.1855422\ttotal: 5.18s\tremaining: 2.53s\n",
      "672:\tlearn: 0.1854484\ttotal: 5.18s\tremaining: 2.52s\n",
      "673:\tlearn: 0.1853271\ttotal: 5.19s\tremaining: 2.51s\n",
      "674:\tlearn: 0.1852078\ttotal: 5.2s\tremaining: 2.5s\n",
      "675:\tlearn: 0.1849872\ttotal: 5.2s\tremaining: 2.49s\n",
      "676:\tlearn: 0.1848836\ttotal: 5.21s\tremaining: 2.48s\n",
      "677:\tlearn: 0.1846815\ttotal: 5.21s\tremaining: 2.48s\n",
      "678:\tlearn: 0.1846240\ttotal: 5.22s\tremaining: 2.47s\n",
      "679:\tlearn: 0.1844449\ttotal: 5.23s\tremaining: 2.46s\n",
      "680:\tlearn: 0.1843255\ttotal: 5.23s\tremaining: 2.45s\n",
      "681:\tlearn: 0.1840704\ttotal: 5.24s\tremaining: 2.44s\n",
      "682:\tlearn: 0.1838086\ttotal: 5.25s\tremaining: 2.44s\n",
      "683:\tlearn: 0.1834222\ttotal: 5.25s\tremaining: 2.43s\n",
      "684:\tlearn: 0.1832817\ttotal: 5.26s\tremaining: 2.42s\n",
      "685:\tlearn: 0.1829902\ttotal: 5.27s\tremaining: 2.41s\n",
      "686:\tlearn: 0.1828110\ttotal: 5.27s\tremaining: 2.4s\n",
      "687:\tlearn: 0.1827383\ttotal: 5.28s\tremaining: 2.4s\n",
      "688:\tlearn: 0.1825982\ttotal: 5.29s\tremaining: 2.39s\n",
      "689:\tlearn: 0.1824984\ttotal: 5.29s\tremaining: 2.38s\n",
      "690:\tlearn: 0.1822201\ttotal: 5.3s\tremaining: 2.37s\n",
      "691:\tlearn: 0.1820752\ttotal: 5.31s\tremaining: 2.36s\n",
      "692:\tlearn: 0.1817802\ttotal: 5.31s\tremaining: 2.35s\n",
      "693:\tlearn: 0.1816885\ttotal: 5.32s\tremaining: 2.35s\n",
      "694:\tlearn: 0.1814960\ttotal: 5.33s\tremaining: 2.34s\n",
      "695:\tlearn: 0.1813133\ttotal: 5.33s\tremaining: 2.33s\n",
      "696:\tlearn: 0.1811585\ttotal: 5.34s\tremaining: 2.32s\n",
      "697:\tlearn: 0.1808723\ttotal: 5.34s\tremaining: 2.31s\n",
      "698:\tlearn: 0.1808525\ttotal: 5.35s\tremaining: 2.3s\n",
      "699:\tlearn: 0.1805770\ttotal: 5.36s\tremaining: 2.3s\n",
      "700:\tlearn: 0.1804542\ttotal: 5.37s\tremaining: 2.29s\n",
      "701:\tlearn: 0.1803906\ttotal: 5.37s\tremaining: 2.28s\n",
      "702:\tlearn: 0.1802192\ttotal: 5.38s\tremaining: 2.27s\n",
      "703:\tlearn: 0.1801985\ttotal: 5.38s\tremaining: 2.26s\n",
      "704:\tlearn: 0.1800174\ttotal: 5.39s\tremaining: 2.26s\n",
      "705:\tlearn: 0.1796824\ttotal: 5.4s\tremaining: 2.25s\n",
      "706:\tlearn: 0.1796048\ttotal: 5.41s\tremaining: 2.24s\n",
      "707:\tlearn: 0.1795489\ttotal: 5.41s\tremaining: 2.23s\n",
      "708:\tlearn: 0.1792794\ttotal: 5.42s\tremaining: 2.22s\n",
      "709:\tlearn: 0.1791504\ttotal: 5.42s\tremaining: 2.21s\n",
      "710:\tlearn: 0.1790410\ttotal: 5.43s\tremaining: 2.21s\n",
      "711:\tlearn: 0.1788260\ttotal: 5.44s\tremaining: 2.2s\n",
      "712:\tlearn: 0.1787121\ttotal: 5.44s\tremaining: 2.19s\n",
      "713:\tlearn: 0.1786439\ttotal: 5.45s\tremaining: 2.18s\n",
      "714:\tlearn: 0.1780920\ttotal: 5.46s\tremaining: 2.17s\n",
      "715:\tlearn: 0.1778957\ttotal: 5.46s\tremaining: 2.17s\n",
      "716:\tlearn: 0.1777989\ttotal: 5.47s\tremaining: 2.16s\n",
      "717:\tlearn: 0.1777699\ttotal: 5.47s\tremaining: 2.15s\n",
      "718:\tlearn: 0.1776441\ttotal: 5.48s\tremaining: 2.14s\n",
      "719:\tlearn: 0.1774377\ttotal: 5.49s\tremaining: 2.13s\n",
      "720:\tlearn: 0.1772687\ttotal: 5.49s\tremaining: 2.13s\n",
      "721:\tlearn: 0.1771511\ttotal: 5.5s\tremaining: 2.12s\n",
      "722:\tlearn: 0.1769838\ttotal: 5.51s\tremaining: 2.11s\n",
      "723:\tlearn: 0.1768354\ttotal: 5.51s\tremaining: 2.1s\n",
      "724:\tlearn: 0.1766237\ttotal: 5.52s\tremaining: 2.09s\n",
      "725:\tlearn: 0.1764645\ttotal: 5.53s\tremaining: 2.08s\n",
      "726:\tlearn: 0.1763579\ttotal: 5.53s\tremaining: 2.08s\n",
      "727:\tlearn: 0.1763106\ttotal: 5.54s\tremaining: 2.07s\n",
      "728:\tlearn: 0.1762003\ttotal: 5.54s\tremaining: 2.06s\n",
      "729:\tlearn: 0.1760050\ttotal: 5.55s\tremaining: 2.05s\n",
      "730:\tlearn: 0.1755256\ttotal: 5.56s\tremaining: 2.04s\n",
      "731:\tlearn: 0.1753833\ttotal: 5.56s\tremaining: 2.04s\n",
      "732:\tlearn: 0.1750505\ttotal: 5.57s\tremaining: 2.03s\n",
      "733:\tlearn: 0.1749053\ttotal: 5.58s\tremaining: 2.02s\n",
      "734:\tlearn: 0.1748735\ttotal: 5.58s\tremaining: 2.01s\n",
      "735:\tlearn: 0.1747381\ttotal: 5.59s\tremaining: 2s\n",
      "736:\tlearn: 0.1745414\ttotal: 5.59s\tremaining: 2s\n",
      "737:\tlearn: 0.1742614\ttotal: 5.6s\tremaining: 1.99s\n",
      "738:\tlearn: 0.1742023\ttotal: 5.61s\tremaining: 1.98s\n",
      "739:\tlearn: 0.1741135\ttotal: 5.61s\tremaining: 1.97s\n",
      "740:\tlearn: 0.1740313\ttotal: 5.62s\tremaining: 1.96s\n",
      "741:\tlearn: 0.1739410\ttotal: 5.63s\tremaining: 1.96s\n",
      "742:\tlearn: 0.1738456\ttotal: 5.63s\tremaining: 1.95s\n",
      "743:\tlearn: 0.1737694\ttotal: 5.64s\tremaining: 1.94s\n",
      "744:\tlearn: 0.1735627\ttotal: 5.64s\tremaining: 1.93s\n",
      "745:\tlearn: 0.1735109\ttotal: 5.65s\tremaining: 1.92s\n",
      "746:\tlearn: 0.1734309\ttotal: 5.66s\tremaining: 1.92s\n",
      "747:\tlearn: 0.1731902\ttotal: 5.66s\tremaining: 1.91s\n",
      "748:\tlearn: 0.1729853\ttotal: 5.67s\tremaining: 1.9s\n",
      "749:\tlearn: 0.1728725\ttotal: 5.68s\tremaining: 1.89s\n",
      "750:\tlearn: 0.1728335\ttotal: 5.68s\tremaining: 1.88s\n",
      "751:\tlearn: 0.1727450\ttotal: 5.69s\tremaining: 1.88s\n",
      "752:\tlearn: 0.1726938\ttotal: 5.7s\tremaining: 1.87s\n",
      "753:\tlearn: 0.1725767\ttotal: 5.7s\tremaining: 1.86s\n",
      "754:\tlearn: 0.1723721\ttotal: 5.71s\tremaining: 1.85s\n",
      "755:\tlearn: 0.1721354\ttotal: 5.71s\tremaining: 1.84s\n",
      "756:\tlearn: 0.1720137\ttotal: 5.72s\tremaining: 1.84s\n",
      "757:\tlearn: 0.1716723\ttotal: 5.73s\tremaining: 1.83s\n",
      "758:\tlearn: 0.1715393\ttotal: 5.73s\tremaining: 1.82s\n",
      "759:\tlearn: 0.1714002\ttotal: 5.74s\tremaining: 1.81s\n",
      "760:\tlearn: 0.1712470\ttotal: 5.75s\tremaining: 1.8s\n",
      "761:\tlearn: 0.1709795\ttotal: 5.75s\tremaining: 1.8s\n",
      "762:\tlearn: 0.1709281\ttotal: 5.76s\tremaining: 1.79s\n",
      "763:\tlearn: 0.1707349\ttotal: 5.76s\tremaining: 1.78s\n",
      "764:\tlearn: 0.1703326\ttotal: 5.77s\tremaining: 1.77s\n",
      "765:\tlearn: 0.1700791\ttotal: 5.78s\tremaining: 1.76s\n",
      "766:\tlearn: 0.1698827\ttotal: 5.79s\tremaining: 1.76s\n",
      "767:\tlearn: 0.1696706\ttotal: 5.79s\tremaining: 1.75s\n",
      "768:\tlearn: 0.1695861\ttotal: 5.8s\tremaining: 1.74s\n",
      "769:\tlearn: 0.1693722\ttotal: 5.81s\tremaining: 1.73s\n",
      "770:\tlearn: 0.1692132\ttotal: 5.81s\tremaining: 1.73s\n",
      "771:\tlearn: 0.1691162\ttotal: 5.82s\tremaining: 1.72s\n",
      "772:\tlearn: 0.1689340\ttotal: 5.83s\tremaining: 1.71s\n",
      "773:\tlearn: 0.1688519\ttotal: 5.83s\tremaining: 1.7s\n",
      "774:\tlearn: 0.1687837\ttotal: 5.84s\tremaining: 1.7s\n",
      "775:\tlearn: 0.1686614\ttotal: 5.85s\tremaining: 1.69s\n",
      "776:\tlearn: 0.1685603\ttotal: 5.85s\tremaining: 1.68s\n",
      "777:\tlearn: 0.1685121\ttotal: 5.86s\tremaining: 1.67s\n",
      "778:\tlearn: 0.1683687\ttotal: 5.87s\tremaining: 1.66s\n",
      "779:\tlearn: 0.1681726\ttotal: 5.87s\tremaining: 1.66s\n",
      "780:\tlearn: 0.1680807\ttotal: 5.88s\tremaining: 1.65s\n",
      "781:\tlearn: 0.1680481\ttotal: 5.88s\tremaining: 1.64s\n",
      "782:\tlearn: 0.1679497\ttotal: 5.89s\tremaining: 1.63s\n",
      "783:\tlearn: 0.1677083\ttotal: 5.9s\tremaining: 1.62s\n",
      "784:\tlearn: 0.1676152\ttotal: 5.9s\tremaining: 1.62s\n",
      "785:\tlearn: 0.1674373\ttotal: 5.91s\tremaining: 1.61s\n",
      "786:\tlearn: 0.1672563\ttotal: 5.91s\tremaining: 1.6s\n",
      "787:\tlearn: 0.1671818\ttotal: 5.92s\tremaining: 1.59s\n",
      "788:\tlearn: 0.1670409\ttotal: 5.93s\tremaining: 1.58s\n",
      "789:\tlearn: 0.1669627\ttotal: 5.93s\tremaining: 1.58s\n",
      "790:\tlearn: 0.1669034\ttotal: 5.94s\tremaining: 1.57s\n",
      "791:\tlearn: 0.1668027\ttotal: 5.95s\tremaining: 1.56s\n",
      "792:\tlearn: 0.1666930\ttotal: 5.95s\tremaining: 1.55s\n",
      "793:\tlearn: 0.1665594\ttotal: 5.96s\tremaining: 1.55s\n",
      "794:\tlearn: 0.1664057\ttotal: 5.97s\tremaining: 1.54s\n",
      "795:\tlearn: 0.1663089\ttotal: 5.97s\tremaining: 1.53s\n",
      "796:\tlearn: 0.1662663\ttotal: 5.98s\tremaining: 1.52s\n",
      "797:\tlearn: 0.1661464\ttotal: 5.99s\tremaining: 1.51s\n",
      "798:\tlearn: 0.1660432\ttotal: 5.99s\tremaining: 1.51s\n",
      "799:\tlearn: 0.1659683\ttotal: 6s\tremaining: 1.5s\n",
      "800:\tlearn: 0.1658000\ttotal: 6.01s\tremaining: 1.49s\n",
      "801:\tlearn: 0.1656868\ttotal: 6.01s\tremaining: 1.48s\n",
      "802:\tlearn: 0.1655306\ttotal: 6.02s\tremaining: 1.48s\n",
      "803:\tlearn: 0.1654946\ttotal: 6.03s\tremaining: 1.47s\n",
      "804:\tlearn: 0.1654471\ttotal: 6.03s\tremaining: 1.46s\n",
      "805:\tlearn: 0.1652291\ttotal: 6.04s\tremaining: 1.45s\n",
      "806:\tlearn: 0.1650772\ttotal: 6.04s\tremaining: 1.45s\n",
      "807:\tlearn: 0.1648932\ttotal: 6.05s\tremaining: 1.44s\n",
      "808:\tlearn: 0.1648225\ttotal: 6.06s\tremaining: 1.43s\n",
      "809:\tlearn: 0.1647174\ttotal: 6.06s\tremaining: 1.42s\n",
      "810:\tlearn: 0.1645687\ttotal: 6.07s\tremaining: 1.41s\n",
      "811:\tlearn: 0.1644576\ttotal: 6.08s\tremaining: 1.41s\n",
      "812:\tlearn: 0.1644053\ttotal: 6.08s\tremaining: 1.4s\n",
      "813:\tlearn: 0.1643612\ttotal: 6.09s\tremaining: 1.39s\n",
      "814:\tlearn: 0.1641313\ttotal: 6.09s\tremaining: 1.38s\n",
      "815:\tlearn: 0.1639400\ttotal: 6.1s\tremaining: 1.38s\n",
      "816:\tlearn: 0.1638067\ttotal: 6.11s\tremaining: 1.37s\n",
      "817:\tlearn: 0.1636125\ttotal: 6.11s\tremaining: 1.36s\n",
      "818:\tlearn: 0.1635406\ttotal: 6.12s\tremaining: 1.35s\n",
      "819:\tlearn: 0.1633179\ttotal: 6.13s\tremaining: 1.34s\n",
      "820:\tlearn: 0.1632418\ttotal: 6.13s\tremaining: 1.34s\n",
      "821:\tlearn: 0.1631724\ttotal: 6.14s\tremaining: 1.33s\n",
      "822:\tlearn: 0.1630509\ttotal: 6.15s\tremaining: 1.32s\n",
      "823:\tlearn: 0.1629466\ttotal: 6.15s\tremaining: 1.31s\n",
      "824:\tlearn: 0.1628406\ttotal: 6.16s\tremaining: 1.31s\n",
      "825:\tlearn: 0.1627202\ttotal: 6.17s\tremaining: 1.3s\n",
      "826:\tlearn: 0.1626581\ttotal: 6.17s\tremaining: 1.29s\n",
      "827:\tlearn: 0.1621762\ttotal: 6.18s\tremaining: 1.28s\n",
      "828:\tlearn: 0.1621329\ttotal: 6.18s\tremaining: 1.27s\n",
      "829:\tlearn: 0.1620419\ttotal: 6.19s\tremaining: 1.27s\n",
      "830:\tlearn: 0.1619991\ttotal: 6.2s\tremaining: 1.26s\n",
      "831:\tlearn: 0.1618973\ttotal: 6.2s\tremaining: 1.25s\n",
      "832:\tlearn: 0.1617031\ttotal: 6.21s\tremaining: 1.24s\n",
      "833:\tlearn: 0.1615245\ttotal: 6.21s\tremaining: 1.24s\n",
      "834:\tlearn: 0.1613463\ttotal: 6.22s\tremaining: 1.23s\n",
      "835:\tlearn: 0.1613250\ttotal: 6.23s\tremaining: 1.22s\n",
      "836:\tlearn: 0.1610684\ttotal: 6.23s\tremaining: 1.21s\n",
      "837:\tlearn: 0.1609123\ttotal: 6.24s\tremaining: 1.21s\n",
      "838:\tlearn: 0.1608867\ttotal: 6.25s\tremaining: 1.2s\n",
      "839:\tlearn: 0.1607943\ttotal: 6.25s\tremaining: 1.19s\n",
      "840:\tlearn: 0.1606671\ttotal: 6.26s\tremaining: 1.18s\n",
      "841:\tlearn: 0.1605069\ttotal: 6.27s\tremaining: 1.18s\n",
      "842:\tlearn: 0.1602795\ttotal: 6.27s\tremaining: 1.17s\n",
      "843:\tlearn: 0.1601266\ttotal: 6.28s\tremaining: 1.16s\n",
      "844:\tlearn: 0.1600774\ttotal: 6.29s\tremaining: 1.15s\n",
      "845:\tlearn: 0.1598912\ttotal: 6.29s\tremaining: 1.15s\n",
      "846:\tlearn: 0.1596762\ttotal: 6.3s\tremaining: 1.14s\n",
      "847:\tlearn: 0.1596095\ttotal: 6.3s\tremaining: 1.13s\n",
      "848:\tlearn: 0.1594793\ttotal: 6.31s\tremaining: 1.12s\n",
      "849:\tlearn: 0.1593924\ttotal: 6.32s\tremaining: 1.11s\n",
      "850:\tlearn: 0.1592492\ttotal: 6.32s\tremaining: 1.11s\n",
      "851:\tlearn: 0.1591932\ttotal: 6.33s\tremaining: 1.1s\n",
      "852:\tlearn: 0.1589335\ttotal: 6.34s\tremaining: 1.09s\n",
      "853:\tlearn: 0.1588554\ttotal: 6.34s\tremaining: 1.08s\n",
      "854:\tlearn: 0.1587447\ttotal: 6.35s\tremaining: 1.08s\n",
      "855:\tlearn: 0.1586448\ttotal: 6.36s\tremaining: 1.07s\n",
      "856:\tlearn: 0.1585501\ttotal: 6.36s\tremaining: 1.06s\n",
      "857:\tlearn: 0.1584954\ttotal: 6.37s\tremaining: 1.05s\n",
      "858:\tlearn: 0.1583736\ttotal: 6.38s\tremaining: 1.05s\n",
      "859:\tlearn: 0.1582207\ttotal: 6.38s\tremaining: 1.04s\n",
      "860:\tlearn: 0.1580851\ttotal: 6.39s\tremaining: 1.03s\n",
      "861:\tlearn: 0.1578800\ttotal: 6.4s\tremaining: 1.02s\n",
      "862:\tlearn: 0.1577899\ttotal: 6.4s\tremaining: 1.02s\n",
      "863:\tlearn: 0.1576882\ttotal: 6.41s\tremaining: 1.01s\n",
      "864:\tlearn: 0.1574692\ttotal: 6.42s\tremaining: 1s\n",
      "865:\tlearn: 0.1573461\ttotal: 6.42s\tremaining: 994ms\n",
      "866:\tlearn: 0.1571671\ttotal: 6.43s\tremaining: 986ms\n",
      "867:\tlearn: 0.1570387\ttotal: 6.44s\tremaining: 979ms\n",
      "868:\tlearn: 0.1569303\ttotal: 6.44s\tremaining: 971ms\n",
      "869:\tlearn: 0.1569106\ttotal: 6.45s\tremaining: 964ms\n",
      "870:\tlearn: 0.1567962\ttotal: 6.46s\tremaining: 956ms\n",
      "871:\tlearn: 0.1566840\ttotal: 6.46s\tremaining: 949ms\n",
      "872:\tlearn: 0.1565694\ttotal: 6.47s\tremaining: 941ms\n",
      "873:\tlearn: 0.1565101\ttotal: 6.47s\tremaining: 933ms\n",
      "874:\tlearn: 0.1564311\ttotal: 6.48s\tremaining: 926ms\n",
      "875:\tlearn: 0.1563431\ttotal: 6.49s\tremaining: 918ms\n",
      "876:\tlearn: 0.1562274\ttotal: 6.49s\tremaining: 911ms\n",
      "877:\tlearn: 0.1561050\ttotal: 6.5s\tremaining: 903ms\n",
      "878:\tlearn: 0.1560125\ttotal: 6.51s\tremaining: 896ms\n",
      "879:\tlearn: 0.1559247\ttotal: 6.51s\tremaining: 888ms\n",
      "880:\tlearn: 0.1555922\ttotal: 6.52s\tremaining: 881ms\n",
      "881:\tlearn: 0.1555198\ttotal: 6.53s\tremaining: 873ms\n",
      "882:\tlearn: 0.1554385\ttotal: 6.53s\tremaining: 866ms\n",
      "883:\tlearn: 0.1552407\ttotal: 6.54s\tremaining: 858ms\n",
      "884:\tlearn: 0.1551467\ttotal: 6.54s\tremaining: 851ms\n",
      "885:\tlearn: 0.1551385\ttotal: 6.55s\tremaining: 843ms\n",
      "886:\tlearn: 0.1548843\ttotal: 6.56s\tremaining: 836ms\n",
      "887:\tlearn: 0.1547056\ttotal: 6.57s\tremaining: 828ms\n",
      "888:\tlearn: 0.1546479\ttotal: 6.57s\tremaining: 821ms\n",
      "889:\tlearn: 0.1544504\ttotal: 6.58s\tremaining: 813ms\n",
      "890:\tlearn: 0.1544317\ttotal: 6.58s\tremaining: 806ms\n",
      "891:\tlearn: 0.1541357\ttotal: 6.59s\tremaining: 798ms\n",
      "892:\tlearn: 0.1540461\ttotal: 6.6s\tremaining: 791ms\n",
      "893:\tlearn: 0.1538949\ttotal: 6.61s\tremaining: 783ms\n",
      "894:\tlearn: 0.1534677\ttotal: 6.61s\tremaining: 776ms\n",
      "895:\tlearn: 0.1531336\ttotal: 6.62s\tremaining: 768ms\n",
      "896:\tlearn: 0.1528642\ttotal: 6.63s\tremaining: 761ms\n",
      "897:\tlearn: 0.1527164\ttotal: 6.63s\tremaining: 753ms\n",
      "898:\tlearn: 0.1524799\ttotal: 6.64s\tremaining: 746ms\n",
      "899:\tlearn: 0.1524370\ttotal: 6.64s\tremaining: 738ms\n",
      "900:\tlearn: 0.1521060\ttotal: 6.65s\tremaining: 731ms\n",
      "901:\tlearn: 0.1520075\ttotal: 6.66s\tremaining: 723ms\n",
      "902:\tlearn: 0.1518581\ttotal: 6.66s\tremaining: 716ms\n",
      "903:\tlearn: 0.1516718\ttotal: 6.67s\tremaining: 708ms\n",
      "904:\tlearn: 0.1515373\ttotal: 6.68s\tremaining: 701ms\n",
      "905:\tlearn: 0.1514173\ttotal: 6.68s\tremaining: 693ms\n",
      "906:\tlearn: 0.1511624\ttotal: 6.69s\tremaining: 686ms\n",
      "907:\tlearn: 0.1509829\ttotal: 6.7s\tremaining: 678ms\n",
      "908:\tlearn: 0.1508227\ttotal: 6.7s\tremaining: 671ms\n",
      "909:\tlearn: 0.1506506\ttotal: 6.71s\tremaining: 663ms\n",
      "910:\tlearn: 0.1504523\ttotal: 6.71s\tremaining: 656ms\n",
      "911:\tlearn: 0.1501825\ttotal: 6.72s\tremaining: 649ms\n",
      "912:\tlearn: 0.1501194\ttotal: 6.73s\tremaining: 641ms\n",
      "913:\tlearn: 0.1499061\ttotal: 6.73s\tremaining: 634ms\n",
      "914:\tlearn: 0.1497171\ttotal: 6.74s\tremaining: 626ms\n",
      "915:\tlearn: 0.1496169\ttotal: 6.75s\tremaining: 619ms\n",
      "916:\tlearn: 0.1493875\ttotal: 6.75s\tremaining: 611ms\n",
      "917:\tlearn: 0.1492446\ttotal: 6.76s\tremaining: 604ms\n",
      "918:\tlearn: 0.1492039\ttotal: 6.77s\tremaining: 596ms\n",
      "919:\tlearn: 0.1490632\ttotal: 6.77s\tremaining: 589ms\n",
      "920:\tlearn: 0.1488708\ttotal: 6.78s\tremaining: 582ms\n",
      "921:\tlearn: 0.1486495\ttotal: 6.79s\tremaining: 574ms\n",
      "922:\tlearn: 0.1486012\ttotal: 6.79s\tremaining: 567ms\n",
      "923:\tlearn: 0.1485786\ttotal: 6.8s\tremaining: 559ms\n",
      "924:\tlearn: 0.1484376\ttotal: 6.8s\tremaining: 552ms\n",
      "925:\tlearn: 0.1484042\ttotal: 6.81s\tremaining: 544ms\n",
      "926:\tlearn: 0.1483628\ttotal: 6.82s\tremaining: 537ms\n",
      "927:\tlearn: 0.1482405\ttotal: 6.82s\tremaining: 529ms\n",
      "928:\tlearn: 0.1479832\ttotal: 6.83s\tremaining: 522ms\n",
      "929:\tlearn: 0.1477564\ttotal: 6.84s\tremaining: 515ms\n",
      "930:\tlearn: 0.1477036\ttotal: 6.84s\tremaining: 507ms\n",
      "931:\tlearn: 0.1475837\ttotal: 6.85s\tremaining: 500ms\n",
      "932:\tlearn: 0.1475429\ttotal: 6.86s\tremaining: 492ms\n",
      "933:\tlearn: 0.1474745\ttotal: 6.86s\tremaining: 485ms\n",
      "934:\tlearn: 0.1473750\ttotal: 6.87s\tremaining: 478ms\n",
      "935:\tlearn: 0.1472671\ttotal: 6.88s\tremaining: 470ms\n",
      "936:\tlearn: 0.1472079\ttotal: 6.88s\tremaining: 463ms\n",
      "937:\tlearn: 0.1470928\ttotal: 6.89s\tremaining: 456ms\n",
      "938:\tlearn: 0.1469404\ttotal: 6.9s\tremaining: 448ms\n",
      "939:\tlearn: 0.1468665\ttotal: 6.9s\tremaining: 441ms\n",
      "940:\tlearn: 0.1468225\ttotal: 6.91s\tremaining: 433ms\n",
      "941:\tlearn: 0.1467558\ttotal: 6.92s\tremaining: 426ms\n",
      "942:\tlearn: 0.1466506\ttotal: 6.92s\tremaining: 419ms\n",
      "943:\tlearn: 0.1464354\ttotal: 6.93s\tremaining: 411ms\n",
      "944:\tlearn: 0.1463950\ttotal: 6.94s\tremaining: 404ms\n",
      "945:\tlearn: 0.1462151\ttotal: 6.95s\tremaining: 396ms\n",
      "946:\tlearn: 0.1461005\ttotal: 6.95s\tremaining: 389ms\n",
      "947:\tlearn: 0.1458669\ttotal: 6.96s\tremaining: 382ms\n",
      "948:\tlearn: 0.1456570\ttotal: 6.96s\tremaining: 374ms\n",
      "949:\tlearn: 0.1454898\ttotal: 6.97s\tremaining: 367ms\n",
      "950:\tlearn: 0.1454050\ttotal: 6.98s\tremaining: 360ms\n",
      "951:\tlearn: 0.1452828\ttotal: 6.98s\tremaining: 352ms\n",
      "952:\tlearn: 0.1452165\ttotal: 6.99s\tremaining: 345ms\n",
      "953:\tlearn: 0.1451352\ttotal: 7s\tremaining: 337ms\n",
      "954:\tlearn: 0.1450720\ttotal: 7s\tremaining: 330ms\n",
      "955:\tlearn: 0.1449261\ttotal: 7.01s\tremaining: 323ms\n",
      "956:\tlearn: 0.1447683\ttotal: 7.02s\tremaining: 315ms\n",
      "957:\tlearn: 0.1446297\ttotal: 7.02s\tremaining: 308ms\n",
      "958:\tlearn: 0.1445551\ttotal: 7.03s\tremaining: 301ms\n",
      "959:\tlearn: 0.1445052\ttotal: 7.04s\tremaining: 293ms\n",
      "960:\tlearn: 0.1444621\ttotal: 7.05s\tremaining: 286ms\n",
      "961:\tlearn: 0.1443698\ttotal: 7.05s\tremaining: 279ms\n",
      "962:\tlearn: 0.1442905\ttotal: 7.06s\tremaining: 271ms\n",
      "963:\tlearn: 0.1442272\ttotal: 7.07s\tremaining: 264ms\n",
      "964:\tlearn: 0.1441472\ttotal: 7.07s\tremaining: 257ms\n",
      "965:\tlearn: 0.1439901\ttotal: 7.08s\tremaining: 249ms\n",
      "966:\tlearn: 0.1438415\ttotal: 7.08s\tremaining: 242ms\n",
      "967:\tlearn: 0.1437447\ttotal: 7.09s\tremaining: 234ms\n",
      "968:\tlearn: 0.1435788\ttotal: 7.1s\tremaining: 227ms\n",
      "969:\tlearn: 0.1434277\ttotal: 7.1s\tremaining: 220ms\n",
      "970:\tlearn: 0.1433746\ttotal: 7.11s\tremaining: 212ms\n",
      "971:\tlearn: 0.1430636\ttotal: 7.12s\tremaining: 205ms\n",
      "972:\tlearn: 0.1429891\ttotal: 7.12s\tremaining: 198ms\n",
      "973:\tlearn: 0.1429375\ttotal: 7.13s\tremaining: 190ms\n",
      "974:\tlearn: 0.1428362\ttotal: 7.13s\tremaining: 183ms\n",
      "975:\tlearn: 0.1427503\ttotal: 7.14s\tremaining: 176ms\n",
      "976:\tlearn: 0.1426863\ttotal: 7.15s\tremaining: 168ms\n",
      "977:\tlearn: 0.1425571\ttotal: 7.15s\tremaining: 161ms\n",
      "978:\tlearn: 0.1423732\ttotal: 7.16s\tremaining: 154ms\n",
      "979:\tlearn: 0.1421812\ttotal: 7.17s\tremaining: 146ms\n",
      "980:\tlearn: 0.1419169\ttotal: 7.17s\tremaining: 139ms\n",
      "981:\tlearn: 0.1418316\ttotal: 7.18s\tremaining: 132ms\n",
      "982:\tlearn: 0.1417395\ttotal: 7.19s\tremaining: 124ms\n",
      "983:\tlearn: 0.1416674\ttotal: 7.19s\tremaining: 117ms\n",
      "984:\tlearn: 0.1414366\ttotal: 7.2s\tremaining: 110ms\n",
      "985:\tlearn: 0.1413770\ttotal: 7.21s\tremaining: 102ms\n",
      "986:\tlearn: 0.1412383\ttotal: 7.21s\tremaining: 95ms\n",
      "987:\tlearn: 0.1410093\ttotal: 7.22s\tremaining: 87.7ms\n",
      "988:\tlearn: 0.1409894\ttotal: 7.23s\tremaining: 80.4ms\n",
      "989:\tlearn: 0.1407297\ttotal: 7.23s\tremaining: 73.1ms\n",
      "990:\tlearn: 0.1406874\ttotal: 7.24s\tremaining: 65.7ms\n",
      "991:\tlearn: 0.1405583\ttotal: 7.25s\tremaining: 58.4ms\n",
      "992:\tlearn: 0.1403951\ttotal: 7.25s\tremaining: 51.1ms\n",
      "993:\tlearn: 0.1403276\ttotal: 7.26s\tremaining: 43.8ms\n",
      "994:\tlearn: 0.1403140\ttotal: 7.26s\tremaining: 36.5ms\n",
      "995:\tlearn: 0.1402604\ttotal: 7.27s\tremaining: 29.2ms\n",
      "996:\tlearn: 0.1399704\ttotal: 7.28s\tremaining: 21.9ms\n",
      "997:\tlearn: 0.1398822\ttotal: 7.28s\tremaining: 14.6ms\n",
      "998:\tlearn: 0.1397032\ttotal: 7.29s\tremaining: 7.3ms\n",
      "999:\tlearn: 0.1395982\ttotal: 7.3s\tremaining: 0us\n"
     ]
    },
    {
     "data": {
      "image/png": "[encoded data removed]",
      "text/plain": [
       "<Figure size 864x576 with 2 Axes>"
      ]
     },
     "metadata": {
      "needs_background": "light"
     },
     "output_type": "display_data"
    },
    {
     "data": {
      "text/plain": [
       "0.7440295952647744"
      ]
     },
     "execution_count": 134,
     "metadata": {},
     "output_type": "execute_result"
    }
   ],
   "source": [
    "model = CatBoostClassifier(**study.best_trial.params)\n",
    "# model = CatBoostClassifier(verbose=0, boosting_type= 'Plain', bootstrap_type= 'MVS')\n",
    "x_train, y_train = upsample_training_data_with_SMOTE(df_train.drop(['y'], axis=1), df_train['y'])\n",
    "# x_train,y_train = df_train.drop(['y'], axis=1), df_train['y']\n",
    "model.fit(x_train, y_train)\n",
    "evaluate_performance_on_test_set(model, df_test)"
   ]
  },
  {
   "cell_type": "code",
   "execution_count": null,
   "metadata": {},
   "outputs": [],
   "source": []
  }
 ],
 "metadata": {
  "kernelspec": {
   "display_name": "multilabel",
   "language": "python",
   "name": "python3"
  },
  "language_info": {
   "codemirror_mode": {
    "name": "ipython",
    "version": 3
   },
   "file_extension": ".py",
   "mimetype": "text/x-python",
   "name": "python",
   "nbconvert_exporter": "python",
   "pygments_lexer": "ipython3",
   "version": "3.8.8"
  },
  "orig_nbformat": 4,
  "vscode": {
   "interpreter": {
    "hash": "b7b59352274534e2f4b7a412800b04afd9f693b832b0aee1ca0274716adc26a9"
   }
  }
 },
 "nbformat": 4,
 "nbformat_minor": 2
}
