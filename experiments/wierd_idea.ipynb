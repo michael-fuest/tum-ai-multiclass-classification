{
 "cells": [
  {
   "cell_type": "code",
   "execution_count": 15,
   "metadata": {},
   "outputs": [],
   "source": [
    "import pandas as pd\n",
    "import numpy as np\n",
    "import matplotlib.pyplot as plt\n",
    "\n",
    "from catboost import CatBoostClassifier\n",
    "from xgboost import XGBClassifier\n",
    "from sklearn.model_selection import train_test_split\n",
    "from sklearn.metrics import confusion_matrix, accuracy_score, roc_auc_score, roc_curve, auc\n",
    "\n",
    "## For kfold cross validation\n",
    "from sklearn.model_selection import KFold\n",
    "from sklearn.model_selection import cross_val_score\n"
   ]
  },
  {
   "cell_type": "code",
   "execution_count": 16,
   "metadata": {},
   "outputs": [],
   "source": [
    "train_dataframe = pd.read_csv('../data/train_processed.csv')"
   ]
  },
  {
   "cell_type": "code",
   "execution_count": 17,
   "metadata": {},
   "outputs": [],
   "source": [
    "model_features = ['x10','x9','x11','x5','x4','x2','x6','x8','x1']"
   ]
  },
  {
   "cell_type": "code",
   "execution_count": 29,
   "metadata": {},
   "outputs": [],
   "source": [
    "X,y = train_dataframe.drop('y', axis=1), train_dataframe['y']"
   ]
  },
  {
   "cell_type": "code",
   "execution_count": 13,
   "metadata": {},
   "outputs": [
    {
     "data": {
      "text/html": [
       "<style type=\"text/css\">\n",
       "#T_eb0ca_row0_col0, #T_eb0ca_row1_col1, #T_eb0ca_row2_col2 {\n",
       "  background-color: #08306b;\n",
       "  color: #f1f1f1;\n",
       "}\n",
       "#T_eb0ca_row0_col1, #T_eb0ca_row0_col2, #T_eb0ca_row1_col0 {\n",
       "  background-color: #f7fbff;\n",
       "  color: #000000;\n",
       "}\n",
       "#T_eb0ca_row1_col2 {\n",
       "  background-color: #c2d9ee;\n",
       "  color: #000000;\n",
       "}\n",
       "#T_eb0ca_row2_col0 {\n",
       "  background-color: #ecf4fb;\n",
       "  color: #000000;\n",
       "}\n",
       "#T_eb0ca_row2_col1 {\n",
       "  background-color: #9fcae1;\n",
       "  color: #000000;\n",
       "}\n",
       "</style>\n",
       "<table id=\"T_eb0ca_\">\n",
       "  <thead>\n",
       "    <tr>\n",
       "      <th class=\"blank level0\" >&nbsp;</th>\n",
       "      <th class=\"col_heading level0 col0\" >0</th>\n",
       "      <th class=\"col_heading level0 col1\" >1</th>\n",
       "      <th class=\"col_heading level0 col2\" >2</th>\n",
       "    </tr>\n",
       "  </thead>\n",
       "  <tbody>\n",
       "    <tr>\n",
       "      <th id=\"T_eb0ca_level0_row0\" class=\"row_heading level0 row0\" >0</th>\n",
       "      <td id=\"T_eb0ca_row0_col0\" class=\"data row0 col0\" >36</td>\n",
       "      <td id=\"T_eb0ca_row0_col1\" class=\"data row0 col1\" >2</td>\n",
       "      <td id=\"T_eb0ca_row0_col2\" class=\"data row0 col2\" >6</td>\n",
       "    </tr>\n",
       "    <tr>\n",
       "      <th id=\"T_eb0ca_level0_row1\" class=\"row_heading level0 row1\" >1</th>\n",
       "      <td id=\"T_eb0ca_row1_col0\" class=\"data row1 col0\" >1</td>\n",
       "      <td id=\"T_eb0ca_row1_col1\" class=\"data row1 col1\" >37</td>\n",
       "      <td id=\"T_eb0ca_row1_col2\" class=\"data row1 col2\" >24</td>\n",
       "    </tr>\n",
       "    <tr>\n",
       "      <th id=\"T_eb0ca_level0_row2\" class=\"row_heading level0 row2\" >2</th>\n",
       "      <td id=\"T_eb0ca_row2_col0\" class=\"data row2 col0\" >3</td>\n",
       "      <td id=\"T_eb0ca_row2_col1\" class=\"data row2 col1\" >15</td>\n",
       "      <td id=\"T_eb0ca_row2_col2\" class=\"data row2 col2\" >74</td>\n",
       "    </tr>\n",
       "  </tbody>\n",
       "</table>\n"
      ],
      "text/plain": [
       "<pandas.io.formats.style.Styler at 0x1957e0dabb0>"
      ]
     },
     "metadata": {},
     "output_type": "display_data"
    },
    {
     "name": "stdout",
     "output_type": "stream",
     "text": [
      "Accuracy score: 0.7424242424242424\n"
     ]
    }
   ],
   "source": [
    "## Fit and XGBoost model\n",
    "X_train, X_test, y_train, y_test = train_test_split(X, y, test_size=0.2, random_state=45)\n",
    "X_train,X_test = X_train[model_features], X_test[model_features]\n",
    "\n",
    "xgb = CatBoostClassifier(verbose=False)\n",
    "xgb.fit(X_train, y_train)\n",
    "\n",
    "## Get the confusion matrix\n",
    "y_pred = xgb.predict(X_test)\n",
    "display(pd.DataFrame(confusion_matrix(y_test, y_pred)).style.background_gradient(cmap='Blues'))\n",
    "\n",
    "## Get the accuracy score\n",
    "print(f'Accuracy score: {accuracy_score(y_test, y_pred)}')"
   ]
  },
  {
   "cell_type": "code",
   "execution_count": 28,
   "metadata": {},
   "outputs": [
    {
     "data": {
      "text/plain": [
       "Index(['x7_Hambo', 'x7_Polka', 'x7_Polskor', 'x7_Schottis', 'x7_Slängpolskor',\n",
       "       'x12_True', 'x1'],\n",
       "      dtype='object')"
      ]
     },
     "execution_count": 28,
     "metadata": {},
     "output_type": "execute_result"
    }
   ],
   "source": [
    "#Division \n",
    "for j in X_train.columns[:7]:\n",
    "        ## Fit and XGBoost model\n",
    "    xgb = CatBoostClassifier(verbose=False)\n",
    "    xgb.fit(X_train, y_train)\n",
    "\n",
    "    ## Get the confusion matrix\n",
    "    y_pred = xgb.predict(X_test)\n",
    "    display(pd.DataFrame(confusion_matrix(y_test, y_pred)).style.background_gradient(cmap='Blues'))\n",
    "\n",
    "    ## Get the accuracy score\n",
    "    print(f'Accuracy score: {accuracy_score(y_test, y_pred)}')"
   ]
  },
  {
   "cell_type": "code",
   "execution_count": null,
   "metadata": {},
   "outputs": [],
   "source": []
  }
 ],
 "metadata": {
  "kernelspec": {
   "display_name": "base",
   "language": "python",
   "name": "python3"
  },
  "language_info": {
   "codemirror_mode": {
    "name": "ipython",
    "version": 3
   },
   "file_extension": ".py",
   "mimetype": "text/x-python",
   "name": "python",
   "nbconvert_exporter": "python",
   "pygments_lexer": "ipython3",
   "version": "3.8.8"
  },
  "orig_nbformat": 4
 },
 "nbformat": 4,
 "nbformat_minor": 2
}
